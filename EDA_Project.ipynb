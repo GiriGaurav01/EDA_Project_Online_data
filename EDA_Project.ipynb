{
  "nbformat": 4,
  "nbformat_minor": 0,
  "metadata": {
    "colab": {
      "provenance": []
    },
    "kernelspec": {
      "name": "python3",
      "display_name": "Python 3"
    },
    "language_info": {
      "name": "python"
    }
  },
  "cells": [
    {
      "cell_type": "code",
      "execution_count": 1,
      "metadata": {
        "id": "K9HunxRRyxBI"
      },
      "outputs": [],
      "source": [
        "#loading important libraries\n",
        "\n",
        "import pandas as pd # for data manipulation and analysis\n",
        "import numpy as np  # for numerical calculation and to deal with vectors and matrices\n",
        "import seaborn as sns #for visualization\n",
        "from matplotlib import pyplot as plt #for visualization"
      ]
    },
    {
      "cell_type": "code",
      "source": [
        "#Reading the datasets\n",
        "\n",
        "df = pd.read_csv(\"online.csv\")\n",
        "# df = pd.read_csv(\"/content/online.csv\")"
      ],
      "metadata": {
        "id": "Qnma9Ai0znom"
      },
      "execution_count": 2,
      "outputs": []
    },
    {
      "cell_type": "code",
      "source": [
        "# Data Understanding and Exploration\n",
        "\n",
        "df.head(5) # It gives 5 rows. It helps us to understand columns and type of data"
      ],
      "metadata": {
        "colab": {
          "base_uri": "https://localhost:8080/",
          "height": 365
        },
        "id": "Pcc-0F721SI-",
        "outputId": "eaaba890-9447-4416-b280-7fc8c5a91b6b"
      },
      "execution_count": 3,
      "outputs": [
        {
          "output_type": "execute_result",
          "data": {
            "text/plain": [
              "   Unnamed: 0 order_status   Monthly Income  latitude Marital Status  Gender  \\\n",
              "0           0          Yes   25001 to 50000   13.0262        Married    Male   \n",
              "1           1          Yes        No Income   12.9770         Single    Male   \n",
              "2           2          Yes        No Income   12.9770         Single  Female   \n",
              "3           3          Yes        No Income   13.0019         Single  Female   \n",
              "4           4          Yes  More than 50000   13.0626        Married    Male   \n",
              "\n",
              "  employment_status  Family size   Reviews  Pin code   Age  longitude  \\\n",
              "0          Employee          5.0  Positive    560045  28.0    77.6200   \n",
              "1           Student          NaN  Positive    560009   NaN    77.5773   \n",
              "2           Student          NaN  Positive    560009   NaN    77.5773   \n",
              "3           Student          NaN  Positive    560003   NaN    77.5713   \n",
              "4    Self Employeed          NaN  Positive    560015   NaN    77.5284   \n",
              "\n",
              "  Educational Qualifications Unnamed: 13   9           #@%  \n",
              "0              Post Graduate         Yes NaN  swiggyscount  \n",
              "1              Post Graduate         Yes NaN         *7435  \n",
              "2              Post Graduate         Yes NaN         *7435  \n",
              "3              Post Graduate         Yes NaN         *7435  \n",
              "4                     School         Yes NaN         *7435  "
            ],
            "text/html": [
              "\n",
              "  <div id=\"df-349b119e-50a2-4c0e-9502-e2fa1f65c0f7\" class=\"colab-df-container\">\n",
              "    <div>\n",
              "<style scoped>\n",
              "    .dataframe tbody tr th:only-of-type {\n",
              "        vertical-align: middle;\n",
              "    }\n",
              "\n",
              "    .dataframe tbody tr th {\n",
              "        vertical-align: top;\n",
              "    }\n",
              "\n",
              "    .dataframe thead th {\n",
              "        text-align: right;\n",
              "    }\n",
              "</style>\n",
              "<table border=\"1\" class=\"dataframe\">\n",
              "  <thead>\n",
              "    <tr style=\"text-align: right;\">\n",
              "      <th></th>\n",
              "      <th>Unnamed: 0</th>\n",
              "      <th>order_status</th>\n",
              "      <th>Monthly Income</th>\n",
              "      <th>latitude</th>\n",
              "      <th>Marital Status</th>\n",
              "      <th>Gender</th>\n",
              "      <th>employment_status</th>\n",
              "      <th>Family size</th>\n",
              "      <th>Reviews</th>\n",
              "      <th>Pin code</th>\n",
              "      <th>Age</th>\n",
              "      <th>longitude</th>\n",
              "      <th>Educational Qualifications</th>\n",
              "      <th>Unnamed: 13</th>\n",
              "      <th>9</th>\n",
              "      <th>#@%</th>\n",
              "    </tr>\n",
              "  </thead>\n",
              "  <tbody>\n",
              "    <tr>\n",
              "      <th>0</th>\n",
              "      <td>0</td>\n",
              "      <td>Yes</td>\n",
              "      <td>25001 to 50000</td>\n",
              "      <td>13.0262</td>\n",
              "      <td>Married</td>\n",
              "      <td>Male</td>\n",
              "      <td>Employee</td>\n",
              "      <td>5.0</td>\n",
              "      <td>Positive</td>\n",
              "      <td>560045</td>\n",
              "      <td>28.0</td>\n",
              "      <td>77.6200</td>\n",
              "      <td>Post Graduate</td>\n",
              "      <td>Yes</td>\n",
              "      <td>NaN</td>\n",
              "      <td>swiggyscount</td>\n",
              "    </tr>\n",
              "    <tr>\n",
              "      <th>1</th>\n",
              "      <td>1</td>\n",
              "      <td>Yes</td>\n",
              "      <td>No Income</td>\n",
              "      <td>12.9770</td>\n",
              "      <td>Single</td>\n",
              "      <td>Male</td>\n",
              "      <td>Student</td>\n",
              "      <td>NaN</td>\n",
              "      <td>Positive</td>\n",
              "      <td>560009</td>\n",
              "      <td>NaN</td>\n",
              "      <td>77.5773</td>\n",
              "      <td>Post Graduate</td>\n",
              "      <td>Yes</td>\n",
              "      <td>NaN</td>\n",
              "      <td>*7435</td>\n",
              "    </tr>\n",
              "    <tr>\n",
              "      <th>2</th>\n",
              "      <td>2</td>\n",
              "      <td>Yes</td>\n",
              "      <td>No Income</td>\n",
              "      <td>12.9770</td>\n",
              "      <td>Single</td>\n",
              "      <td>Female</td>\n",
              "      <td>Student</td>\n",
              "      <td>NaN</td>\n",
              "      <td>Positive</td>\n",
              "      <td>560009</td>\n",
              "      <td>NaN</td>\n",
              "      <td>77.5773</td>\n",
              "      <td>Post Graduate</td>\n",
              "      <td>Yes</td>\n",
              "      <td>NaN</td>\n",
              "      <td>*7435</td>\n",
              "    </tr>\n",
              "    <tr>\n",
              "      <th>3</th>\n",
              "      <td>3</td>\n",
              "      <td>Yes</td>\n",
              "      <td>No Income</td>\n",
              "      <td>13.0019</td>\n",
              "      <td>Single</td>\n",
              "      <td>Female</td>\n",
              "      <td>Student</td>\n",
              "      <td>NaN</td>\n",
              "      <td>Positive</td>\n",
              "      <td>560003</td>\n",
              "      <td>NaN</td>\n",
              "      <td>77.5713</td>\n",
              "      <td>Post Graduate</td>\n",
              "      <td>Yes</td>\n",
              "      <td>NaN</td>\n",
              "      <td>*7435</td>\n",
              "    </tr>\n",
              "    <tr>\n",
              "      <th>4</th>\n",
              "      <td>4</td>\n",
              "      <td>Yes</td>\n",
              "      <td>More than 50000</td>\n",
              "      <td>13.0626</td>\n",
              "      <td>Married</td>\n",
              "      <td>Male</td>\n",
              "      <td>Self Employeed</td>\n",
              "      <td>NaN</td>\n",
              "      <td>Positive</td>\n",
              "      <td>560015</td>\n",
              "      <td>NaN</td>\n",
              "      <td>77.5284</td>\n",
              "      <td>School</td>\n",
              "      <td>Yes</td>\n",
              "      <td>NaN</td>\n",
              "      <td>*7435</td>\n",
              "    </tr>\n",
              "  </tbody>\n",
              "</table>\n",
              "</div>\n",
              "    <div class=\"colab-df-buttons\">\n",
              "\n",
              "  <div class=\"colab-df-container\">\n",
              "    <button class=\"colab-df-convert\" onclick=\"convertToInteractive('df-349b119e-50a2-4c0e-9502-e2fa1f65c0f7')\"\n",
              "            title=\"Convert this dataframe to an interactive table.\"\n",
              "            style=\"display:none;\">\n",
              "\n",
              "  <svg xmlns=\"http://www.w3.org/2000/svg\" height=\"24px\" viewBox=\"0 -960 960 960\">\n",
              "    <path d=\"M120-120v-720h720v720H120Zm60-500h600v-160H180v160Zm220 220h160v-160H400v160Zm0 220h160v-160H400v160ZM180-400h160v-160H180v160Zm440 0h160v-160H620v160ZM180-180h160v-160H180v160Zm440 0h160v-160H620v160Z\"/>\n",
              "  </svg>\n",
              "    </button>\n",
              "\n",
              "  <style>\n",
              "    .colab-df-container {\n",
              "      display:flex;\n",
              "      gap: 12px;\n",
              "    }\n",
              "\n",
              "    .colab-df-convert {\n",
              "      background-color: #E8F0FE;\n",
              "      border: none;\n",
              "      border-radius: 50%;\n",
              "      cursor: pointer;\n",
              "      display: none;\n",
              "      fill: #1967D2;\n",
              "      height: 32px;\n",
              "      padding: 0 0 0 0;\n",
              "      width: 32px;\n",
              "    }\n",
              "\n",
              "    .colab-df-convert:hover {\n",
              "      background-color: #E2EBFA;\n",
              "      box-shadow: 0px 1px 2px rgba(60, 64, 67, 0.3), 0px 1px 3px 1px rgba(60, 64, 67, 0.15);\n",
              "      fill: #174EA6;\n",
              "    }\n",
              "\n",
              "    .colab-df-buttons div {\n",
              "      margin-bottom: 4px;\n",
              "    }\n",
              "\n",
              "    [theme=dark] .colab-df-convert {\n",
              "      background-color: #3B4455;\n",
              "      fill: #D2E3FC;\n",
              "    }\n",
              "\n",
              "    [theme=dark] .colab-df-convert:hover {\n",
              "      background-color: #434B5C;\n",
              "      box-shadow: 0px 1px 3px 1px rgba(0, 0, 0, 0.15);\n",
              "      filter: drop-shadow(0px 1px 2px rgba(0, 0, 0, 0.3));\n",
              "      fill: #FFFFFF;\n",
              "    }\n",
              "  </style>\n",
              "\n",
              "    <script>\n",
              "      const buttonEl =\n",
              "        document.querySelector('#df-349b119e-50a2-4c0e-9502-e2fa1f65c0f7 button.colab-df-convert');\n",
              "      buttonEl.style.display =\n",
              "        google.colab.kernel.accessAllowed ? 'block' : 'none';\n",
              "\n",
              "      async function convertToInteractive(key) {\n",
              "        const element = document.querySelector('#df-349b119e-50a2-4c0e-9502-e2fa1f65c0f7');\n",
              "        const dataTable =\n",
              "          await google.colab.kernel.invokeFunction('convertToInteractive',\n",
              "                                                    [key], {});\n",
              "        if (!dataTable) return;\n",
              "\n",
              "        const docLinkHtml = 'Like what you see? Visit the ' +\n",
              "          '<a target=\"_blank\" href=https://colab.research.google.com/notebooks/data_table.ipynb>data table notebook</a>'\n",
              "          + ' to learn more about interactive tables.';\n",
              "        element.innerHTML = '';\n",
              "        dataTable['output_type'] = 'display_data';\n",
              "        await google.colab.output.renderOutput(dataTable, element);\n",
              "        const docLink = document.createElement('div');\n",
              "        docLink.innerHTML = docLinkHtml;\n",
              "        element.appendChild(docLink);\n",
              "      }\n",
              "    </script>\n",
              "  </div>\n",
              "\n",
              "\n",
              "<div id=\"df-770e202a-e6dc-4f2c-8010-d42e9a8838fe\">\n",
              "  <button class=\"colab-df-quickchart\" onclick=\"quickchart('df-770e202a-e6dc-4f2c-8010-d42e9a8838fe')\"\n",
              "            title=\"Suggest charts\"\n",
              "            style=\"display:none;\">\n",
              "\n",
              "<svg xmlns=\"http://www.w3.org/2000/svg\" height=\"24px\"viewBox=\"0 0 24 24\"\n",
              "     width=\"24px\">\n",
              "    <g>\n",
              "        <path d=\"M19 3H5c-1.1 0-2 .9-2 2v14c0 1.1.9 2 2 2h14c1.1 0 2-.9 2-2V5c0-1.1-.9-2-2-2zM9 17H7v-7h2v7zm4 0h-2V7h2v10zm4 0h-2v-4h2v4z\"/>\n",
              "    </g>\n",
              "</svg>\n",
              "  </button>\n",
              "\n",
              "<style>\n",
              "  .colab-df-quickchart {\n",
              "      --bg-color: #E8F0FE;\n",
              "      --fill-color: #1967D2;\n",
              "      --hover-bg-color: #E2EBFA;\n",
              "      --hover-fill-color: #174EA6;\n",
              "      --disabled-fill-color: #AAA;\n",
              "      --disabled-bg-color: #DDD;\n",
              "  }\n",
              "\n",
              "  [theme=dark] .colab-df-quickchart {\n",
              "      --bg-color: #3B4455;\n",
              "      --fill-color: #D2E3FC;\n",
              "      --hover-bg-color: #434B5C;\n",
              "      --hover-fill-color: #FFFFFF;\n",
              "      --disabled-bg-color: #3B4455;\n",
              "      --disabled-fill-color: #666;\n",
              "  }\n",
              "\n",
              "  .colab-df-quickchart {\n",
              "    background-color: var(--bg-color);\n",
              "    border: none;\n",
              "    border-radius: 50%;\n",
              "    cursor: pointer;\n",
              "    display: none;\n",
              "    fill: var(--fill-color);\n",
              "    height: 32px;\n",
              "    padding: 0;\n",
              "    width: 32px;\n",
              "  }\n",
              "\n",
              "  .colab-df-quickchart:hover {\n",
              "    background-color: var(--hover-bg-color);\n",
              "    box-shadow: 0 1px 2px rgba(60, 64, 67, 0.3), 0 1px 3px 1px rgba(60, 64, 67, 0.15);\n",
              "    fill: var(--button-hover-fill-color);\n",
              "  }\n",
              "\n",
              "  .colab-df-quickchart-complete:disabled,\n",
              "  .colab-df-quickchart-complete:disabled:hover {\n",
              "    background-color: var(--disabled-bg-color);\n",
              "    fill: var(--disabled-fill-color);\n",
              "    box-shadow: none;\n",
              "  }\n",
              "\n",
              "  .colab-df-spinner {\n",
              "    border: 2px solid var(--fill-color);\n",
              "    border-color: transparent;\n",
              "    border-bottom-color: var(--fill-color);\n",
              "    animation:\n",
              "      spin 1s steps(1) infinite;\n",
              "  }\n",
              "\n",
              "  @keyframes spin {\n",
              "    0% {\n",
              "      border-color: transparent;\n",
              "      border-bottom-color: var(--fill-color);\n",
              "      border-left-color: var(--fill-color);\n",
              "    }\n",
              "    20% {\n",
              "      border-color: transparent;\n",
              "      border-left-color: var(--fill-color);\n",
              "      border-top-color: var(--fill-color);\n",
              "    }\n",
              "    30% {\n",
              "      border-color: transparent;\n",
              "      border-left-color: var(--fill-color);\n",
              "      border-top-color: var(--fill-color);\n",
              "      border-right-color: var(--fill-color);\n",
              "    }\n",
              "    40% {\n",
              "      border-color: transparent;\n",
              "      border-right-color: var(--fill-color);\n",
              "      border-top-color: var(--fill-color);\n",
              "    }\n",
              "    60% {\n",
              "      border-color: transparent;\n",
              "      border-right-color: var(--fill-color);\n",
              "    }\n",
              "    80% {\n",
              "      border-color: transparent;\n",
              "      border-right-color: var(--fill-color);\n",
              "      border-bottom-color: var(--fill-color);\n",
              "    }\n",
              "    90% {\n",
              "      border-color: transparent;\n",
              "      border-bottom-color: var(--fill-color);\n",
              "    }\n",
              "  }\n",
              "</style>\n",
              "\n",
              "  <script>\n",
              "    async function quickchart(key) {\n",
              "      const quickchartButtonEl =\n",
              "        document.querySelector('#' + key + ' button');\n",
              "      quickchartButtonEl.disabled = true;  // To prevent multiple clicks.\n",
              "      quickchartButtonEl.classList.add('colab-df-spinner');\n",
              "      try {\n",
              "        const charts = await google.colab.kernel.invokeFunction(\n",
              "            'suggestCharts', [key], {});\n",
              "      } catch (error) {\n",
              "        console.error('Error during call to suggestCharts:', error);\n",
              "      }\n",
              "      quickchartButtonEl.classList.remove('colab-df-spinner');\n",
              "      quickchartButtonEl.classList.add('colab-df-quickchart-complete');\n",
              "    }\n",
              "    (() => {\n",
              "      let quickchartButtonEl =\n",
              "        document.querySelector('#df-770e202a-e6dc-4f2c-8010-d42e9a8838fe button');\n",
              "      quickchartButtonEl.style.display =\n",
              "        google.colab.kernel.accessAllowed ? 'block' : 'none';\n",
              "    })();\n",
              "  </script>\n",
              "</div>\n",
              "\n",
              "    </div>\n",
              "  </div>\n"
            ]
          },
          "metadata": {},
          "execution_count": 3
        }
      ]
    },
    {
      "cell_type": "code",
      "source": [
        "df.shape # It gives no of rows and columns"
      ],
      "metadata": {
        "colab": {
          "base_uri": "https://localhost:8080/"
        },
        "id": "Nt300Izy1myM",
        "outputId": "9422a506-b299-4534-d37d-95d18af15649"
      },
      "execution_count": 4,
      "outputs": [
        {
          "output_type": "execute_result",
          "data": {
            "text/plain": [
              "(388, 16)"
            ]
          },
          "metadata": {},
          "execution_count": 4
        }
      ]
    },
    {
      "cell_type": "code",
      "source": [
        "# Statistical Obervation\n",
        "\n",
        "df.describe()"
      ],
      "metadata": {
        "colab": {
          "base_uri": "https://localhost:8080/",
          "height": 300
        },
        "id": "tI4fFWLL2KI6",
        "outputId": "00a02718-2ce8-4732-8100-7a9d8ecbfe94"
      },
      "execution_count": 5,
      "outputs": [
        {
          "output_type": "execute_result",
          "data": {
            "text/plain": [
              "       Unnamed: 0    latitude  Family size       Pin code         Age  \\\n",
              "count  388.000000  388.000000   369.000000     388.000000  369.000000   \n",
              "mean   193.500000   12.972058     3.298103  560040.113402   24.666667   \n",
              "std    112.150197    0.044489     1.354550      31.399609    2.968128   \n",
              "min      0.000000   12.865200     1.000000  560001.000000   18.000000   \n",
              "25%     96.750000   12.936900     2.000000  560010.750000   23.000000   \n",
              "50%    193.500000   12.977000     3.000000  560033.500000   24.000000   \n",
              "75%    290.250000   12.997025     4.000000  560068.000000   26.000000   \n",
              "max    387.000000   13.102000     6.000000  560109.000000   33.000000   \n",
              "\n",
              "        longitude    9  \n",
              "count  388.000000  0.0  \n",
              "mean    77.600160  NaN  \n",
              "std      0.051354  NaN  \n",
              "min     77.484200  NaN  \n",
              "25%     77.565275  NaN  \n",
              "50%     77.592100  NaN  \n",
              "75%     77.630900  NaN  \n",
              "max     77.758200  NaN  "
            ],
            "text/html": [
              "\n",
              "  <div id=\"df-a78a141e-34fe-43c4-9275-9900499e85e3\" class=\"colab-df-container\">\n",
              "    <div>\n",
              "<style scoped>\n",
              "    .dataframe tbody tr th:only-of-type {\n",
              "        vertical-align: middle;\n",
              "    }\n",
              "\n",
              "    .dataframe tbody tr th {\n",
              "        vertical-align: top;\n",
              "    }\n",
              "\n",
              "    .dataframe thead th {\n",
              "        text-align: right;\n",
              "    }\n",
              "</style>\n",
              "<table border=\"1\" class=\"dataframe\">\n",
              "  <thead>\n",
              "    <tr style=\"text-align: right;\">\n",
              "      <th></th>\n",
              "      <th>Unnamed: 0</th>\n",
              "      <th>latitude</th>\n",
              "      <th>Family size</th>\n",
              "      <th>Pin code</th>\n",
              "      <th>Age</th>\n",
              "      <th>longitude</th>\n",
              "      <th>9</th>\n",
              "    </tr>\n",
              "  </thead>\n",
              "  <tbody>\n",
              "    <tr>\n",
              "      <th>count</th>\n",
              "      <td>388.000000</td>\n",
              "      <td>388.000000</td>\n",
              "      <td>369.000000</td>\n",
              "      <td>388.000000</td>\n",
              "      <td>369.000000</td>\n",
              "      <td>388.000000</td>\n",
              "      <td>0.0</td>\n",
              "    </tr>\n",
              "    <tr>\n",
              "      <th>mean</th>\n",
              "      <td>193.500000</td>\n",
              "      <td>12.972058</td>\n",
              "      <td>3.298103</td>\n",
              "      <td>560040.113402</td>\n",
              "      <td>24.666667</td>\n",
              "      <td>77.600160</td>\n",
              "      <td>NaN</td>\n",
              "    </tr>\n",
              "    <tr>\n",
              "      <th>std</th>\n",
              "      <td>112.150197</td>\n",
              "      <td>0.044489</td>\n",
              "      <td>1.354550</td>\n",
              "      <td>31.399609</td>\n",
              "      <td>2.968128</td>\n",
              "      <td>0.051354</td>\n",
              "      <td>NaN</td>\n",
              "    </tr>\n",
              "    <tr>\n",
              "      <th>min</th>\n",
              "      <td>0.000000</td>\n",
              "      <td>12.865200</td>\n",
              "      <td>1.000000</td>\n",
              "      <td>560001.000000</td>\n",
              "      <td>18.000000</td>\n",
              "      <td>77.484200</td>\n",
              "      <td>NaN</td>\n",
              "    </tr>\n",
              "    <tr>\n",
              "      <th>25%</th>\n",
              "      <td>96.750000</td>\n",
              "      <td>12.936900</td>\n",
              "      <td>2.000000</td>\n",
              "      <td>560010.750000</td>\n",
              "      <td>23.000000</td>\n",
              "      <td>77.565275</td>\n",
              "      <td>NaN</td>\n",
              "    </tr>\n",
              "    <tr>\n",
              "      <th>50%</th>\n",
              "      <td>193.500000</td>\n",
              "      <td>12.977000</td>\n",
              "      <td>3.000000</td>\n",
              "      <td>560033.500000</td>\n",
              "      <td>24.000000</td>\n",
              "      <td>77.592100</td>\n",
              "      <td>NaN</td>\n",
              "    </tr>\n",
              "    <tr>\n",
              "      <th>75%</th>\n",
              "      <td>290.250000</td>\n",
              "      <td>12.997025</td>\n",
              "      <td>4.000000</td>\n",
              "      <td>560068.000000</td>\n",
              "      <td>26.000000</td>\n",
              "      <td>77.630900</td>\n",
              "      <td>NaN</td>\n",
              "    </tr>\n",
              "    <tr>\n",
              "      <th>max</th>\n",
              "      <td>387.000000</td>\n",
              "      <td>13.102000</td>\n",
              "      <td>6.000000</td>\n",
              "      <td>560109.000000</td>\n",
              "      <td>33.000000</td>\n",
              "      <td>77.758200</td>\n",
              "      <td>NaN</td>\n",
              "    </tr>\n",
              "  </tbody>\n",
              "</table>\n",
              "</div>\n",
              "    <div class=\"colab-df-buttons\">\n",
              "\n",
              "  <div class=\"colab-df-container\">\n",
              "    <button class=\"colab-df-convert\" onclick=\"convertToInteractive('df-a78a141e-34fe-43c4-9275-9900499e85e3')\"\n",
              "            title=\"Convert this dataframe to an interactive table.\"\n",
              "            style=\"display:none;\">\n",
              "\n",
              "  <svg xmlns=\"http://www.w3.org/2000/svg\" height=\"24px\" viewBox=\"0 -960 960 960\">\n",
              "    <path d=\"M120-120v-720h720v720H120Zm60-500h600v-160H180v160Zm220 220h160v-160H400v160Zm0 220h160v-160H400v160ZM180-400h160v-160H180v160Zm440 0h160v-160H620v160ZM180-180h160v-160H180v160Zm440 0h160v-160H620v160Z\"/>\n",
              "  </svg>\n",
              "    </button>\n",
              "\n",
              "  <style>\n",
              "    .colab-df-container {\n",
              "      display:flex;\n",
              "      gap: 12px;\n",
              "    }\n",
              "\n",
              "    .colab-df-convert {\n",
              "      background-color: #E8F0FE;\n",
              "      border: none;\n",
              "      border-radius: 50%;\n",
              "      cursor: pointer;\n",
              "      display: none;\n",
              "      fill: #1967D2;\n",
              "      height: 32px;\n",
              "      padding: 0 0 0 0;\n",
              "      width: 32px;\n",
              "    }\n",
              "\n",
              "    .colab-df-convert:hover {\n",
              "      background-color: #E2EBFA;\n",
              "      box-shadow: 0px 1px 2px rgba(60, 64, 67, 0.3), 0px 1px 3px 1px rgba(60, 64, 67, 0.15);\n",
              "      fill: #174EA6;\n",
              "    }\n",
              "\n",
              "    .colab-df-buttons div {\n",
              "      margin-bottom: 4px;\n",
              "    }\n",
              "\n",
              "    [theme=dark] .colab-df-convert {\n",
              "      background-color: #3B4455;\n",
              "      fill: #D2E3FC;\n",
              "    }\n",
              "\n",
              "    [theme=dark] .colab-df-convert:hover {\n",
              "      background-color: #434B5C;\n",
              "      box-shadow: 0px 1px 3px 1px rgba(0, 0, 0, 0.15);\n",
              "      filter: drop-shadow(0px 1px 2px rgba(0, 0, 0, 0.3));\n",
              "      fill: #FFFFFF;\n",
              "    }\n",
              "  </style>\n",
              "\n",
              "    <script>\n",
              "      const buttonEl =\n",
              "        document.querySelector('#df-a78a141e-34fe-43c4-9275-9900499e85e3 button.colab-df-convert');\n",
              "      buttonEl.style.display =\n",
              "        google.colab.kernel.accessAllowed ? 'block' : 'none';\n",
              "\n",
              "      async function convertToInteractive(key) {\n",
              "        const element = document.querySelector('#df-a78a141e-34fe-43c4-9275-9900499e85e3');\n",
              "        const dataTable =\n",
              "          await google.colab.kernel.invokeFunction('convertToInteractive',\n",
              "                                                    [key], {});\n",
              "        if (!dataTable) return;\n",
              "\n",
              "        const docLinkHtml = 'Like what you see? Visit the ' +\n",
              "          '<a target=\"_blank\" href=https://colab.research.google.com/notebooks/data_table.ipynb>data table notebook</a>'\n",
              "          + ' to learn more about interactive tables.';\n",
              "        element.innerHTML = '';\n",
              "        dataTable['output_type'] = 'display_data';\n",
              "        await google.colab.output.renderOutput(dataTable, element);\n",
              "        const docLink = document.createElement('div');\n",
              "        docLink.innerHTML = docLinkHtml;\n",
              "        element.appendChild(docLink);\n",
              "      }\n",
              "    </script>\n",
              "  </div>\n",
              "\n",
              "\n",
              "<div id=\"df-7ddb3ba0-20af-4fdc-a8d6-f74a26cc88ea\">\n",
              "  <button class=\"colab-df-quickchart\" onclick=\"quickchart('df-7ddb3ba0-20af-4fdc-a8d6-f74a26cc88ea')\"\n",
              "            title=\"Suggest charts\"\n",
              "            style=\"display:none;\">\n",
              "\n",
              "<svg xmlns=\"http://www.w3.org/2000/svg\" height=\"24px\"viewBox=\"0 0 24 24\"\n",
              "     width=\"24px\">\n",
              "    <g>\n",
              "        <path d=\"M19 3H5c-1.1 0-2 .9-2 2v14c0 1.1.9 2 2 2h14c1.1 0 2-.9 2-2V5c0-1.1-.9-2-2-2zM9 17H7v-7h2v7zm4 0h-2V7h2v10zm4 0h-2v-4h2v4z\"/>\n",
              "    </g>\n",
              "</svg>\n",
              "  </button>\n",
              "\n",
              "<style>\n",
              "  .colab-df-quickchart {\n",
              "      --bg-color: #E8F0FE;\n",
              "      --fill-color: #1967D2;\n",
              "      --hover-bg-color: #E2EBFA;\n",
              "      --hover-fill-color: #174EA6;\n",
              "      --disabled-fill-color: #AAA;\n",
              "      --disabled-bg-color: #DDD;\n",
              "  }\n",
              "\n",
              "  [theme=dark] .colab-df-quickchart {\n",
              "      --bg-color: #3B4455;\n",
              "      --fill-color: #D2E3FC;\n",
              "      --hover-bg-color: #434B5C;\n",
              "      --hover-fill-color: #FFFFFF;\n",
              "      --disabled-bg-color: #3B4455;\n",
              "      --disabled-fill-color: #666;\n",
              "  }\n",
              "\n",
              "  .colab-df-quickchart {\n",
              "    background-color: var(--bg-color);\n",
              "    border: none;\n",
              "    border-radius: 50%;\n",
              "    cursor: pointer;\n",
              "    display: none;\n",
              "    fill: var(--fill-color);\n",
              "    height: 32px;\n",
              "    padding: 0;\n",
              "    width: 32px;\n",
              "  }\n",
              "\n",
              "  .colab-df-quickchart:hover {\n",
              "    background-color: var(--hover-bg-color);\n",
              "    box-shadow: 0 1px 2px rgba(60, 64, 67, 0.3), 0 1px 3px 1px rgba(60, 64, 67, 0.15);\n",
              "    fill: var(--button-hover-fill-color);\n",
              "  }\n",
              "\n",
              "  .colab-df-quickchart-complete:disabled,\n",
              "  .colab-df-quickchart-complete:disabled:hover {\n",
              "    background-color: var(--disabled-bg-color);\n",
              "    fill: var(--disabled-fill-color);\n",
              "    box-shadow: none;\n",
              "  }\n",
              "\n",
              "  .colab-df-spinner {\n",
              "    border: 2px solid var(--fill-color);\n",
              "    border-color: transparent;\n",
              "    border-bottom-color: var(--fill-color);\n",
              "    animation:\n",
              "      spin 1s steps(1) infinite;\n",
              "  }\n",
              "\n",
              "  @keyframes spin {\n",
              "    0% {\n",
              "      border-color: transparent;\n",
              "      border-bottom-color: var(--fill-color);\n",
              "      border-left-color: var(--fill-color);\n",
              "    }\n",
              "    20% {\n",
              "      border-color: transparent;\n",
              "      border-left-color: var(--fill-color);\n",
              "      border-top-color: var(--fill-color);\n",
              "    }\n",
              "    30% {\n",
              "      border-color: transparent;\n",
              "      border-left-color: var(--fill-color);\n",
              "      border-top-color: var(--fill-color);\n",
              "      border-right-color: var(--fill-color);\n",
              "    }\n",
              "    40% {\n",
              "      border-color: transparent;\n",
              "      border-right-color: var(--fill-color);\n",
              "      border-top-color: var(--fill-color);\n",
              "    }\n",
              "    60% {\n",
              "      border-color: transparent;\n",
              "      border-right-color: var(--fill-color);\n",
              "    }\n",
              "    80% {\n",
              "      border-color: transparent;\n",
              "      border-right-color: var(--fill-color);\n",
              "      border-bottom-color: var(--fill-color);\n",
              "    }\n",
              "    90% {\n",
              "      border-color: transparent;\n",
              "      border-bottom-color: var(--fill-color);\n",
              "    }\n",
              "  }\n",
              "</style>\n",
              "\n",
              "  <script>\n",
              "    async function quickchart(key) {\n",
              "      const quickchartButtonEl =\n",
              "        document.querySelector('#' + key + ' button');\n",
              "      quickchartButtonEl.disabled = true;  // To prevent multiple clicks.\n",
              "      quickchartButtonEl.classList.add('colab-df-spinner');\n",
              "      try {\n",
              "        const charts = await google.colab.kernel.invokeFunction(\n",
              "            'suggestCharts', [key], {});\n",
              "      } catch (error) {\n",
              "        console.error('Error during call to suggestCharts:', error);\n",
              "      }\n",
              "      quickchartButtonEl.classList.remove('colab-df-spinner');\n",
              "      quickchartButtonEl.classList.add('colab-df-quickchart-complete');\n",
              "    }\n",
              "    (() => {\n",
              "      let quickchartButtonEl =\n",
              "        document.querySelector('#df-7ddb3ba0-20af-4fdc-a8d6-f74a26cc88ea button');\n",
              "      quickchartButtonEl.style.display =\n",
              "        google.colab.kernel.accessAllowed ? 'block' : 'none';\n",
              "    })();\n",
              "  </script>\n",
              "</div>\n",
              "\n",
              "    </div>\n",
              "  </div>\n"
            ]
          },
          "metadata": {},
          "execution_count": 5
        }
      ]
    },
    {
      "cell_type": "code",
      "source": [
        "#handling missing values\n",
        "\n",
        "df.isnull().sum()\n",
        "\n",
        "# It shows family size has 19 missing data\n",
        "#9 column and #@% these two column is almost empty . we got to by looking total number of rows."
      ],
      "metadata": {
        "colab": {
          "base_uri": "https://localhost:8080/"
        },
        "id": "My34O4Os2TKv",
        "outputId": "8a2cc54c-c04c-4cd3-dc56-633e815a7734"
      },
      "execution_count": 6,
      "outputs": [
        {
          "output_type": "execute_result",
          "data": {
            "text/plain": [
              "Unnamed: 0                      0\n",
              "order_status                    0\n",
              "Monthly Income                  0\n",
              "latitude                        0\n",
              "Marital Status                  0\n",
              "Gender                          0\n",
              "employment_status               0\n",
              "Family size                    19\n",
              "Reviews                         0\n",
              "Pin code                        0\n",
              "Age                            19\n",
              "longitude                       0\n",
              "Educational Qualifications      0\n",
              "Unnamed: 13                     0\n",
              "9                             388\n",
              "#@%                           382\n",
              "dtype: int64"
            ]
          },
          "metadata": {},
          "execution_count": 6
        }
      ]
    },
    {
      "cell_type": "code",
      "source": [
        "df[\"Unnamed: 0\"].unique() # It is not required for our analysis, It is simply giving us row number"
      ],
      "metadata": {
        "colab": {
          "base_uri": "https://localhost:8080/"
        },
        "id": "lJmfFGyL24_d",
        "outputId": "fab0db6c-712f-4669-f0ea-8b76b69651cd"
      },
      "execution_count": 7,
      "outputs": [
        {
          "output_type": "execute_result",
          "data": {
            "text/plain": [
              "array([  0,   1,   2,   3,   4,   5,   6,   7,   8,   9,  10,  11,  12,\n",
              "        13,  14,  15,  16,  17,  18,  19,  20,  21,  22,  23,  24,  25,\n",
              "        26,  27,  28,  29,  30,  31,  32,  33,  34,  35,  36,  37,  38,\n",
              "        39,  40,  41,  42,  43,  44,  45,  46,  47,  48,  49,  50,  51,\n",
              "        52,  53,  54,  55,  56,  57,  58,  59,  60,  61,  62,  63,  64,\n",
              "        65,  66,  67,  68,  69,  70,  71,  72,  73,  74,  75,  76,  77,\n",
              "        78,  79,  80,  81,  82,  83,  84,  85,  86,  87,  88,  89,  90,\n",
              "        91,  92,  93,  94,  95,  96,  97,  98,  99, 100, 101, 102, 103,\n",
              "       104, 105, 106, 107, 108, 109, 110, 111, 112, 113, 114, 115, 116,\n",
              "       117, 118, 119, 120, 121, 122, 123, 124, 125, 126, 127, 128, 129,\n",
              "       130, 131, 132, 133, 134, 135, 136, 137, 138, 139, 140, 141, 142,\n",
              "       143, 144, 145, 146, 147, 148, 149, 150, 151, 152, 153, 154, 155,\n",
              "       156, 157, 158, 159, 160, 161, 162, 163, 164, 165, 166, 167, 168,\n",
              "       169, 170, 171, 172, 173, 174, 175, 176, 177, 178, 179, 180, 181,\n",
              "       182, 183, 184, 185, 186, 187, 188, 189, 190, 191, 192, 193, 194,\n",
              "       195, 196, 197, 198, 199, 200, 201, 202, 203, 204, 205, 206, 207,\n",
              "       208, 209, 210, 211, 212, 213, 214, 215, 216, 217, 218, 219, 220,\n",
              "       221, 222, 223, 224, 225, 226, 227, 228, 229, 230, 231, 232, 233,\n",
              "       234, 235, 236, 237, 238, 239, 240, 241, 242, 243, 244, 245, 246,\n",
              "       247, 248, 249, 250, 251, 252, 253, 254, 255, 256, 257, 258, 259,\n",
              "       260, 261, 262, 263, 264, 265, 266, 267, 268, 269, 270, 271, 272,\n",
              "       273, 274, 275, 276, 277, 278, 279, 280, 281, 282, 283, 284, 285,\n",
              "       286, 287, 288, 289, 290, 291, 292, 293, 294, 295, 296, 297, 298,\n",
              "       299, 300, 301, 302, 303, 304, 305, 306, 307, 308, 309, 310, 311,\n",
              "       312, 313, 314, 315, 316, 317, 318, 319, 320, 321, 322, 323, 324,\n",
              "       325, 326, 327, 328, 329, 330, 331, 332, 333, 334, 335, 336, 337,\n",
              "       338, 339, 340, 341, 342, 343, 344, 345, 346, 347, 348, 349, 350,\n",
              "       351, 352, 353, 354, 355, 356, 357, 358, 359, 360, 361, 362, 363,\n",
              "       364, 365, 366, 367, 368, 369, 370, 371, 372, 373, 374, 375, 376,\n",
              "       377, 378, 379, 380, 381, 382, 383, 384, 385, 386, 387])"
            ]
          },
          "metadata": {},
          "execution_count": 7
        }
      ]
    },
    {
      "cell_type": "code",
      "source": [
        "df[\"Unnamed: 13\"].unique() # which info they are trying to convey we don't know so we can drop"
      ],
      "metadata": {
        "colab": {
          "base_uri": "https://localhost:8080/"
        },
        "id": "N9hBnlBL3sCz",
        "outputId": "fea4da38-aa4a-46cc-a9b7-7b77d65f04c7"
      },
      "execution_count": 8,
      "outputs": [
        {
          "output_type": "execute_result",
          "data": {
            "text/plain": [
              "array(['Yes', 'No'], dtype=object)"
            ]
          },
          "metadata": {},
          "execution_count": 8
        }
      ]
    },
    {
      "cell_type": "code",
      "source": [
        "df.info()  # to understand the datatypes of the column"
      ],
      "metadata": {
        "colab": {
          "base_uri": "https://localhost:8080/"
        },
        "id": "VgpzSF554GF-",
        "outputId": "679e14d3-6a33-4bab-9004-1746ecce1c64"
      },
      "execution_count": 9,
      "outputs": [
        {
          "output_type": "stream",
          "name": "stdout",
          "text": [
            "<class 'pandas.core.frame.DataFrame'>\n",
            "RangeIndex: 388 entries, 0 to 387\n",
            "Data columns (total 16 columns):\n",
            " #   Column                      Non-Null Count  Dtype  \n",
            "---  ------                      --------------  -----  \n",
            " 0   Unnamed: 0                  388 non-null    int64  \n",
            " 1   order_status                388 non-null    object \n",
            " 2   Monthly Income              388 non-null    object \n",
            " 3   latitude                    388 non-null    float64\n",
            " 4   Marital Status              388 non-null    object \n",
            " 5   Gender                      388 non-null    object \n",
            " 6   employment_status           388 non-null    object \n",
            " 7   Family size                 369 non-null    float64\n",
            " 8   Reviews                     388 non-null    object \n",
            " 9   Pin code                    388 non-null    int64  \n",
            " 10  Age                         369 non-null    float64\n",
            " 11  longitude                   388 non-null    float64\n",
            " 12  Educational Qualifications  388 non-null    object \n",
            " 13  Unnamed: 13                 388 non-null    object \n",
            " 14  9                           0 non-null      float64\n",
            " 15  #@%                         6 non-null      object \n",
            "dtypes: float64(5), int64(2), object(9)\n",
            "memory usage: 48.6+ KB\n"
          ]
        }
      ]
    },
    {
      "cell_type": "code",
      "source": [
        "df[\"Monthly Income\"].unique()"
      ],
      "metadata": {
        "colab": {
          "base_uri": "https://localhost:8080/"
        },
        "id": "DRJPScyv48I5",
        "outputId": "5e705366-7cee-42eb-8cb5-77e8ba032aeb"
      },
      "execution_count": 10,
      "outputs": [
        {
          "output_type": "execute_result",
          "data": {
            "text/plain": [
              "array(['25001 to 50000', 'No Income', 'More than 50000', '10001 to 25000',\n",
              "       'Below Rs.10000'], dtype=object)"
            ]
          },
          "metadata": {},
          "execution_count": 10
        }
      ]
    },
    {
      "cell_type": "code",
      "source": [
        "# astype[\"category\"] to change datatype\n",
        "\n",
        "df[df.duplicated()] # to check the duplicate valued\n",
        "# we don't have duplicate value in the dataset"
      ],
      "metadata": {
        "colab": {
          "base_uri": "https://localhost:8080/",
          "height": 67
        },
        "id": "m09HoOMI5XAD",
        "outputId": "b1f0220a-5e26-41f2-89e9-36f501305862"
      },
      "execution_count": 11,
      "outputs": [
        {
          "output_type": "execute_result",
          "data": {
            "text/plain": [
              "Empty DataFrame\n",
              "Columns: [Unnamed: 0, order_status, Monthly Income, latitude, Marital Status, Gender, employment_status, Family size, Reviews, Pin code, Age, longitude, Educational Qualifications, Unnamed: 13, 9, #@%]\n",
              "Index: []"
            ],
            "text/html": [
              "\n",
              "  <div id=\"df-a2381eb1-dc2e-447c-8e16-e6893cc83cbd\" class=\"colab-df-container\">\n",
              "    <div>\n",
              "<style scoped>\n",
              "    .dataframe tbody tr th:only-of-type {\n",
              "        vertical-align: middle;\n",
              "    }\n",
              "\n",
              "    .dataframe tbody tr th {\n",
              "        vertical-align: top;\n",
              "    }\n",
              "\n",
              "    .dataframe thead th {\n",
              "        text-align: right;\n",
              "    }\n",
              "</style>\n",
              "<table border=\"1\" class=\"dataframe\">\n",
              "  <thead>\n",
              "    <tr style=\"text-align: right;\">\n",
              "      <th></th>\n",
              "      <th>Unnamed: 0</th>\n",
              "      <th>order_status</th>\n",
              "      <th>Monthly Income</th>\n",
              "      <th>latitude</th>\n",
              "      <th>Marital Status</th>\n",
              "      <th>Gender</th>\n",
              "      <th>employment_status</th>\n",
              "      <th>Family size</th>\n",
              "      <th>Reviews</th>\n",
              "      <th>Pin code</th>\n",
              "      <th>Age</th>\n",
              "      <th>longitude</th>\n",
              "      <th>Educational Qualifications</th>\n",
              "      <th>Unnamed: 13</th>\n",
              "      <th>9</th>\n",
              "      <th>#@%</th>\n",
              "    </tr>\n",
              "  </thead>\n",
              "  <tbody>\n",
              "  </tbody>\n",
              "</table>\n",
              "</div>\n",
              "    <div class=\"colab-df-buttons\">\n",
              "\n",
              "  <div class=\"colab-df-container\">\n",
              "    <button class=\"colab-df-convert\" onclick=\"convertToInteractive('df-a2381eb1-dc2e-447c-8e16-e6893cc83cbd')\"\n",
              "            title=\"Convert this dataframe to an interactive table.\"\n",
              "            style=\"display:none;\">\n",
              "\n",
              "  <svg xmlns=\"http://www.w3.org/2000/svg\" height=\"24px\" viewBox=\"0 -960 960 960\">\n",
              "    <path d=\"M120-120v-720h720v720H120Zm60-500h600v-160H180v160Zm220 220h160v-160H400v160Zm0 220h160v-160H400v160ZM180-400h160v-160H180v160Zm440 0h160v-160H620v160ZM180-180h160v-160H180v160Zm440 0h160v-160H620v160Z\"/>\n",
              "  </svg>\n",
              "    </button>\n",
              "\n",
              "  <style>\n",
              "    .colab-df-container {\n",
              "      display:flex;\n",
              "      gap: 12px;\n",
              "    }\n",
              "\n",
              "    .colab-df-convert {\n",
              "      background-color: #E8F0FE;\n",
              "      border: none;\n",
              "      border-radius: 50%;\n",
              "      cursor: pointer;\n",
              "      display: none;\n",
              "      fill: #1967D2;\n",
              "      height: 32px;\n",
              "      padding: 0 0 0 0;\n",
              "      width: 32px;\n",
              "    }\n",
              "\n",
              "    .colab-df-convert:hover {\n",
              "      background-color: #E2EBFA;\n",
              "      box-shadow: 0px 1px 2px rgba(60, 64, 67, 0.3), 0px 1px 3px 1px rgba(60, 64, 67, 0.15);\n",
              "      fill: #174EA6;\n",
              "    }\n",
              "\n",
              "    .colab-df-buttons div {\n",
              "      margin-bottom: 4px;\n",
              "    }\n",
              "\n",
              "    [theme=dark] .colab-df-convert {\n",
              "      background-color: #3B4455;\n",
              "      fill: #D2E3FC;\n",
              "    }\n",
              "\n",
              "    [theme=dark] .colab-df-convert:hover {\n",
              "      background-color: #434B5C;\n",
              "      box-shadow: 0px 1px 3px 1px rgba(0, 0, 0, 0.15);\n",
              "      filter: drop-shadow(0px 1px 2px rgba(0, 0, 0, 0.3));\n",
              "      fill: #FFFFFF;\n",
              "    }\n",
              "  </style>\n",
              "\n",
              "    <script>\n",
              "      const buttonEl =\n",
              "        document.querySelector('#df-a2381eb1-dc2e-447c-8e16-e6893cc83cbd button.colab-df-convert');\n",
              "      buttonEl.style.display =\n",
              "        google.colab.kernel.accessAllowed ? 'block' : 'none';\n",
              "\n",
              "      async function convertToInteractive(key) {\n",
              "        const element = document.querySelector('#df-a2381eb1-dc2e-447c-8e16-e6893cc83cbd');\n",
              "        const dataTable =\n",
              "          await google.colab.kernel.invokeFunction('convertToInteractive',\n",
              "                                                    [key], {});\n",
              "        if (!dataTable) return;\n",
              "\n",
              "        const docLinkHtml = 'Like what you see? Visit the ' +\n",
              "          '<a target=\"_blank\" href=https://colab.research.google.com/notebooks/data_table.ipynb>data table notebook</a>'\n",
              "          + ' to learn more about interactive tables.';\n",
              "        element.innerHTML = '';\n",
              "        dataTable['output_type'] = 'display_data';\n",
              "        await google.colab.output.renderOutput(dataTable, element);\n",
              "        const docLink = document.createElement('div');\n",
              "        docLink.innerHTML = docLinkHtml;\n",
              "        element.appendChild(docLink);\n",
              "      }\n",
              "    </script>\n",
              "  </div>\n",
              "\n",
              "\n",
              "    </div>\n",
              "  </div>\n"
            ]
          },
          "metadata": {},
          "execution_count": 11
        }
      ]
    },
    {
      "cell_type": "code",
      "source": [
        "# graphs\n",
        "#numerical(univariate) - histogram,distplot,boxplot\n",
        "#categorical(univariate) - countplot,barplot,pie plot\n",
        "#numerical-numerical - scatter,line\n",
        "#cat - num - bar, box,violin\n",
        "#cat - cat -heatmap in conjunction with cross tab,stacked bar chart\n",
        "\n"
      ],
      "metadata": {
        "id": "qsdIwOB8553p"
      },
      "execution_count": 12,
      "outputs": []
    },
    {
      "cell_type": "code",
      "source": [
        "sns.distplot(x = df[\"Age\"])\n",
        "\n",
        "# Distribution of age column looks almost normally distributed with ost ofthe customersages falling between 20 to 30"
      ],
      "metadata": {
        "colab": {
          "base_uri": "https://localhost:8080/",
          "height": 638
        },
        "id": "-PKG-VeD3exW",
        "outputId": "2ffe7867-a303-41ef-f640-a2b7de11f817"
      },
      "execution_count": 13,
      "outputs": [
        {
          "output_type": "stream",
          "name": "stderr",
          "text": [
            "<ipython-input-13-827357837612>:1: UserWarning: \n",
            "\n",
            "`distplot` is a deprecated function and will be removed in seaborn v0.14.0.\n",
            "\n",
            "Please adapt your code to use either `displot` (a figure-level function with\n",
            "similar flexibility) or `histplot` (an axes-level function for histograms).\n",
            "\n",
            "For a guide to updating your code to use the new functions, please see\n",
            "https://gist.github.com/mwaskom/de44147ed2974457ad6372750bbe5751\n",
            "\n",
            "  sns.distplot(x = df[\"Age\"])\n"
          ]
        },
        {
          "output_type": "execute_result",
          "data": {
            "text/plain": [
              "<Axes: ylabel='Density'>"
            ]
          },
          "metadata": {},
          "execution_count": 13
        },
        {
          "output_type": "display_data",
          "data": {
            "text/plain": [
              "<Figure size 640x480 with 1 Axes>"
            ],
            "image/png": "[encoded data removed]"
          },
          "metadata": {}
        }
      ]
    },
    {
      "cell_type": "code",
      "source": [
        "# Gender\n",
        "sns.countplot(x = df[\"Gender\"])"
      ],
      "metadata": {
        "colab": {
          "base_uri": "https://localhost:8080/",
          "height": 466
        },
        "id": "Qqy8X4ZA31Wm",
        "outputId": "86dc6c59-b98c-4e2f-b9c2-6747eda53669"
      },
      "execution_count": 14,
      "outputs": [
        {
          "output_type": "execute_result",
          "data": {
            "text/plain": [
              "<Axes: xlabel='Gender', ylabel='count'>"
            ]
          },
          "metadata": {},
          "execution_count": 14
        },
        {
          "output_type": "display_data",
          "data": {
            "text/plain": [
              "<Figure size 640x480 with 1 Axes>"
            ],
            "image/png": "[encoded data removed]"
          },
          "metadata": {}
        }
      ]
    },
    {
      "cell_type": "code",
      "source": [
        "sns.countplot(x = df[\"Marital Status\"],hue =df[\"Gender\"])"
      ],
      "metadata": {
        "colab": {
          "base_uri": "https://localhost:8080/",
          "height": 466
        },
        "id": "DyzOd-K04KpI",
        "outputId": "f4502fa0-c4d2-48d7-80f6-8883f71ee636"
      },
      "execution_count": 15,
      "outputs": [
        {
          "output_type": "execute_result",
          "data": {
            "text/plain": [
              "<Axes: xlabel='Marital Status', ylabel='count'>"
            ]
          },
          "metadata": {},
          "execution_count": 15
        },
        {
          "output_type": "display_data",
          "data": {
            "text/plain": [
              "<Figure size 640x480 with 1 Axes>"
            ],
            "image/png": "[encoded data removed]"
          },
          "metadata": {}
        }
      ]
    },
    {
      "cell_type": "code",
      "source": [
        "# distribution of age with each of the gender,age and gender\n",
        "\n",
        "sns.boxplot(x= df[\"Gender\"],y=df[\"Age\"])"
      ],
      "metadata": {
        "colab": {
          "base_uri": "https://localhost:8080/",
          "height": 466
        },
        "id": "YQTtorMR4Zhw",
        "outputId": "1056d0af-968a-4c5f-db81-2d52a0de01af"
      },
      "execution_count": 16,
      "outputs": [
        {
          "output_type": "execute_result",
          "data": {
            "text/plain": [
              "<Axes: xlabel='Gender', ylabel='Age'>"
            ]
          },
          "metadata": {},
          "execution_count": 16
        },
        {
          "output_type": "display_data",
          "data": {
            "text/plain": [
              "<Figure size 640x480 with 1 Axes>"
            ],
            "image/png": "[encoded data removed]"
          },
          "metadata": {}
        }
      ]
    },
    {
      "cell_type": "markdown",
      "source": [
        "Insights from box plot above:\n",
        "50% of the female age fall under 23-26.\n",
        "           50% ofthe male age fall under 22-26\n"
      ],
      "metadata": {
        "id": "ZcqA3BYO5yUt"
      }
    },
    {
      "cell_type": "code",
      "source": [
        "# Data Cleaning\n",
        "df.isnull().sum()"
      ],
      "metadata": {
        "colab": {
          "base_uri": "https://localhost:8080/"
        },
        "id": "KKzU16UA6JhC",
        "outputId": "2a730765-1c81-4364-9649-b60ff63e426a"
      },
      "execution_count": 17,
      "outputs": [
        {
          "output_type": "execute_result",
          "data": {
            "text/plain": [
              "Unnamed: 0                      0\n",
              "order_status                    0\n",
              "Monthly Income                  0\n",
              "latitude                        0\n",
              "Marital Status                  0\n",
              "Gender                          0\n",
              "employment_status               0\n",
              "Family size                    19\n",
              "Reviews                         0\n",
              "Pin code                        0\n",
              "Age                            19\n",
              "longitude                       0\n",
              "Educational Qualifications      0\n",
              "Unnamed: 13                     0\n",
              "9                             388\n",
              "#@%                           382\n",
              "dtype: int64"
            ]
          },
          "metadata": {},
          "execution_count": 17
        }
      ]
    },
    {
      "cell_type": "code",
      "source": [
        "#Dropping unnecessary column : drop(column[]) inplace =true make changes in the original dataset\n",
        "\n",
        "df.drop(columns = [\"Unnamed: 0\",\"Unnamed: 13\",\"9\",\"#@%\"],inplace=True)"
      ],
      "metadata": {
        "id": "Jm_Tqq-w7o9O"
      },
      "execution_count": 18,
      "outputs": []
    },
    {
      "cell_type": "code",
      "source": [
        "df.columns"
      ],
      "metadata": {
        "colab": {
          "base_uri": "https://localhost:8080/"
        },
        "id": "tnQWQPR681Xd",
        "outputId": "bb17835f-9baf-4636-d73b-4af678bb8c0a"
      },
      "execution_count": 19,
      "outputs": [
        {
          "output_type": "execute_result",
          "data": {
            "text/plain": [
              "Index(['order_status', 'Monthly Income', 'latitude', 'Marital Status',\n",
              "       'Gender', 'employment_status', 'Family size', 'Reviews', 'Pin code',\n",
              "       'Age', 'longitude', 'Educational Qualifications'],\n",
              "      dtype='object')"
            ]
          },
          "metadata": {},
          "execution_count": 19
        }
      ]
    },
    {
      "cell_type": "code",
      "source": [
        "# Dealing with missing values\n",
        "\n",
        "#fillna - to fill missing values\n",
        "\n",
        "# Mean imputation\n",
        "\n",
        "df_mean = df.copy() # Creating copy of the dataset to demonstrate mean imputation\n",
        "df_median = df.copy() # For Median imputation"
      ],
      "metadata": {
        "id": "gPeGPudA86Ev"
      },
      "execution_count": 20,
      "outputs": []
    },
    {
      "cell_type": "code",
      "source": [
        "df.isnull().sum()[\"Age\"]\n",
        "#we have 19 missing values for Age Column"
      ],
      "metadata": {
        "colab": {
          "base_uri": "https://localhost:8080/"
        },
        "id": "wl9JUBZa-xNH",
        "outputId": "206ad39b-971a-4c11-eba1-b911b68f5a77"
      },
      "execution_count": 21,
      "outputs": [
        {
          "output_type": "execute_result",
          "data": {
            "text/plain": [
              "19"
            ]
          },
          "metadata": {},
          "execution_count": 21
        }
      ]
    },
    {
      "cell_type": "code",
      "source": [
        "#Mean imputation for the Age Column\n",
        "\n",
        "df[\"Age\"].mean()"
      ],
      "metadata": {
        "colab": {
          "base_uri": "https://localhost:8080/"
        },
        "id": "g9Y9r_Po-22y",
        "outputId": "b8a6a893-b2df-455e-c40c-98ac514897d3"
      },
      "execution_count": 22,
      "outputs": [
        {
          "output_type": "execute_result",
          "data": {
            "text/plain": [
              "24.666666666666668"
            ]
          },
          "metadata": {},
          "execution_count": 22
        }
      ]
    },
    {
      "cell_type": "code",
      "source": [
        "round(df[\"Age\"].mean())"
      ],
      "metadata": {
        "colab": {
          "base_uri": "https://localhost:8080/"
        },
        "id": "4CJivODo_Ogb",
        "outputId": "d2820a44-38a7-4f63-c4f5-af6a3bea9331"
      },
      "execution_count": 23,
      "outputs": [
        {
          "output_type": "execute_result",
          "data": {
            "text/plain": [
              "25"
            ]
          },
          "metadata": {},
          "execution_count": 23
        }
      ]
    },
    {
      "cell_type": "code",
      "source": [
        "df_mean[\"Age\"] = df[\"Age\"].fillna(round(df[\"Age\"].mean()))"
      ],
      "metadata": {
        "id": "zIk9Dpg5_XxW"
      },
      "execution_count": 24,
      "outputs": []
    },
    {
      "cell_type": "code",
      "source": [
        "df_mean[\"Age\"] # It fills with the mean of the Age column"
      ],
      "metadata": {
        "colab": {
          "base_uri": "https://localhost:8080/"
        },
        "id": "MFc2meNA_rnQ",
        "outputId": "53f99eb2-b3c9-44d1-ebf9-0bbc7f3eed84"
      },
      "execution_count": 25,
      "outputs": [
        {
          "output_type": "execute_result",
          "data": {
            "text/plain": [
              "0      28.0\n",
              "1      25.0\n",
              "2      25.0\n",
              "3      25.0\n",
              "4      25.0\n",
              "       ... \n",
              "383    24.0\n",
              "384    23.0\n",
              "385    22.0\n",
              "386    22.0\n",
              "387    25.0\n",
              "Name: Age, Length: 388, dtype: float64"
            ]
          },
          "metadata": {},
          "execution_count": 25
        }
      ]
    },
    {
      "cell_type": "code",
      "source": [
        "df_mean.isnull().sum()"
      ],
      "metadata": {
        "colab": {
          "base_uri": "https://localhost:8080/"
        },
        "id": "eUAR70TfAQh6",
        "outputId": "e4745c2d-d47b-40f3-eb30-532f4475260d"
      },
      "execution_count": 26,
      "outputs": [
        {
          "output_type": "execute_result",
          "data": {
            "text/plain": [
              "order_status                   0\n",
              "Monthly Income                 0\n",
              "latitude                       0\n",
              "Marital Status                 0\n",
              "Gender                         0\n",
              "employment_status              0\n",
              "Family size                   19\n",
              "Reviews                        0\n",
              "Pin code                       0\n",
              "Age                            0\n",
              "longitude                      0\n",
              "Educational Qualifications     0\n",
              "dtype: int64"
            ]
          },
          "metadata": {},
          "execution_count": 26
        }
      ]
    },
    {
      "cell_type": "code",
      "source": [
        "#Median imputation for Age Column\n",
        "df_median.isnull().sum()"
      ],
      "metadata": {
        "colab": {
          "base_uri": "https://localhost:8080/"
        },
        "id": "4roMHn8b_z4H",
        "outputId": "64d1bd47-8d98-48d2-bfc7-5987dff5a06a"
      },
      "execution_count": 27,
      "outputs": [
        {
          "output_type": "execute_result",
          "data": {
            "text/plain": [
              "order_status                   0\n",
              "Monthly Income                 0\n",
              "latitude                       0\n",
              "Marital Status                 0\n",
              "Gender                         0\n",
              "employment_status              0\n",
              "Family size                   19\n",
              "Reviews                        0\n",
              "Pin code                       0\n",
              "Age                           19\n",
              "longitude                      0\n",
              "Educational Qualifications     0\n",
              "dtype: int64"
            ]
          },
          "metadata": {},
          "execution_count": 27
        }
      ]
    },
    {
      "cell_type": "code",
      "source": [
        "df_median[\"Age\"] = df_median[\"Age\"].fillna(df_median[\"Age\"].median())"
      ],
      "metadata": {
        "id": "089IUoSOAHHY"
      },
      "execution_count": 28,
      "outputs": []
    },
    {
      "cell_type": "code",
      "source": [
        "df_median.isnull().sum()[\"Age\"]"
      ],
      "metadata": {
        "colab": {
          "base_uri": "https://localhost:8080/"
        },
        "id": "uKjjWZ0rAy4b",
        "outputId": "5d167224-e870-49f2-bc30-5eceb171ce28"
      },
      "execution_count": 29,
      "outputs": [
        {
          "output_type": "execute_result",
          "data": {
            "text/plain": [
              "0"
            ]
          },
          "metadata": {},
          "execution_count": 29
        }
      ]
    },
    {
      "cell_type": "code",
      "source": [
        "#Comparing old distribution before filling null values and after filling null values with mean\n",
        "\n",
        "plt.figure(figsize = (15,8))\n",
        "plt.subplot(1,2,1) #  1 rows , 2 column, In 1st provide the distribution of before filling null values\n",
        "sns.distplot(df[\"Age\"]) # Distribution before filling mean value\n",
        "plt.subplot(1,2,2)\n",
        "sns.distplot(df_mean[\"Age\"]) # After filling with the mean value\n"
      ],
      "metadata": {
        "colab": {
          "base_uri": "https://localhost:8080/",
          "height": 1000
        },
        "id": "W-1xm90YA_P_",
        "outputId": "cab90d4a-b7fd-46f3-c3b9-b68a385efe58"
      },
      "execution_count": 30,
      "outputs": [
        {
          "output_type": "stream",
          "name": "stderr",
          "text": [
            "<ipython-input-30-59230a6aafc9>:5: UserWarning: \n",
            "\n",
            "`distplot` is a deprecated function and will be removed in seaborn v0.14.0.\n",
            "\n",
            "Please adapt your code to use either `displot` (a figure-level function with\n",
            "similar flexibility) or `histplot` (an axes-level function for histograms).\n",
            "\n",
            "For a guide to updating your code to use the new functions, please see\n",
            "https://gist.github.com/mwaskom/de44147ed2974457ad6372750bbe5751\n",
            "\n",
            "  sns.distplot(df[\"Age\"]) # Distribution before filling mean value\n",
            "<ipython-input-30-59230a6aafc9>:7: UserWarning: \n",
            "\n",
            "`distplot` is a deprecated function and will be removed in seaborn v0.14.0.\n",
            "\n",
            "Please adapt your code to use either `displot` (a figure-level function with\n",
            "similar flexibility) or `histplot` (an axes-level function for histograms).\n",
            "\n",
            "For a guide to updating your code to use the new functions, please see\n",
            "https://gist.github.com/mwaskom/de44147ed2974457ad6372750bbe5751\n",
            "\n",
            "  sns.distplot(df_mean[\"Age\"]) # After filling with the mean value\n"
          ]
        },
        {
          "output_type": "execute_result",
          "data": {
            "text/plain": [
              "<Axes: xlabel='Age', ylabel='Density'>"
            ]
          },
          "metadata": {},
          "execution_count": 30
        },
        {
          "output_type": "display_data",
          "data": {
            "text/plain": [
              "<Figure size 1500x800 with 2 Axes>"
            ],
            "image/png": "[encoded data removed]"
          },
          "metadata": {}
        }
      ]
    },
    {
      "cell_type": "code",
      "source": [
        "#Comparing old distribution before filling null values and after filling null values with median\n",
        "\n",
        "plt.figure(figsize = (15,8))\n",
        "plt.subplot(1,2,1) # 1 rows , 2 column, In 1st provide the distribution of before filling null values\n",
        "sns.distplot(df[\"Age\"]) # Distribution before filling median value\n",
        "plt.subplot(1,2,2)\n",
        "sns.distplot(df_median[\"Age\"]) # After filling with the median value"
      ],
      "metadata": {
        "colab": {
          "base_uri": "https://localhost:8080/",
          "height": 1000
        },
        "id": "7Qg14EoyBxE7",
        "outputId": "3da1b300-8be0-4f47-ef02-9142eb1dbf89"
      },
      "execution_count": 31,
      "outputs": [
        {
          "output_type": "stream",
          "name": "stderr",
          "text": [
            "<ipython-input-31-d5d7066e19ef>:5: UserWarning: \n",
            "\n",
            "`distplot` is a deprecated function and will be removed in seaborn v0.14.0.\n",
            "\n",
            "Please adapt your code to use either `displot` (a figure-level function with\n",
            "similar flexibility) or `histplot` (an axes-level function for histograms).\n",
            "\n",
            "For a guide to updating your code to use the new functions, please see\n",
            "https://gist.github.com/mwaskom/de44147ed2974457ad6372750bbe5751\n",
            "\n",
            "  sns.distplot(df[\"Age\"]) # Distribution before filling median value\n",
            "<ipython-input-31-d5d7066e19ef>:7: UserWarning: \n",
            "\n",
            "`distplot` is a deprecated function and will be removed in seaborn v0.14.0.\n",
            "\n",
            "Please adapt your code to use either `displot` (a figure-level function with\n",
            "similar flexibility) or `histplot` (an axes-level function for histograms).\n",
            "\n",
            "For a guide to updating your code to use the new functions, please see\n",
            "https://gist.github.com/mwaskom/de44147ed2974457ad6372750bbe5751\n",
            "\n",
            "  sns.distplot(df_median[\"Age\"]) # After filling with the median value\n"
          ]
        },
        {
          "output_type": "execute_result",
          "data": {
            "text/plain": [
              "<Axes: xlabel='Age', ylabel='Density'>"
            ]
          },
          "metadata": {},
          "execution_count": 31
        },
        {
          "output_type": "display_data",
          "data": {
            "text/plain": [
              "<Figure size 1500x800 with 2 Axes>"
            ],
            "image/png": "[encoded data removed]"
          },
          "metadata": {}
        }
      ]
    },
    {
      "cell_type": "code",
      "source": [
        "# Mode Imputation - It is used for categorical column\n",
        "\n",
        "df.isnull().sum()"
      ],
      "metadata": {
        "colab": {
          "base_uri": "https://localhost:8080/"
        },
        "id": "7JU-h0FWCofL",
        "outputId": "dde834bd-b5ca-4722-8d51-3449f1cc5858"
      },
      "execution_count": 32,
      "outputs": [
        {
          "output_type": "execute_result",
          "data": {
            "text/plain": [
              "order_status                   0\n",
              "Monthly Income                 0\n",
              "latitude                       0\n",
              "Marital Status                 0\n",
              "Gender                         0\n",
              "employment_status              0\n",
              "Family size                   19\n",
              "Reviews                        0\n",
              "Pin code                       0\n",
              "Age                           19\n",
              "longitude                      0\n",
              "Educational Qualifications     0\n",
              "dtype: int64"
            ]
          },
          "metadata": {},
          "execution_count": 32
        }
      ]
    },
    {
      "cell_type": "code",
      "source": [
        "# Filling null values in the original dataset\n",
        "df[\"Age\"] = df[\"Age\"].fillna(df[\"Age\"].median())"
      ],
      "metadata": {
        "id": "QB_1OrHfC_LC"
      },
      "execution_count": 33,
      "outputs": []
    },
    {
      "cell_type": "code",
      "source": [
        "df.isnull().sum() # now we can see there are no nullvalues in the Age column"
      ],
      "metadata": {
        "colab": {
          "base_uri": "https://localhost:8080/"
        },
        "id": "B40Fv9VvDVjN",
        "outputId": "b852d24b-3b43-43e0-dbe7-1f33e54c9d10"
      },
      "execution_count": 34,
      "outputs": [
        {
          "output_type": "execute_result",
          "data": {
            "text/plain": [
              "order_status                   0\n",
              "Monthly Income                 0\n",
              "latitude                       0\n",
              "Marital Status                 0\n",
              "Gender                         0\n",
              "employment_status              0\n",
              "Family size                   19\n",
              "Reviews                        0\n",
              "Pin code                       0\n",
              "Age                            0\n",
              "longitude                      0\n",
              "Educational Qualifications     0\n",
              "dtype: int64"
            ]
          },
          "metadata": {},
          "execution_count": 34
        }
      ]
    },
    {
      "cell_type": "code",
      "source": [
        "df.info()"
      ],
      "metadata": {
        "colab": {
          "base_uri": "https://localhost:8080/"
        },
        "id": "9Wv3M8qpDfYm",
        "outputId": "37b3ae3d-0afa-4faa-cdfc-e45f44f8a127"
      },
      "execution_count": 35,
      "outputs": [
        {
          "output_type": "stream",
          "name": "stdout",
          "text": [
            "<class 'pandas.core.frame.DataFrame'>\n",
            "RangeIndex: 388 entries, 0 to 387\n",
            "Data columns (total 12 columns):\n",
            " #   Column                      Non-Null Count  Dtype  \n",
            "---  ------                      --------------  -----  \n",
            " 0   order_status                388 non-null    object \n",
            " 1   Monthly Income              388 non-null    object \n",
            " 2   latitude                    388 non-null    float64\n",
            " 3   Marital Status              388 non-null    object \n",
            " 4   Gender                      388 non-null    object \n",
            " 5   employment_status           388 non-null    object \n",
            " 6   Family size                 369 non-null    float64\n",
            " 7   Reviews                     388 non-null    object \n",
            " 8   Pin code                    388 non-null    int64  \n",
            " 9   Age                         388 non-null    float64\n",
            " 10  longitude                   388 non-null    float64\n",
            " 11  Educational Qualifications  388 non-null    object \n",
            "dtypes: float64(4), int64(1), object(7)\n",
            "memory usage: 36.5+ KB\n"
          ]
        }
      ]
    },
    {
      "cell_type": "code",
      "source": [
        "df[\"Family size\"].value_counts()"
      ],
      "metadata": {
        "colab": {
          "base_uri": "https://localhost:8080/"
        },
        "id": "Rz5b1wfDDmSx",
        "outputId": "fc010b87-c98e-4818-c80f-8bdc5f1b9a1c"
      },
      "execution_count": 36,
      "outputs": [
        {
          "output_type": "execute_result",
          "data": {
            "text/plain": [
              "3.0    112\n",
              "2.0     95\n",
              "4.0     60\n",
              "5.0     51\n",
              "6.0     29\n",
              "1.0     22\n",
              "Name: Family size, dtype: int64"
            ]
          },
          "metadata": {},
          "execution_count": 36
        }
      ]
    },
    {
      "cell_type": "code",
      "source": [
        "#We are changing data types of the family Size\n",
        "df[\"Family size\"] = df[\"Family size\"].astype(\"category\")"
      ],
      "metadata": {
        "id": "NEs-WRZjD592"
      },
      "execution_count": 37,
      "outputs": []
    },
    {
      "cell_type": "code",
      "source": [
        "df.info() # Here we can see we have successfully changed the datatype of the family Size from float to category"
      ],
      "metadata": {
        "colab": {
          "base_uri": "https://localhost:8080/"
        },
        "id": "bYSOZHLrEkSV",
        "outputId": "41c5dd06-62d0-47d2-d41d-606e717991a2"
      },
      "execution_count": 38,
      "outputs": [
        {
          "output_type": "stream",
          "name": "stdout",
          "text": [
            "<class 'pandas.core.frame.DataFrame'>\n",
            "RangeIndex: 388 entries, 0 to 387\n",
            "Data columns (total 12 columns):\n",
            " #   Column                      Non-Null Count  Dtype   \n",
            "---  ------                      --------------  -----   \n",
            " 0   order_status                388 non-null    object  \n",
            " 1   Monthly Income              388 non-null    object  \n",
            " 2   latitude                    388 non-null    float64 \n",
            " 3   Marital Status              388 non-null    object  \n",
            " 4   Gender                      388 non-null    object  \n",
            " 5   employment_status           388 non-null    object  \n",
            " 6   Family size                 369 non-null    category\n",
            " 7   Reviews                     388 non-null    object  \n",
            " 8   Pin code                    388 non-null    int64   \n",
            " 9   Age                         388 non-null    float64 \n",
            " 10  longitude                   388 non-null    float64 \n",
            " 11  Educational Qualifications  388 non-null    object  \n",
            "dtypes: category(1), float64(3), int64(1), object(7)\n",
            "memory usage: 34.1+ KB\n"
          ]
        }
      ]
    },
    {
      "cell_type": "code",
      "source": [
        "df[\"Family size\"].mode()"
      ],
      "metadata": {
        "colab": {
          "base_uri": "https://localhost:8080/"
        },
        "id": "7vt4Ogz8E2CZ",
        "outputId": "93ed1e97-0cba-45c0-d8e7-8259483d0fa1"
      },
      "execution_count": 39,
      "outputs": [
        {
          "output_type": "stream",
          "name": "stderr",
          "text": [
            "/usr/local/lib/python3.10/dist-packages/IPython/lib/pretty.py:700: FutureWarning: Index.ravel returning ndarray is deprecated; in a future version this will return a view on self.\n",
            "  output = repr(obj)\n"
          ]
        },
        {
          "output_type": "execute_result",
          "data": {
            "text/plain": [
              "0    3.0\n",
              "Name: Family size, dtype: category\n",
              "Categories (6, float64): [1.0, 2.0, 3.0, 4.0, 5.0, 6.0]"
            ]
          },
          "metadata": {},
          "execution_count": 39
        }
      ]
    },
    {
      "cell_type": "code",
      "source": [
        "df[\"Family size\"].mode()[0] # We got the more frequency that is 3"
      ],
      "metadata": {
        "colab": {
          "base_uri": "https://localhost:8080/"
        },
        "id": "FfwT0HoaFASv",
        "outputId": "061a3c48-4269-4cb7-b0ee-d7b11462dc8e"
      },
      "execution_count": 40,
      "outputs": [
        {
          "output_type": "execute_result",
          "data": {
            "text/plain": [
              "3.0"
            ]
          },
          "metadata": {},
          "execution_count": 40
        }
      ]
    },
    {
      "cell_type": "code",
      "source": [
        "# Mode Techinique to fill missing value in family size\n",
        "df[\"Family size\"] = df[\"Family size\"].fillna(df[\"Family size\"].mode()[0])"
      ],
      "metadata": {
        "id": "0cNDvtn4FMOd"
      },
      "execution_count": 41,
      "outputs": []
    },
    {
      "cell_type": "code",
      "source": [
        "df.isnull().sum() # Now we don't have missing value\n"
      ],
      "metadata": {
        "colab": {
          "base_uri": "https://localhost:8080/"
        },
        "id": "iKciypjcFmZr",
        "outputId": "63e307ec-81e8-4f3e-8806-2c2aa6de243b"
      },
      "execution_count": 42,
      "outputs": [
        {
          "output_type": "execute_result",
          "data": {
            "text/plain": [
              "order_status                  0\n",
              "Monthly Income                0\n",
              "latitude                      0\n",
              "Marital Status                0\n",
              "Gender                        0\n",
              "employment_status             0\n",
              "Family size                   0\n",
              "Reviews                       0\n",
              "Pin code                      0\n",
              "Age                           0\n",
              "longitude                     0\n",
              "Educational Qualifications    0\n",
              "dtype: int64"
            ]
          },
          "metadata": {},
          "execution_count": 42
        }
      ]
    },
    {
      "cell_type": "code",
      "source": [
        "# Categorical variables ,outliers,date columns."
      ],
      "metadata": {
        "id": "vdV3aN0wGC_e"
      },
      "execution_count": 43,
      "outputs": []
    },
    {
      "cell_type": "code",
      "source": [
        "df.head()"
      ],
      "metadata": {
        "colab": {
          "base_uri": "https://localhost:8080/",
          "height": 206
        },
        "id": "7z3_VBPkG9IT",
        "outputId": "4b58ade9-3db0-4f54-a0a3-0b72ab39c645"
      },
      "execution_count": 44,
      "outputs": [
        {
          "output_type": "execute_result",
          "data": {
            "text/plain": [
              "  order_status   Monthly Income  latitude Marital Status  Gender  \\\n",
              "0          Yes   25001 to 50000   13.0262        Married    Male   \n",
              "1          Yes        No Income   12.9770         Single    Male   \n",
              "2          Yes        No Income   12.9770         Single  Female   \n",
              "3          Yes        No Income   13.0019         Single  Female   \n",
              "4          Yes  More than 50000   13.0626        Married    Male   \n",
              "\n",
              "  employment_status Family size   Reviews  Pin code   Age  longitude  \\\n",
              "0          Employee         5.0  Positive    560045  28.0    77.6200   \n",
              "1           Student         3.0  Positive    560009  24.0    77.5773   \n",
              "2           Student         3.0  Positive    560009  24.0    77.5773   \n",
              "3           Student         3.0  Positive    560003  24.0    77.5713   \n",
              "4    Self Employeed         3.0  Positive    560015  24.0    77.5284   \n",
              "\n",
              "  Educational Qualifications  \n",
              "0              Post Graduate  \n",
              "1              Post Graduate  \n",
              "2              Post Graduate  \n",
              "3              Post Graduate  \n",
              "4                     School  "
            ],
            "text/html": [
              "\n",
              "  <div id=\"df-d2a9e5e8-eb10-4334-b73e-751aef410b92\" class=\"colab-df-container\">\n",
              "    <div>\n",
              "<style scoped>\n",
              "    .dataframe tbody tr th:only-of-type {\n",
              "        vertical-align: middle;\n",
              "    }\n",
              "\n",
              "    .dataframe tbody tr th {\n",
              "        vertical-align: top;\n",
              "    }\n",
              "\n",
              "    .dataframe thead th {\n",
              "        text-align: right;\n",
              "    }\n",
              "</style>\n",
              "<table border=\"1\" class=\"dataframe\">\n",
              "  <thead>\n",
              "    <tr style=\"text-align: right;\">\n",
              "      <th></th>\n",
              "      <th>order_status</th>\n",
              "      <th>Monthly Income</th>\n",
              "      <th>latitude</th>\n",
              "      <th>Marital Status</th>\n",
              "      <th>Gender</th>\n",
              "      <th>employment_status</th>\n",
              "      <th>Family size</th>\n",
              "      <th>Reviews</th>\n",
              "      <th>Pin code</th>\n",
              "      <th>Age</th>\n",
              "      <th>longitude</th>\n",
              "      <th>Educational Qualifications</th>\n",
              "    </tr>\n",
              "  </thead>\n",
              "  <tbody>\n",
              "    <tr>\n",
              "      <th>0</th>\n",
              "      <td>Yes</td>\n",
              "      <td>25001 to 50000</td>\n",
              "      <td>13.0262</td>\n",
              "      <td>Married</td>\n",
              "      <td>Male</td>\n",
              "      <td>Employee</td>\n",
              "      <td>5.0</td>\n",
              "      <td>Positive</td>\n",
              "      <td>560045</td>\n",
              "      <td>28.0</td>\n",
              "      <td>77.6200</td>\n",
              "      <td>Post Graduate</td>\n",
              "    </tr>\n",
              "    <tr>\n",
              "      <th>1</th>\n",
              "      <td>Yes</td>\n",
              "      <td>No Income</td>\n",
              "      <td>12.9770</td>\n",
              "      <td>Single</td>\n",
              "      <td>Male</td>\n",
              "      <td>Student</td>\n",
              "      <td>3.0</td>\n",
              "      <td>Positive</td>\n",
              "      <td>560009</td>\n",
              "      <td>24.0</td>\n",
              "      <td>77.5773</td>\n",
              "      <td>Post Graduate</td>\n",
              "    </tr>\n",
              "    <tr>\n",
              "      <th>2</th>\n",
              "      <td>Yes</td>\n",
              "      <td>No Income</td>\n",
              "      <td>12.9770</td>\n",
              "      <td>Single</td>\n",
              "      <td>Female</td>\n",
              "      <td>Student</td>\n",
              "      <td>3.0</td>\n",
              "      <td>Positive</td>\n",
              "      <td>560009</td>\n",
              "      <td>24.0</td>\n",
              "      <td>77.5773</td>\n",
              "      <td>Post Graduate</td>\n",
              "    </tr>\n",
              "    <tr>\n",
              "      <th>3</th>\n",
              "      <td>Yes</td>\n",
              "      <td>No Income</td>\n",
              "      <td>13.0019</td>\n",
              "      <td>Single</td>\n",
              "      <td>Female</td>\n",
              "      <td>Student</td>\n",
              "      <td>3.0</td>\n",
              "      <td>Positive</td>\n",
              "      <td>560003</td>\n",
              "      <td>24.0</td>\n",
              "      <td>77.5713</td>\n",
              "      <td>Post Graduate</td>\n",
              "    </tr>\n",
              "    <tr>\n",
              "      <th>4</th>\n",
              "      <td>Yes</td>\n",
              "      <td>More than 50000</td>\n",
              "      <td>13.0626</td>\n",
              "      <td>Married</td>\n",
              "      <td>Male</td>\n",
              "      <td>Self Employeed</td>\n",
              "      <td>3.0</td>\n",
              "      <td>Positive</td>\n",
              "      <td>560015</td>\n",
              "      <td>24.0</td>\n",
              "      <td>77.5284</td>\n",
              "      <td>School</td>\n",
              "    </tr>\n",
              "  </tbody>\n",
              "</table>\n",
              "</div>\n",
              "    <div class=\"colab-df-buttons\">\n",
              "\n",
              "  <div class=\"colab-df-container\">\n",
              "    <button class=\"colab-df-convert\" onclick=\"convertToInteractive('df-d2a9e5e8-eb10-4334-b73e-751aef410b92')\"\n",
              "            title=\"Convert this dataframe to an interactive table.\"\n",
              "            style=\"display:none;\">\n",
              "\n",
              "  <svg xmlns=\"http://www.w3.org/2000/svg\" height=\"24px\" viewBox=\"0 -960 960 960\">\n",
              "    <path d=\"M120-120v-720h720v720H120Zm60-500h600v-160H180v160Zm220 220h160v-160H400v160Zm0 220h160v-160H400v160ZM180-400h160v-160H180v160Zm440 0h160v-160H620v160ZM180-180h160v-160H180v160Zm440 0h160v-160H620v160Z\"/>\n",
              "  </svg>\n",
              "    </button>\n",
              "\n",
              "  <style>\n",
              "    .colab-df-container {\n",
              "      display:flex;\n",
              "      gap: 12px;\n",
              "    }\n",
              "\n",
              "    .colab-df-convert {\n",
              "      background-color: #E8F0FE;\n",
              "      border: none;\n",
              "      border-radius: 50%;\n",
              "      cursor: pointer;\n",
              "      display: none;\n",
              "      fill: #1967D2;\n",
              "      height: 32px;\n",
              "      padding: 0 0 0 0;\n",
              "      width: 32px;\n",
              "    }\n",
              "\n",
              "    .colab-df-convert:hover {\n",
              "      background-color: #E2EBFA;\n",
              "      box-shadow: 0px 1px 2px rgba(60, 64, 67, 0.3), 0px 1px 3px 1px rgba(60, 64, 67, 0.15);\n",
              "      fill: #174EA6;\n",
              "    }\n",
              "\n",
              "    .colab-df-buttons div {\n",
              "      margin-bottom: 4px;\n",
              "    }\n",
              "\n",
              "    [theme=dark] .colab-df-convert {\n",
              "      background-color: #3B4455;\n",
              "      fill: #D2E3FC;\n",
              "    }\n",
              "\n",
              "    [theme=dark] .colab-df-convert:hover {\n",
              "      background-color: #434B5C;\n",
              "      box-shadow: 0px 1px 3px 1px rgba(0, 0, 0, 0.15);\n",
              "      filter: drop-shadow(0px 1px 2px rgba(0, 0, 0, 0.3));\n",
              "      fill: #FFFFFF;\n",
              "    }\n",
              "  </style>\n",
              "\n",
              "    <script>\n",
              "      const buttonEl =\n",
              "        document.querySelector('#df-d2a9e5e8-eb10-4334-b73e-751aef410b92 button.colab-df-convert');\n",
              "      buttonEl.style.display =\n",
              "        google.colab.kernel.accessAllowed ? 'block' : 'none';\n",
              "\n",
              "      async function convertToInteractive(key) {\n",
              "        const element = document.querySelector('#df-d2a9e5e8-eb10-4334-b73e-751aef410b92');\n",
              "        const dataTable =\n",
              "          await google.colab.kernel.invokeFunction('convertToInteractive',\n",
              "                                                    [key], {});\n",
              "        if (!dataTable) return;\n",
              "\n",
              "        const docLinkHtml = 'Like what you see? Visit the ' +\n",
              "          '<a target=\"_blank\" href=https://colab.research.google.com/notebooks/data_table.ipynb>data table notebook</a>'\n",
              "          + ' to learn more about interactive tables.';\n",
              "        element.innerHTML = '';\n",
              "        dataTable['output_type'] = 'display_data';\n",
              "        await google.colab.output.renderOutput(dataTable, element);\n",
              "        const docLink = document.createElement('div');\n",
              "        docLink.innerHTML = docLinkHtml;\n",
              "        element.appendChild(docLink);\n",
              "      }\n",
              "    </script>\n",
              "  </div>\n",
              "\n",
              "\n",
              "<div id=\"df-c3203742-0032-4f52-b668-925a772fa838\">\n",
              "  <button class=\"colab-df-quickchart\" onclick=\"quickchart('df-c3203742-0032-4f52-b668-925a772fa838')\"\n",
              "            title=\"Suggest charts\"\n",
              "            style=\"display:none;\">\n",
              "\n",
              "<svg xmlns=\"http://www.w3.org/2000/svg\" height=\"24px\"viewBox=\"0 0 24 24\"\n",
              "     width=\"24px\">\n",
              "    <g>\n",
              "        <path d=\"M19 3H5c-1.1 0-2 .9-2 2v14c0 1.1.9 2 2 2h14c1.1 0 2-.9 2-2V5c0-1.1-.9-2-2-2zM9 17H7v-7h2v7zm4 0h-2V7h2v10zm4 0h-2v-4h2v4z\"/>\n",
              "    </g>\n",
              "</svg>\n",
              "  </button>\n",
              "\n",
              "<style>\n",
              "  .colab-df-quickchart {\n",
              "      --bg-color: #E8F0FE;\n",
              "      --fill-color: #1967D2;\n",
              "      --hover-bg-color: #E2EBFA;\n",
              "      --hover-fill-color: #174EA6;\n",
              "      --disabled-fill-color: #AAA;\n",
              "      --disabled-bg-color: #DDD;\n",
              "  }\n",
              "\n",
              "  [theme=dark] .colab-df-quickchart {\n",
              "      --bg-color: #3B4455;\n",
              "      --fill-color: #D2E3FC;\n",
              "      --hover-bg-color: #434B5C;\n",
              "      --hover-fill-color: #FFFFFF;\n",
              "      --disabled-bg-color: #3B4455;\n",
              "      --disabled-fill-color: #666;\n",
              "  }\n",
              "\n",
              "  .colab-df-quickchart {\n",
              "    background-color: var(--bg-color);\n",
              "    border: none;\n",
              "    border-radius: 50%;\n",
              "    cursor: pointer;\n",
              "    display: none;\n",
              "    fill: var(--fill-color);\n",
              "    height: 32px;\n",
              "    padding: 0;\n",
              "    width: 32px;\n",
              "  }\n",
              "\n",
              "  .colab-df-quickchart:hover {\n",
              "    background-color: var(--hover-bg-color);\n",
              "    box-shadow: 0 1px 2px rgba(60, 64, 67, 0.3), 0 1px 3px 1px rgba(60, 64, 67, 0.15);\n",
              "    fill: var(--button-hover-fill-color);\n",
              "  }\n",
              "\n",
              "  .colab-df-quickchart-complete:disabled,\n",
              "  .colab-df-quickchart-complete:disabled:hover {\n",
              "    background-color: var(--disabled-bg-color);\n",
              "    fill: var(--disabled-fill-color);\n",
              "    box-shadow: none;\n",
              "  }\n",
              "\n",
              "  .colab-df-spinner {\n",
              "    border: 2px solid var(--fill-color);\n",
              "    border-color: transparent;\n",
              "    border-bottom-color: var(--fill-color);\n",
              "    animation:\n",
              "      spin 1s steps(1) infinite;\n",
              "  }\n",
              "\n",
              "  @keyframes spin {\n",
              "    0% {\n",
              "      border-color: transparent;\n",
              "      border-bottom-color: var(--fill-color);\n",
              "      border-left-color: var(--fill-color);\n",
              "    }\n",
              "    20% {\n",
              "      border-color: transparent;\n",
              "      border-left-color: var(--fill-color);\n",
              "      border-top-color: var(--fill-color);\n",
              "    }\n",
              "    30% {\n",
              "      border-color: transparent;\n",
              "      border-left-color: var(--fill-color);\n",
              "      border-top-color: var(--fill-color);\n",
              "      border-right-color: var(--fill-color);\n",
              "    }\n",
              "    40% {\n",
              "      border-color: transparent;\n",
              "      border-right-color: var(--fill-color);\n",
              "      border-top-color: var(--fill-color);\n",
              "    }\n",
              "    60% {\n",
              "      border-color: transparent;\n",
              "      border-right-color: var(--fill-color);\n",
              "    }\n",
              "    80% {\n",
              "      border-color: transparent;\n",
              "      border-right-color: var(--fill-color);\n",
              "      border-bottom-color: var(--fill-color);\n",
              "    }\n",
              "    90% {\n",
              "      border-color: transparent;\n",
              "      border-bottom-color: var(--fill-color);\n",
              "    }\n",
              "  }\n",
              "</style>\n",
              "\n",
              "  <script>\n",
              "    async function quickchart(key) {\n",
              "      const quickchartButtonEl =\n",
              "        document.querySelector('#' + key + ' button');\n",
              "      quickchartButtonEl.disabled = true;  // To prevent multiple clicks.\n",
              "      quickchartButtonEl.classList.add('colab-df-spinner');\n",
              "      try {\n",
              "        const charts = await google.colab.kernel.invokeFunction(\n",
              "            'suggestCharts', [key], {});\n",
              "      } catch (error) {\n",
              "        console.error('Error during call to suggestCharts:', error);\n",
              "      }\n",
              "      quickchartButtonEl.classList.remove('colab-df-spinner');\n",
              "      quickchartButtonEl.classList.add('colab-df-quickchart-complete');\n",
              "    }\n",
              "    (() => {\n",
              "      let quickchartButtonEl =\n",
              "        document.querySelector('#df-c3203742-0032-4f52-b668-925a772fa838 button');\n",
              "      quickchartButtonEl.style.display =\n",
              "        google.colab.kernel.accessAllowed ? 'block' : 'none';\n",
              "    })();\n",
              "  </script>\n",
              "</div>\n",
              "\n",
              "    </div>\n",
              "  </div>\n"
            ]
          },
          "metadata": {},
          "execution_count": 44
        }
      ]
    },
    {
      "cell_type": "code",
      "source": [
        "# Encoding is a process of converting text data into a numerical data for our model to comprehend."
      ],
      "metadata": {
        "id": "C4pOS65-HBAW"
      },
      "execution_count": 45,
      "outputs": []
    },
    {
      "cell_type": "code",
      "source": [
        "# Target Variable = order_status\n",
        "\n",
        "df[\"order_status\"].value_counts()"
      ],
      "metadata": {
        "colab": {
          "base_uri": "https://localhost:8080/"
        },
        "id": "HnJEpYZPHQG3",
        "outputId": "6f37ef6c-416c-4299-8d15-840adb7fe08b"
      },
      "execution_count": 46,
      "outputs": [
        {
          "output_type": "execute_result",
          "data": {
            "text/plain": [
              "Yes    301\n",
              "No      87\n",
              "Name: order_status, dtype: int64"
            ]
          },
          "metadata": {},
          "execution_count": 46
        }
      ]
    },
    {
      "cell_type": "code",
      "source": [
        "for i in df:\n",
        "  if df[i].dtypes == \"object\":\n",
        "    print(i,df[i].value_counts())\n",
        "    print(\"----------------------\")\n",
        "\n"
      ],
      "metadata": {
        "colab": {
          "base_uri": "https://localhost:8080/"
        },
        "id": "--uaUN2lQAe8",
        "outputId": "477cab24-ef7f-4096-cdd7-07121470a924"
      },
      "execution_count": 47,
      "outputs": [
        {
          "output_type": "stream",
          "name": "stdout",
          "text": [
            "order_status Yes    301\n",
            "No      87\n",
            "Name: order_status, dtype: int64\n",
            "----------------------\n",
            "Monthly Income No Income          187\n",
            "25001 to 50000      69\n",
            "More than 50000     62\n",
            "10001 to 25000      45\n",
            "Below Rs.10000      25\n",
            "Name: Monthly Income, dtype: int64\n",
            "----------------------\n",
            "Marital Status Single               268\n",
            "Married              108\n",
            "Prefer not to say     12\n",
            "Name: Marital Status, dtype: int64\n",
            "----------------------\n",
            "Gender Male      222\n",
            "Female    166\n",
            "Name: Gender, dtype: int64\n",
            "----------------------\n",
            "employment_status Student           207\n",
            "Employee          118\n",
            "Self Employeed     54\n",
            "House wife          9\n",
            "Name: employment_status, dtype: int64\n",
            "----------------------\n",
            "Reviews Positive     317\n",
            "Negative      71\n",
            "Name: Reviews, dtype: int64\n",
            "----------------------\n",
            "Educational Qualifications Graduate         177\n",
            "Post Graduate    174\n",
            "Ph.D              23\n",
            "School            12\n",
            "Uneducated         2\n",
            "Name: Educational Qualifications, dtype: int64\n",
            "----------------------\n"
          ]
        }
      ]
    },
    {
      "cell_type": "code",
      "source": [
        "\n",
        "#Ordinal Columns - Monthly income,Reviews,Education--we will apply map or ordinal Encoder\n",
        "# Nominal Colums- Marital_status,Gender,Employment_status -- We will apply pd.getdummies\n",
        "# order_status = target - label encoding or map"
      ],
      "metadata": {
        "id": "W_eVu8IZR1tE"
      },
      "execution_count": 48,
      "outputs": []
    },
    {
      "cell_type": "code",
      "source": [
        "df = pd.get_dummies(df,columns = [\"Marital Status\",\"Gender\",\"employment_status\"],drop_first = True) #drop first is used to remove one columns to avoid multicollinearity"
      ],
      "metadata": {
        "id": "UjIXyJ8fTA92"
      },
      "execution_count": 49,
      "outputs": []
    },
    {
      "cell_type": "code",
      "source": [
        "df.head(5)"
      ],
      "metadata": {
        "colab": {
          "base_uri": "https://localhost:8080/",
          "height": 383
        },
        "id": "1y2kXqvbUqWs",
        "outputId": "1834048c-9405-4f4e-ecf8-9da47858198c"
      },
      "execution_count": 50,
      "outputs": [
        {
          "output_type": "execute_result",
          "data": {
            "text/plain": [
              "  order_status   Monthly Income  latitude Family size   Reviews  Pin code  \\\n",
              "0          Yes   25001 to 50000   13.0262         5.0  Positive    560045   \n",
              "1          Yes        No Income   12.9770         3.0  Positive    560009   \n",
              "2          Yes        No Income   12.9770         3.0  Positive    560009   \n",
              "3          Yes        No Income   13.0019         3.0  Positive    560003   \n",
              "4          Yes  More than 50000   13.0626         3.0  Positive    560015   \n",
              "\n",
              "    Age  longitude Educational Qualifications  \\\n",
              "0  28.0    77.6200              Post Graduate   \n",
              "1  24.0    77.5773              Post Graduate   \n",
              "2  24.0    77.5773              Post Graduate   \n",
              "3  24.0    77.5713              Post Graduate   \n",
              "4  24.0    77.5284                     School   \n",
              "\n",
              "   Marital Status_Prefer not to say  Marital Status_Single  Gender_Male  \\\n",
              "0                                 0                      0            1   \n",
              "1                                 0                      1            1   \n",
              "2                                 0                      1            0   \n",
              "3                                 0                      1            0   \n",
              "4                                 0                      0            1   \n",
              "\n",
              "   employment_status_House wife  employment_status_Self Employeed  \\\n",
              "0                             0                                 0   \n",
              "1                             0                                 0   \n",
              "2                             0                                 0   \n",
              "3                             0                                 0   \n",
              "4                             0                                 1   \n",
              "\n",
              "   employment_status_Student  \n",
              "0                          0  \n",
              "1                          1  \n",
              "2                          1  \n",
              "3                          1  \n",
              "4                          0  "
            ],
            "text/html": [
              "\n",
              "  <div id=\"df-c22e2d49-ff5d-4592-88bf-af9c17e57a75\" class=\"colab-df-container\">\n",
              "    <div>\n",
              "<style scoped>\n",
              "    .dataframe tbody tr th:only-of-type {\n",
              "        vertical-align: middle;\n",
              "    }\n",
              "\n",
              "    .dataframe tbody tr th {\n",
              "        vertical-align: top;\n",
              "    }\n",
              "\n",
              "    .dataframe thead th {\n",
              "        text-align: right;\n",
              "    }\n",
              "</style>\n",
              "<table border=\"1\" class=\"dataframe\">\n",
              "  <thead>\n",
              "    <tr style=\"text-align: right;\">\n",
              "      <th></th>\n",
              "      <th>order_status</th>\n",
              "      <th>Monthly Income</th>\n",
              "      <th>latitude</th>\n",
              "      <th>Family size</th>\n",
              "      <th>Reviews</th>\n",
              "      <th>Pin code</th>\n",
              "      <th>Age</th>\n",
              "      <th>longitude</th>\n",
              "      <th>Educational Qualifications</th>\n",
              "      <th>Marital Status_Prefer not to say</th>\n",
              "      <th>Marital Status_Single</th>\n",
              "      <th>Gender_Male</th>\n",
              "      <th>employment_status_House wife</th>\n",
              "      <th>employment_status_Self Employeed</th>\n",
              "      <th>employment_status_Student</th>\n",
              "    </tr>\n",
              "  </thead>\n",
              "  <tbody>\n",
              "    <tr>\n",
              "      <th>0</th>\n",
              "      <td>Yes</td>\n",
              "      <td>25001 to 50000</td>\n",
              "      <td>13.0262</td>\n",
              "      <td>5.0</td>\n",
              "      <td>Positive</td>\n",
              "      <td>560045</td>\n",
              "      <td>28.0</td>\n",
              "      <td>77.6200</td>\n",
              "      <td>Post Graduate</td>\n",
              "      <td>0</td>\n",
              "      <td>0</td>\n",
              "      <td>1</td>\n",
              "      <td>0</td>\n",
              "      <td>0</td>\n",
              "      <td>0</td>\n",
              "    </tr>\n",
              "    <tr>\n",
              "      <th>1</th>\n",
              "      <td>Yes</td>\n",
              "      <td>No Income</td>\n",
              "      <td>12.9770</td>\n",
              "      <td>3.0</td>\n",
              "      <td>Positive</td>\n",
              "      <td>560009</td>\n",
              "      <td>24.0</td>\n",
              "      <td>77.5773</td>\n",
              "      <td>Post Graduate</td>\n",
              "      <td>0</td>\n",
              "      <td>1</td>\n",
              "      <td>1</td>\n",
              "      <td>0</td>\n",
              "      <td>0</td>\n",
              "      <td>1</td>\n",
              "    </tr>\n",
              "    <tr>\n",
              "      <th>2</th>\n",
              "      <td>Yes</td>\n",
              "      <td>No Income</td>\n",
              "      <td>12.9770</td>\n",
              "      <td>3.0</td>\n",
              "      <td>Positive</td>\n",
              "      <td>560009</td>\n",
              "      <td>24.0</td>\n",
              "      <td>77.5773</td>\n",
              "      <td>Post Graduate</td>\n",
              "      <td>0</td>\n",
              "      <td>1</td>\n",
              "      <td>0</td>\n",
              "      <td>0</td>\n",
              "      <td>0</td>\n",
              "      <td>1</td>\n",
              "    </tr>\n",
              "    <tr>\n",
              "      <th>3</th>\n",
              "      <td>Yes</td>\n",
              "      <td>No Income</td>\n",
              "      <td>13.0019</td>\n",
              "      <td>3.0</td>\n",
              "      <td>Positive</td>\n",
              "      <td>560003</td>\n",
              "      <td>24.0</td>\n",
              "      <td>77.5713</td>\n",
              "      <td>Post Graduate</td>\n",
              "      <td>0</td>\n",
              "      <td>1</td>\n",
              "      <td>0</td>\n",
              "      <td>0</td>\n",
              "      <td>0</td>\n",
              "      <td>1</td>\n",
              "    </tr>\n",
              "    <tr>\n",
              "      <th>4</th>\n",
              "      <td>Yes</td>\n",
              "      <td>More than 50000</td>\n",
              "      <td>13.0626</td>\n",
              "      <td>3.0</td>\n",
              "      <td>Positive</td>\n",
              "      <td>560015</td>\n",
              "      <td>24.0</td>\n",
              "      <td>77.5284</td>\n",
              "      <td>School</td>\n",
              "      <td>0</td>\n",
              "      <td>0</td>\n",
              "      <td>1</td>\n",
              "      <td>0</td>\n",
              "      <td>1</td>\n",
              "      <td>0</td>\n",
              "    </tr>\n",
              "  </tbody>\n",
              "</table>\n",
              "</div>\n",
              "    <div class=\"colab-df-buttons\">\n",
              "\n",
              "  <div class=\"colab-df-container\">\n",
              "    <button class=\"colab-df-convert\" onclick=\"convertToInteractive('df-c22e2d49-ff5d-4592-88bf-af9c17e57a75')\"\n",
              "            title=\"Convert this dataframe to an interactive table.\"\n",
              "            style=\"display:none;\">\n",
              "\n",
              "  <svg xmlns=\"http://www.w3.org/2000/svg\" height=\"24px\" viewBox=\"0 -960 960 960\">\n",
              "    <path d=\"M120-120v-720h720v720H120Zm60-500h600v-160H180v160Zm220 220h160v-160H400v160Zm0 220h160v-160H400v160ZM180-400h160v-160H180v160Zm440 0h160v-160H620v160ZM180-180h160v-160H180v160Zm440 0h160v-160H620v160Z\"/>\n",
              "  </svg>\n",
              "    </button>\n",
              "\n",
              "  <style>\n",
              "    .colab-df-container {\n",
              "      display:flex;\n",
              "      gap: 12px;\n",
              "    }\n",
              "\n",
              "    .colab-df-convert {\n",
              "      background-color: #E8F0FE;\n",
              "      border: none;\n",
              "      border-radius: 50%;\n",
              "      cursor: pointer;\n",
              "      display: none;\n",
              "      fill: #1967D2;\n",
              "      height: 32px;\n",
              "      padding: 0 0 0 0;\n",
              "      width: 32px;\n",
              "    }\n",
              "\n",
              "    .colab-df-convert:hover {\n",
              "      background-color: #E2EBFA;\n",
              "      box-shadow: 0px 1px 2px rgba(60, 64, 67, 0.3), 0px 1px 3px 1px rgba(60, 64, 67, 0.15);\n",
              "      fill: #174EA6;\n",
              "    }\n",
              "\n",
              "    .colab-df-buttons div {\n",
              "      margin-bottom: 4px;\n",
              "    }\n",
              "\n",
              "    [theme=dark] .colab-df-convert {\n",
              "      background-color: #3B4455;\n",
              "      fill: #D2E3FC;\n",
              "    }\n",
              "\n",
              "    [theme=dark] .colab-df-convert:hover {\n",
              "      background-color: #434B5C;\n",
              "      box-shadow: 0px 1px 3px 1px rgba(0, 0, 0, 0.15);\n",
              "      filter: drop-shadow(0px 1px 2px rgba(0, 0, 0, 0.3));\n",
              "      fill: #FFFFFF;\n",
              "    }\n",
              "  </style>\n",
              "\n",
              "    <script>\n",
              "      const buttonEl =\n",
              "        document.querySelector('#df-c22e2d49-ff5d-4592-88bf-af9c17e57a75 button.colab-df-convert');\n",
              "      buttonEl.style.display =\n",
              "        google.colab.kernel.accessAllowed ? 'block' : 'none';\n",
              "\n",
              "      async function convertToInteractive(key) {\n",
              "        const element = document.querySelector('#df-c22e2d49-ff5d-4592-88bf-af9c17e57a75');\n",
              "        const dataTable =\n",
              "          await google.colab.kernel.invokeFunction('convertToInteractive',\n",
              "                                                    [key], {});\n",
              "        if (!dataTable) return;\n",
              "\n",
              "        const docLinkHtml = 'Like what you see? Visit the ' +\n",
              "          '<a target=\"_blank\" href=https://colab.research.google.com/notebooks/data_table.ipynb>data table notebook</a>'\n",
              "          + ' to learn more about interactive tables.';\n",
              "        element.innerHTML = '';\n",
              "        dataTable['output_type'] = 'display_data';\n",
              "        await google.colab.output.renderOutput(dataTable, element);\n",
              "        const docLink = document.createElement('div');\n",
              "        docLink.innerHTML = docLinkHtml;\n",
              "        element.appendChild(docLink);\n",
              "      }\n",
              "    </script>\n",
              "  </div>\n",
              "\n",
              "\n",
              "<div id=\"df-b3a358a7-04db-4bd3-975f-749416c0c3da\">\n",
              "  <button class=\"colab-df-quickchart\" onclick=\"quickchart('df-b3a358a7-04db-4bd3-975f-749416c0c3da')\"\n",
              "            title=\"Suggest charts\"\n",
              "            style=\"display:none;\">\n",
              "\n",
              "<svg xmlns=\"http://www.w3.org/2000/svg\" height=\"24px\"viewBox=\"0 0 24 24\"\n",
              "     width=\"24px\">\n",
              "    <g>\n",
              "        <path d=\"M19 3H5c-1.1 0-2 .9-2 2v14c0 1.1.9 2 2 2h14c1.1 0 2-.9 2-2V5c0-1.1-.9-2-2-2zM9 17H7v-7h2v7zm4 0h-2V7h2v10zm4 0h-2v-4h2v4z\"/>\n",
              "    </g>\n",
              "</svg>\n",
              "  </button>\n",
              "\n",
              "<style>\n",
              "  .colab-df-quickchart {\n",
              "      --bg-color: #E8F0FE;\n",
              "      --fill-color: #1967D2;\n",
              "      --hover-bg-color: #E2EBFA;\n",
              "      --hover-fill-color: #174EA6;\n",
              "      --disabled-fill-color: #AAA;\n",
              "      --disabled-bg-color: #DDD;\n",
              "  }\n",
              "\n",
              "  [theme=dark] .colab-df-quickchart {\n",
              "      --bg-color: #3B4455;\n",
              "      --fill-color: #D2E3FC;\n",
              "      --hover-bg-color: #434B5C;\n",
              "      --hover-fill-color: #FFFFFF;\n",
              "      --disabled-bg-color: #3B4455;\n",
              "      --disabled-fill-color: #666;\n",
              "  }\n",
              "\n",
              "  .colab-df-quickchart {\n",
              "    background-color: var(--bg-color);\n",
              "    border: none;\n",
              "    border-radius: 50%;\n",
              "    cursor: pointer;\n",
              "    display: none;\n",
              "    fill: var(--fill-color);\n",
              "    height: 32px;\n",
              "    padding: 0;\n",
              "    width: 32px;\n",
              "  }\n",
              "\n",
              "  .colab-df-quickchart:hover {\n",
              "    background-color: var(--hover-bg-color);\n",
              "    box-shadow: 0 1px 2px rgba(60, 64, 67, 0.3), 0 1px 3px 1px rgba(60, 64, 67, 0.15);\n",
              "    fill: var(--button-hover-fill-color);\n",
              "  }\n",
              "\n",
              "  .colab-df-quickchart-complete:disabled,\n",
              "  .colab-df-quickchart-complete:disabled:hover {\n",
              "    background-color: var(--disabled-bg-color);\n",
              "    fill: var(--disabled-fill-color);\n",
              "    box-shadow: none;\n",
              "  }\n",
              "\n",
              "  .colab-df-spinner {\n",
              "    border: 2px solid var(--fill-color);\n",
              "    border-color: transparent;\n",
              "    border-bottom-color: var(--fill-color);\n",
              "    animation:\n",
              "      spin 1s steps(1) infinite;\n",
              "  }\n",
              "\n",
              "  @keyframes spin {\n",
              "    0% {\n",
              "      border-color: transparent;\n",
              "      border-bottom-color: var(--fill-color);\n",
              "      border-left-color: var(--fill-color);\n",
              "    }\n",
              "    20% {\n",
              "      border-color: transparent;\n",
              "      border-left-color: var(--fill-color);\n",
              "      border-top-color: var(--fill-color);\n",
              "    }\n",
              "    30% {\n",
              "      border-color: transparent;\n",
              "      border-left-color: var(--fill-color);\n",
              "      border-top-color: var(--fill-color);\n",
              "      border-right-color: var(--fill-color);\n",
              "    }\n",
              "    40% {\n",
              "      border-color: transparent;\n",
              "      border-right-color: var(--fill-color);\n",
              "      border-top-color: var(--fill-color);\n",
              "    }\n",
              "    60% {\n",
              "      border-color: transparent;\n",
              "      border-right-color: var(--fill-color);\n",
              "    }\n",
              "    80% {\n",
              "      border-color: transparent;\n",
              "      border-right-color: var(--fill-color);\n",
              "      border-bottom-color: var(--fill-color);\n",
              "    }\n",
              "    90% {\n",
              "      border-color: transparent;\n",
              "      border-bottom-color: var(--fill-color);\n",
              "    }\n",
              "  }\n",
              "</style>\n",
              "\n",
              "  <script>\n",
              "    async function quickchart(key) {\n",
              "      const quickchartButtonEl =\n",
              "        document.querySelector('#' + key + ' button');\n",
              "      quickchartButtonEl.disabled = true;  // To prevent multiple clicks.\n",
              "      quickchartButtonEl.classList.add('colab-df-spinner');\n",
              "      try {\n",
              "        const charts = await google.colab.kernel.invokeFunction(\n",
              "            'suggestCharts', [key], {});\n",
              "      } catch (error) {\n",
              "        console.error('Error during call to suggestCharts:', error);\n",
              "      }\n",
              "      quickchartButtonEl.classList.remove('colab-df-spinner');\n",
              "      quickchartButtonEl.classList.add('colab-df-quickchart-complete');\n",
              "    }\n",
              "    (() => {\n",
              "      let quickchartButtonEl =\n",
              "        document.querySelector('#df-b3a358a7-04db-4bd3-975f-749416c0c3da button');\n",
              "      quickchartButtonEl.style.display =\n",
              "        google.colab.kernel.accessAllowed ? 'block' : 'none';\n",
              "    })();\n",
              "  </script>\n",
              "</div>\n",
              "\n",
              "    </div>\n",
              "  </div>\n"
            ]
          },
          "metadata": {},
          "execution_count": 50
        }
      ]
    },
    {
      "cell_type": "code",
      "source": [
        "df_median[\"Marital Status\"].value_counts()"
      ],
      "metadata": {
        "colab": {
          "base_uri": "https://localhost:8080/"
        },
        "id": "wF38dx75VJeF",
        "outputId": "84e96d55-4833-4bdc-900b-720ea7fae6e4"
      },
      "execution_count": 51,
      "outputs": [
        {
          "output_type": "execute_result",
          "data": {
            "text/plain": [
              "Single               268\n",
              "Married              108\n",
              "Prefer not to say     12\n",
              "Name: Marital Status, dtype: int64"
            ]
          },
          "metadata": {},
          "execution_count": 51
        }
      ]
    },
    {
      "cell_type": "code",
      "source": [
        "df.isnull().sum() # oftenly check null values"
      ],
      "metadata": {
        "colab": {
          "base_uri": "https://localhost:8080/"
        },
        "id": "6J2MGNOJVZtT",
        "outputId": "8d6ccb4b-032b-4998-d036-06effadfda43"
      },
      "execution_count": 52,
      "outputs": [
        {
          "output_type": "execute_result",
          "data": {
            "text/plain": [
              "order_status                        0\n",
              "Monthly Income                      0\n",
              "latitude                            0\n",
              "Family size                         0\n",
              "Reviews                             0\n",
              "Pin code                            0\n",
              "Age                                 0\n",
              "longitude                           0\n",
              "Educational Qualifications          0\n",
              "Marital Status_Prefer not to say    0\n",
              "Marital Status_Single               0\n",
              "Gender_Male                         0\n",
              "employment_status_House wife        0\n",
              "employment_status_Self Employeed    0\n",
              "employment_status_Student           0\n",
              "dtype: int64"
            ]
          },
          "metadata": {},
          "execution_count": 52
        }
      ]
    },
    {
      "cell_type": "code",
      "source": [
        "X = df.drop(columns = [\"order_status\"],axis = 1) # Drop order_statusas we are not applying any algorithm"
      ],
      "metadata": {
        "id": "PuJe6fHxVnUU"
      },
      "execution_count": 53,
      "outputs": []
    },
    {
      "cell_type": "code",
      "source": [
        "X.head(5)"
      ],
      "metadata": {
        "colab": {
          "base_uri": "https://localhost:8080/",
          "height": 383
        },
        "id": "TOQ21eQSV4oT",
        "outputId": "dd8e0041-8173-4053-e3b5-77dcd9878b56"
      },
      "execution_count": 54,
      "outputs": [
        {
          "output_type": "execute_result",
          "data": {
            "text/plain": [
              "    Monthly Income  latitude Family size   Reviews  Pin code   Age  longitude  \\\n",
              "0   25001 to 50000   13.0262         5.0  Positive    560045  28.0    77.6200   \n",
              "1        No Income   12.9770         3.0  Positive    560009  24.0    77.5773   \n",
              "2        No Income   12.9770         3.0  Positive    560009  24.0    77.5773   \n",
              "3        No Income   13.0019         3.0  Positive    560003  24.0    77.5713   \n",
              "4  More than 50000   13.0626         3.0  Positive    560015  24.0    77.5284   \n",
              "\n",
              "  Educational Qualifications  Marital Status_Prefer not to say  \\\n",
              "0              Post Graduate                                 0   \n",
              "1              Post Graduate                                 0   \n",
              "2              Post Graduate                                 0   \n",
              "3              Post Graduate                                 0   \n",
              "4                     School                                 0   \n",
              "\n",
              "   Marital Status_Single  Gender_Male  employment_status_House wife  \\\n",
              "0                      0            1                             0   \n",
              "1                      1            1                             0   \n",
              "2                      1            0                             0   \n",
              "3                      1            0                             0   \n",
              "4                      0            1                             0   \n",
              "\n",
              "   employment_status_Self Employeed  employment_status_Student  \n",
              "0                                 0                          0  \n",
              "1                                 0                          1  \n",
              "2                                 0                          1  \n",
              "3                                 0                          1  \n",
              "4                                 1                          0  "
            ],
            "text/html": [
              "\n",
              "  <div id=\"df-cd8032e6-d0cc-4d4f-ab13-8b14ff2ee7bd\" class=\"colab-df-container\">\n",
              "    <div>\n",
              "<style scoped>\n",
              "    .dataframe tbody tr th:only-of-type {\n",
              "        vertical-align: middle;\n",
              "    }\n",
              "\n",
              "    .dataframe tbody tr th {\n",
              "        vertical-align: top;\n",
              "    }\n",
              "\n",
              "    .dataframe thead th {\n",
              "        text-align: right;\n",
              "    }\n",
              "</style>\n",
              "<table border=\"1\" class=\"dataframe\">\n",
              "  <thead>\n",
              "    <tr style=\"text-align: right;\">\n",
              "      <th></th>\n",
              "      <th>Monthly Income</th>\n",
              "      <th>latitude</th>\n",
              "      <th>Family size</th>\n",
              "      <th>Reviews</th>\n",
              "      <th>Pin code</th>\n",
              "      <th>Age</th>\n",
              "      <th>longitude</th>\n",
              "      <th>Educational Qualifications</th>\n",
              "      <th>Marital Status_Prefer not to say</th>\n",
              "      <th>Marital Status_Single</th>\n",
              "      <th>Gender_Male</th>\n",
              "      <th>employment_status_House wife</th>\n",
              "      <th>employment_status_Self Employeed</th>\n",
              "      <th>employment_status_Student</th>\n",
              "    </tr>\n",
              "  </thead>\n",
              "  <tbody>\n",
              "    <tr>\n",
              "      <th>0</th>\n",
              "      <td>25001 to 50000</td>\n",
              "      <td>13.0262</td>\n",
              "      <td>5.0</td>\n",
              "      <td>Positive</td>\n",
              "      <td>560045</td>\n",
              "      <td>28.0</td>\n",
              "      <td>77.6200</td>\n",
              "      <td>Post Graduate</td>\n",
              "      <td>0</td>\n",
              "      <td>0</td>\n",
              "      <td>1</td>\n",
              "      <td>0</td>\n",
              "      <td>0</td>\n",
              "      <td>0</td>\n",
              "    </tr>\n",
              "    <tr>\n",
              "      <th>1</th>\n",
              "      <td>No Income</td>\n",
              "      <td>12.9770</td>\n",
              "      <td>3.0</td>\n",
              "      <td>Positive</td>\n",
              "      <td>560009</td>\n",
              "      <td>24.0</td>\n",
              "      <td>77.5773</td>\n",
              "      <td>Post Graduate</td>\n",
              "      <td>0</td>\n",
              "      <td>1</td>\n",
              "      <td>1</td>\n",
              "      <td>0</td>\n",
              "      <td>0</td>\n",
              "      <td>1</td>\n",
              "    </tr>\n",
              "    <tr>\n",
              "      <th>2</th>\n",
              "      <td>No Income</td>\n",
              "      <td>12.9770</td>\n",
              "      <td>3.0</td>\n",
              "      <td>Positive</td>\n",
              "      <td>560009</td>\n",
              "      <td>24.0</td>\n",
              "      <td>77.5773</td>\n",
              "      <td>Post Graduate</td>\n",
              "      <td>0</td>\n",
              "      <td>1</td>\n",
              "      <td>0</td>\n",
              "      <td>0</td>\n",
              "      <td>0</td>\n",
              "      <td>1</td>\n",
              "    </tr>\n",
              "    <tr>\n",
              "      <th>3</th>\n",
              "      <td>No Income</td>\n",
              "      <td>13.0019</td>\n",
              "      <td>3.0</td>\n",
              "      <td>Positive</td>\n",
              "      <td>560003</td>\n",
              "      <td>24.0</td>\n",
              "      <td>77.5713</td>\n",
              "      <td>Post Graduate</td>\n",
              "      <td>0</td>\n",
              "      <td>1</td>\n",
              "      <td>0</td>\n",
              "      <td>0</td>\n",
              "      <td>0</td>\n",
              "      <td>1</td>\n",
              "    </tr>\n",
              "    <tr>\n",
              "      <th>4</th>\n",
              "      <td>More than 50000</td>\n",
              "      <td>13.0626</td>\n",
              "      <td>3.0</td>\n",
              "      <td>Positive</td>\n",
              "      <td>560015</td>\n",
              "      <td>24.0</td>\n",
              "      <td>77.5284</td>\n",
              "      <td>School</td>\n",
              "      <td>0</td>\n",
              "      <td>0</td>\n",
              "      <td>1</td>\n",
              "      <td>0</td>\n",
              "      <td>1</td>\n",
              "      <td>0</td>\n",
              "    </tr>\n",
              "  </tbody>\n",
              "</table>\n",
              "</div>\n",
              "    <div class=\"colab-df-buttons\">\n",
              "\n",
              "  <div class=\"colab-df-container\">\n",
              "    <button class=\"colab-df-convert\" onclick=\"convertToInteractive('df-cd8032e6-d0cc-4d4f-ab13-8b14ff2ee7bd')\"\n",
              "            title=\"Convert this dataframe to an interactive table.\"\n",
              "            style=\"display:none;\">\n",
              "\n",
              "  <svg xmlns=\"http://www.w3.org/2000/svg\" height=\"24px\" viewBox=\"0 -960 960 960\">\n",
              "    <path d=\"M120-120v-720h720v720H120Zm60-500h600v-160H180v160Zm220 220h160v-160H400v160Zm0 220h160v-160H400v160ZM180-400h160v-160H180v160Zm440 0h160v-160H620v160ZM180-180h160v-160H180v160Zm440 0h160v-160H620v160Z\"/>\n",
              "  </svg>\n",
              "    </button>\n",
              "\n",
              "  <style>\n",
              "    .colab-df-container {\n",
              "      display:flex;\n",
              "      gap: 12px;\n",
              "    }\n",
              "\n",
              "    .colab-df-convert {\n",
              "      background-color: #E8F0FE;\n",
              "      border: none;\n",
              "      border-radius: 50%;\n",
              "      cursor: pointer;\n",
              "      display: none;\n",
              "      fill: #1967D2;\n",
              "      height: 32px;\n",
              "      padding: 0 0 0 0;\n",
              "      width: 32px;\n",
              "    }\n",
              "\n",
              "    .colab-df-convert:hover {\n",
              "      background-color: #E2EBFA;\n",
              "      box-shadow: 0px 1px 2px rgba(60, 64, 67, 0.3), 0px 1px 3px 1px rgba(60, 64, 67, 0.15);\n",
              "      fill: #174EA6;\n",
              "    }\n",
              "\n",
              "    .colab-df-buttons div {\n",
              "      margin-bottom: 4px;\n",
              "    }\n",
              "\n",
              "    [theme=dark] .colab-df-convert {\n",
              "      background-color: #3B4455;\n",
              "      fill: #D2E3FC;\n",
              "    }\n",
              "\n",
              "    [theme=dark] .colab-df-convert:hover {\n",
              "      background-color: #434B5C;\n",
              "      box-shadow: 0px 1px 3px 1px rgba(0, 0, 0, 0.15);\n",
              "      filter: drop-shadow(0px 1px 2px rgba(0, 0, 0, 0.3));\n",
              "      fill: #FFFFFF;\n",
              "    }\n",
              "  </style>\n",
              "\n",
              "    <script>\n",
              "      const buttonEl =\n",
              "        document.querySelector('#df-cd8032e6-d0cc-4d4f-ab13-8b14ff2ee7bd button.colab-df-convert');\n",
              "      buttonEl.style.display =\n",
              "        google.colab.kernel.accessAllowed ? 'block' : 'none';\n",
              "\n",
              "      async function convertToInteractive(key) {\n",
              "        const element = document.querySelector('#df-cd8032e6-d0cc-4d4f-ab13-8b14ff2ee7bd');\n",
              "        const dataTable =\n",
              "          await google.colab.kernel.invokeFunction('convertToInteractive',\n",
              "                                                    [key], {});\n",
              "        if (!dataTable) return;\n",
              "\n",
              "        const docLinkHtml = 'Like what you see? Visit the ' +\n",
              "          '<a target=\"_blank\" href=https://colab.research.google.com/notebooks/data_table.ipynb>data table notebook</a>'\n",
              "          + ' to learn more about interactive tables.';\n",
              "        element.innerHTML = '';\n",
              "        dataTable['output_type'] = 'display_data';\n",
              "        await google.colab.output.renderOutput(dataTable, element);\n",
              "        const docLink = document.createElement('div');\n",
              "        docLink.innerHTML = docLinkHtml;\n",
              "        element.appendChild(docLink);\n",
              "      }\n",
              "    </script>\n",
              "  </div>\n",
              "\n",
              "\n",
              "<div id=\"df-5f481588-1a85-4385-b842-c00a7a9ed07e\">\n",
              "  <button class=\"colab-df-quickchart\" onclick=\"quickchart('df-5f481588-1a85-4385-b842-c00a7a9ed07e')\"\n",
              "            title=\"Suggest charts\"\n",
              "            style=\"display:none;\">\n",
              "\n",
              "<svg xmlns=\"http://www.w3.org/2000/svg\" height=\"24px\"viewBox=\"0 0 24 24\"\n",
              "     width=\"24px\">\n",
              "    <g>\n",
              "        <path d=\"M19 3H5c-1.1 0-2 .9-2 2v14c0 1.1.9 2 2 2h14c1.1 0 2-.9 2-2V5c0-1.1-.9-2-2-2zM9 17H7v-7h2v7zm4 0h-2V7h2v10zm4 0h-2v-4h2v4z\"/>\n",
              "    </g>\n",
              "</svg>\n",
              "  </button>\n",
              "\n",
              "<style>\n",
              "  .colab-df-quickchart {\n",
              "      --bg-color: #E8F0FE;\n",
              "      --fill-color: #1967D2;\n",
              "      --hover-bg-color: #E2EBFA;\n",
              "      --hover-fill-color: #174EA6;\n",
              "      --disabled-fill-color: #AAA;\n",
              "      --disabled-bg-color: #DDD;\n",
              "  }\n",
              "\n",
              "  [theme=dark] .colab-df-quickchart {\n",
              "      --bg-color: #3B4455;\n",
              "      --fill-color: #D2E3FC;\n",
              "      --hover-bg-color: #434B5C;\n",
              "      --hover-fill-color: #FFFFFF;\n",
              "      --disabled-bg-color: #3B4455;\n",
              "      --disabled-fill-color: #666;\n",
              "  }\n",
              "\n",
              "  .colab-df-quickchart {\n",
              "    background-color: var(--bg-color);\n",
              "    border: none;\n",
              "    border-radius: 50%;\n",
              "    cursor: pointer;\n",
              "    display: none;\n",
              "    fill: var(--fill-color);\n",
              "    height: 32px;\n",
              "    padding: 0;\n",
              "    width: 32px;\n",
              "  }\n",
              "\n",
              "  .colab-df-quickchart:hover {\n",
              "    background-color: var(--hover-bg-color);\n",
              "    box-shadow: 0 1px 2px rgba(60, 64, 67, 0.3), 0 1px 3px 1px rgba(60, 64, 67, 0.15);\n",
              "    fill: var(--button-hover-fill-color);\n",
              "  }\n",
              "\n",
              "  .colab-df-quickchart-complete:disabled,\n",
              "  .colab-df-quickchart-complete:disabled:hover {\n",
              "    background-color: var(--disabled-bg-color);\n",
              "    fill: var(--disabled-fill-color);\n",
              "    box-shadow: none;\n",
              "  }\n",
              "\n",
              "  .colab-df-spinner {\n",
              "    border: 2px solid var(--fill-color);\n",
              "    border-color: transparent;\n",
              "    border-bottom-color: var(--fill-color);\n",
              "    animation:\n",
              "      spin 1s steps(1) infinite;\n",
              "  }\n",
              "\n",
              "  @keyframes spin {\n",
              "    0% {\n",
              "      border-color: transparent;\n",
              "      border-bottom-color: var(--fill-color);\n",
              "      border-left-color: var(--fill-color);\n",
              "    }\n",
              "    20% {\n",
              "      border-color: transparent;\n",
              "      border-left-color: var(--fill-color);\n",
              "      border-top-color: var(--fill-color);\n",
              "    }\n",
              "    30% {\n",
              "      border-color: transparent;\n",
              "      border-left-color: var(--fill-color);\n",
              "      border-top-color: var(--fill-color);\n",
              "      border-right-color: var(--fill-color);\n",
              "    }\n",
              "    40% {\n",
              "      border-color: transparent;\n",
              "      border-right-color: var(--fill-color);\n",
              "      border-top-color: var(--fill-color);\n",
              "    }\n",
              "    60% {\n",
              "      border-color: transparent;\n",
              "      border-right-color: var(--fill-color);\n",
              "    }\n",
              "    80% {\n",
              "      border-color: transparent;\n",
              "      border-right-color: var(--fill-color);\n",
              "      border-bottom-color: var(--fill-color);\n",
              "    }\n",
              "    90% {\n",
              "      border-color: transparent;\n",
              "      border-bottom-color: var(--fill-color);\n",
              "    }\n",
              "  }\n",
              "</style>\n",
              "\n",
              "  <script>\n",
              "    async function quickchart(key) {\n",
              "      const quickchartButtonEl =\n",
              "        document.querySelector('#' + key + ' button');\n",
              "      quickchartButtonEl.disabled = true;  // To prevent multiple clicks.\n",
              "      quickchartButtonEl.classList.add('colab-df-spinner');\n",
              "      try {\n",
              "        const charts = await google.colab.kernel.invokeFunction(\n",
              "            'suggestCharts', [key], {});\n",
              "      } catch (error) {\n",
              "        console.error('Error during call to suggestCharts:', error);\n",
              "      }\n",
              "      quickchartButtonEl.classList.remove('colab-df-spinner');\n",
              "      quickchartButtonEl.classList.add('colab-df-quickchart-complete');\n",
              "    }\n",
              "    (() => {\n",
              "      let quickchartButtonEl =\n",
              "        document.querySelector('#df-5f481588-1a85-4385-b842-c00a7a9ed07e button');\n",
              "      quickchartButtonEl.style.display =\n",
              "        google.colab.kernel.accessAllowed ? 'block' : 'none';\n",
              "    })();\n",
              "  </script>\n",
              "</div>\n",
              "\n",
              "    </div>\n",
              "  </div>\n"
            ]
          },
          "metadata": {},
          "execution_count": 54
        }
      ]
    },
    {
      "cell_type": "code",
      "source": [
        "X.isnull().sum()"
      ],
      "metadata": {
        "colab": {
          "base_uri": "https://localhost:8080/"
        },
        "id": "W2jttrg_V_HQ",
        "outputId": "f836d5ed-88c6-4550-d03f-d131f423e66d"
      },
      "execution_count": 55,
      "outputs": [
        {
          "output_type": "execute_result",
          "data": {
            "text/plain": [
              "Monthly Income                      0\n",
              "latitude                            0\n",
              "Family size                         0\n",
              "Reviews                             0\n",
              "Pin code                            0\n",
              "Age                                 0\n",
              "longitude                           0\n",
              "Educational Qualifications          0\n",
              "Marital Status_Prefer not to say    0\n",
              "Marital Status_Single               0\n",
              "Gender_Male                         0\n",
              "employment_status_House wife        0\n",
              "employment_status_Self Employeed    0\n",
              "employment_status_Student           0\n",
              "dtype: int64"
            ]
          },
          "metadata": {},
          "execution_count": 55
        }
      ]
    },
    {
      "cell_type": "code",
      "source": [
        "X[\"Monthly Income\"].value_counts()"
      ],
      "metadata": {
        "colab": {
          "base_uri": "https://localhost:8080/"
        },
        "id": "e3z6fJ5GWDZU",
        "outputId": "b7c14ad5-c486-47ce-e884-8bdf49ec538f"
      },
      "execution_count": 56,
      "outputs": [
        {
          "output_type": "execute_result",
          "data": {
            "text/plain": [
              "No Income          187\n",
              "25001 to 50000      69\n",
              "More than 50000     62\n",
              "10001 to 25000      45\n",
              "Below Rs.10000      25\n",
              "Name: Monthly Income, dtype: int64"
            ]
          },
          "metadata": {},
          "execution_count": 56
        }
      ]
    },
    {
      "cell_type": "code",
      "source": [
        "#Below Rs.10000- low income\n",
        "#10001 to 25000- moderateIncome\n",
        "#25001 to 50000 - High Income\n",
        "#More than 50000 - Very high Income\n",
        "# NO Income - Poor\n",
        "\n",
        "d = {\"Below Rs.10000\":\"Low Income\",\"10001 to 25000\":\"Moderate Income\",\"25001 to 50000\":\"High Income\",\"More than 50000\":\"Very high Income\",\"No Income\":\"Poor\"}"
      ],
      "metadata": {
        "id": "RidUNVO2WgOi"
      },
      "execution_count": 57,
      "outputs": []
    },
    {
      "cell_type": "code",
      "source": [
        "X[\"Monthly Income\"].map(d)"
      ],
      "metadata": {
        "colab": {
          "base_uri": "https://localhost:8080/"
        },
        "id": "W4SHsJH7XbpE",
        "outputId": "4f6e7ca8-eac0-4694-9372-683e1f0c96fc"
      },
      "execution_count": 58,
      "outputs": [
        {
          "output_type": "execute_result",
          "data": {
            "text/plain": [
              "0           High Income\n",
              "1                  Poor\n",
              "2                  Poor\n",
              "3                  Poor\n",
              "4      Very high Income\n",
              "             ...       \n",
              "383                Poor\n",
              "384                Poor\n",
              "385     Moderate Income\n",
              "386     Moderate Income\n",
              "387                Poor\n",
              "Name: Monthly Income, Length: 388, dtype: object"
            ]
          },
          "metadata": {},
          "execution_count": 58
        }
      ]
    },
    {
      "cell_type": "code",
      "source": [
        "X[\"Monthly Income\"] = X[\"Monthly Income\"].map(d) # Assigning to the original data frame"
      ],
      "metadata": {
        "id": "vEBBIxtAX1NX"
      },
      "execution_count": 59,
      "outputs": []
    },
    {
      "cell_type": "code",
      "source": [
        "X[\"Monthly Income\"]"
      ],
      "metadata": {
        "colab": {
          "base_uri": "https://localhost:8080/"
        },
        "id": "_tayXvjtYMPw",
        "outputId": "7184774a-f3e8-4a85-cf04-97e02367de22"
      },
      "execution_count": 60,
      "outputs": [
        {
          "output_type": "execute_result",
          "data": {
            "text/plain": [
              "0           High Income\n",
              "1                  Poor\n",
              "2                  Poor\n",
              "3                  Poor\n",
              "4      Very high Income\n",
              "             ...       \n",
              "383                Poor\n",
              "384                Poor\n",
              "385     Moderate Income\n",
              "386     Moderate Income\n",
              "387                Poor\n",
              "Name: Monthly Income, Length: 388, dtype: object"
            ]
          },
          "metadata": {},
          "execution_count": 60
        }
      ]
    },
    {
      "cell_type": "code",
      "source": [
        "X[\"Reviews\"].value_counts()"
      ],
      "metadata": {
        "colab": {
          "base_uri": "https://localhost:8080/"
        },
        "id": "Kma5HIgSYpM4",
        "outputId": "da35a5fa-1442-481d-d024-7dbd05cd2678"
      },
      "execution_count": 61,
      "outputs": [
        {
          "output_type": "execute_result",
          "data": {
            "text/plain": [
              "Positive     317\n",
              "Negative      71\n",
              "Name: Reviews, dtype: int64"
            ]
          },
          "metadata": {},
          "execution_count": 61
        }
      ]
    },
    {
      "cell_type": "code",
      "source": [
        "X[\"Educational Qualifications\"].value_counts()"
      ],
      "metadata": {
        "colab": {
          "base_uri": "https://localhost:8080/"
        },
        "id": "4LpSxgX8YxeR",
        "outputId": "9dd6b884-f489-441e-8796-2e33cd63eea1"
      },
      "execution_count": 62,
      "outputs": [
        {
          "output_type": "execute_result",
          "data": {
            "text/plain": [
              "Graduate         177\n",
              "Post Graduate    174\n",
              "Ph.D              23\n",
              "School            12\n",
              "Uneducated         2\n",
              "Name: Educational Qualifications, dtype: int64"
            ]
          },
          "metadata": {},
          "execution_count": 62
        }
      ]
    },
    {
      "cell_type": "code",
      "source": [
        "# Ordinal Encoding - Reviews,Qualification,Monthly Income\n",
        "#Reviews : {\"Positive\":\"1\",\"Negative\":\"0\"}"
      ],
      "metadata": {
        "id": "XiYQG2EyYQgn"
      },
      "execution_count": 63,
      "outputs": []
    },
    {
      "cell_type": "code",
      "source": [
        "mappings = {\n",
        "              \"Reviews\":{\"Positive\":1,\"Negative\":0},\n",
        "              \"Monthly Income\":{\"Poor\":0,\"Very high Income\":4,\"High Income\":3,\"Moderate Income\":2,\"Low Income\":1},\n",
        "              \"Educational Qualifications\":{\"Uneducated\":0,\"School\":1,\"Graduate\":2,\"Post Graduate\":3,\"Ph.D\":4}\n",
        "}"
      ],
      "metadata": {
        "id": "Ye1jEwc2Y78D"
      },
      "execution_count": 64,
      "outputs": []
    },
    {
      "cell_type": "code",
      "source": [
        "for i in df:                                 #reviews,Monthly Income,Educational Qualificaions\n",
        "  if i in mappings:                          # if reviews in mappings\n",
        "    X[i] = X[i].map(mappings[i])           #df[\"reviews\"] = df[\"Reviews\"].map[mappings[\"Reviews\"]]"
      ],
      "metadata": {
        "id": "C97hXniMZ_d8"
      },
      "execution_count": 65,
      "outputs": []
    },
    {
      "cell_type": "code",
      "source": [
        "X.head(5)"
      ],
      "metadata": {
        "colab": {
          "base_uri": "https://localhost:8080/",
          "height": 261
        },
        "id": "mZhe2NMZa74c",
        "outputId": "b2f5be44-699c-4294-d591-0cd24b48f532"
      },
      "execution_count": 66,
      "outputs": [
        {
          "output_type": "execute_result",
          "data": {
            "text/plain": [
              "   Monthly Income  latitude Family size  Reviews  Pin code   Age  longitude  \\\n",
              "0               3   13.0262         5.0      1.0    560045  28.0    77.6200   \n",
              "1               0   12.9770         3.0      1.0    560009  24.0    77.5773   \n",
              "2               0   12.9770         3.0      1.0    560009  24.0    77.5773   \n",
              "3               0   13.0019         3.0      1.0    560003  24.0    77.5713   \n",
              "4               4   13.0626         3.0      1.0    560015  24.0    77.5284   \n",
              "\n",
              "   Educational Qualifications  Marital Status_Prefer not to say  \\\n",
              "0                           3                                 0   \n",
              "1                           3                                 0   \n",
              "2                           3                                 0   \n",
              "3                           3                                 0   \n",
              "4                           1                                 0   \n",
              "\n",
              "   Marital Status_Single  Gender_Male  employment_status_House wife  \\\n",
              "0                      0            1                             0   \n",
              "1                      1            1                             0   \n",
              "2                      1            0                             0   \n",
              "3                      1            0                             0   \n",
              "4                      0            1                             0   \n",
              "\n",
              "   employment_status_Self Employeed  employment_status_Student  \n",
              "0                                 0                          0  \n",
              "1                                 0                          1  \n",
              "2                                 0                          1  \n",
              "3                                 0                          1  \n",
              "4                                 1                          0  "
            ],
            "text/html": [
              "\n",
              "  <div id=\"df-ffa7b9ba-3a51-48a9-81be-7cd731675197\" class=\"colab-df-container\">\n",
              "    <div>\n",
              "<style scoped>\n",
              "    .dataframe tbody tr th:only-of-type {\n",
              "        vertical-align: middle;\n",
              "    }\n",
              "\n",
              "    .dataframe tbody tr th {\n",
              "        vertical-align: top;\n",
              "    }\n",
              "\n",
              "    .dataframe thead th {\n",
              "        text-align: right;\n",
              "    }\n",
              "</style>\n",
              "<table border=\"1\" class=\"dataframe\">\n",
              "  <thead>\n",
              "    <tr style=\"text-align: right;\">\n",
              "      <th></th>\n",
              "      <th>Monthly Income</th>\n",
              "      <th>latitude</th>\n",
              "      <th>Family size</th>\n",
              "      <th>Reviews</th>\n",
              "      <th>Pin code</th>\n",
              "      <th>Age</th>\n",
              "      <th>longitude</th>\n",
              "      <th>Educational Qualifications</th>\n",
              "      <th>Marital Status_Prefer not to say</th>\n",
              "      <th>Marital Status_Single</th>\n",
              "      <th>Gender_Male</th>\n",
              "      <th>employment_status_House wife</th>\n",
              "      <th>employment_status_Self Employeed</th>\n",
              "      <th>employment_status_Student</th>\n",
              "    </tr>\n",
              "  </thead>\n",
              "  <tbody>\n",
              "    <tr>\n",
              "      <th>0</th>\n",
              "      <td>3</td>\n",
              "      <td>13.0262</td>\n",
              "      <td>5.0</td>\n",
              "      <td>1.0</td>\n",
              "      <td>560045</td>\n",
              "      <td>28.0</td>\n",
              "      <td>77.6200</td>\n",
              "      <td>3</td>\n",
              "      <td>0</td>\n",
              "      <td>0</td>\n",
              "      <td>1</td>\n",
              "      <td>0</td>\n",
              "      <td>0</td>\n",
              "      <td>0</td>\n",
              "    </tr>\n",
              "    <tr>\n",
              "      <th>1</th>\n",
              "      <td>0</td>\n",
              "      <td>12.9770</td>\n",
              "      <td>3.0</td>\n",
              "      <td>1.0</td>\n",
              "      <td>560009</td>\n",
              "      <td>24.0</td>\n",
              "      <td>77.5773</td>\n",
              "      <td>3</td>\n",
              "      <td>0</td>\n",
              "      <td>1</td>\n",
              "      <td>1</td>\n",
              "      <td>0</td>\n",
              "      <td>0</td>\n",
              "      <td>1</td>\n",
              "    </tr>\n",
              "    <tr>\n",
              "      <th>2</th>\n",
              "      <td>0</td>\n",
              "      <td>12.9770</td>\n",
              "      <td>3.0</td>\n",
              "      <td>1.0</td>\n",
              "      <td>560009</td>\n",
              "      <td>24.0</td>\n",
              "      <td>77.5773</td>\n",
              "      <td>3</td>\n",
              "      <td>0</td>\n",
              "      <td>1</td>\n",
              "      <td>0</td>\n",
              "      <td>0</td>\n",
              "      <td>0</td>\n",
              "      <td>1</td>\n",
              "    </tr>\n",
              "    <tr>\n",
              "      <th>3</th>\n",
              "      <td>0</td>\n",
              "      <td>13.0019</td>\n",
              "      <td>3.0</td>\n",
              "      <td>1.0</td>\n",
              "      <td>560003</td>\n",
              "      <td>24.0</td>\n",
              "      <td>77.5713</td>\n",
              "      <td>3</td>\n",
              "      <td>0</td>\n",
              "      <td>1</td>\n",
              "      <td>0</td>\n",
              "      <td>0</td>\n",
              "      <td>0</td>\n",
              "      <td>1</td>\n",
              "    </tr>\n",
              "    <tr>\n",
              "      <th>4</th>\n",
              "      <td>4</td>\n",
              "      <td>13.0626</td>\n",
              "      <td>3.0</td>\n",
              "      <td>1.0</td>\n",
              "      <td>560015</td>\n",
              "      <td>24.0</td>\n",
              "      <td>77.5284</td>\n",
              "      <td>1</td>\n",
              "      <td>0</td>\n",
              "      <td>0</td>\n",
              "      <td>1</td>\n",
              "      <td>0</td>\n",
              "      <td>1</td>\n",
              "      <td>0</td>\n",
              "    </tr>\n",
              "  </tbody>\n",
              "</table>\n",
              "</div>\n",
              "    <div class=\"colab-df-buttons\">\n",
              "\n",
              "  <div class=\"colab-df-container\">\n",
              "    <button class=\"colab-df-convert\" onclick=\"convertToInteractive('df-ffa7b9ba-3a51-48a9-81be-7cd731675197')\"\n",
              "            title=\"Convert this dataframe to an interactive table.\"\n",
              "            style=\"display:none;\">\n",
              "\n",
              "  <svg xmlns=\"http://www.w3.org/2000/svg\" height=\"24px\" viewBox=\"0 -960 960 960\">\n",
              "    <path d=\"M120-120v-720h720v720H120Zm60-500h600v-160H180v160Zm220 220h160v-160H400v160Zm0 220h160v-160H400v160ZM180-400h160v-160H180v160Zm440 0h160v-160H620v160ZM180-180h160v-160H180v160Zm440 0h160v-160H620v160Z\"/>\n",
              "  </svg>\n",
              "    </button>\n",
              "\n",
              "  <style>\n",
              "    .colab-df-container {\n",
              "      display:flex;\n",
              "      gap: 12px;\n",
              "    }\n",
              "\n",
              "    .colab-df-convert {\n",
              "      background-color: #E8F0FE;\n",
              "      border: none;\n",
              "      border-radius: 50%;\n",
              "      cursor: pointer;\n",
              "      display: none;\n",
              "      fill: #1967D2;\n",
              "      height: 32px;\n",
              "      padding: 0 0 0 0;\n",
              "      width: 32px;\n",
              "    }\n",
              "\n",
              "    .colab-df-convert:hover {\n",
              "      background-color: #E2EBFA;\n",
              "      box-shadow: 0px 1px 2px rgba(60, 64, 67, 0.3), 0px 1px 3px 1px rgba(60, 64, 67, 0.15);\n",
              "      fill: #174EA6;\n",
              "    }\n",
              "\n",
              "    .colab-df-buttons div {\n",
              "      margin-bottom: 4px;\n",
              "    }\n",
              "\n",
              "    [theme=dark] .colab-df-convert {\n",
              "      background-color: #3B4455;\n",
              "      fill: #D2E3FC;\n",
              "    }\n",
              "\n",
              "    [theme=dark] .colab-df-convert:hover {\n",
              "      background-color: #434B5C;\n",
              "      box-shadow: 0px 1px 3px 1px rgba(0, 0, 0, 0.15);\n",
              "      filter: drop-shadow(0px 1px 2px rgba(0, 0, 0, 0.3));\n",
              "      fill: #FFFFFF;\n",
              "    }\n",
              "  </style>\n",
              "\n",
              "    <script>\n",
              "      const buttonEl =\n",
              "        document.querySelector('#df-ffa7b9ba-3a51-48a9-81be-7cd731675197 button.colab-df-convert');\n",
              "      buttonEl.style.display =\n",
              "        google.colab.kernel.accessAllowed ? 'block' : 'none';\n",
              "\n",
              "      async function convertToInteractive(key) {\n",
              "        const element = document.querySelector('#df-ffa7b9ba-3a51-48a9-81be-7cd731675197');\n",
              "        const dataTable =\n",
              "          await google.colab.kernel.invokeFunction('convertToInteractive',\n",
              "                                                    [key], {});\n",
              "        if (!dataTable) return;\n",
              "\n",
              "        const docLinkHtml = 'Like what you see? Visit the ' +\n",
              "          '<a target=\"_blank\" href=https://colab.research.google.com/notebooks/data_table.ipynb>data table notebook</a>'\n",
              "          + ' to learn more about interactive tables.';\n",
              "        element.innerHTML = '';\n",
              "        dataTable['output_type'] = 'display_data';\n",
              "        await google.colab.output.renderOutput(dataTable, element);\n",
              "        const docLink = document.createElement('div');\n",
              "        docLink.innerHTML = docLinkHtml;\n",
              "        element.appendChild(docLink);\n",
              "      }\n",
              "    </script>\n",
              "  </div>\n",
              "\n",
              "\n",
              "<div id=\"df-f8e5d457-d7f8-45c7-8890-13fb119ef362\">\n",
              "  <button class=\"colab-df-quickchart\" onclick=\"quickchart('df-f8e5d457-d7f8-45c7-8890-13fb119ef362')\"\n",
              "            title=\"Suggest charts\"\n",
              "            style=\"display:none;\">\n",
              "\n",
              "<svg xmlns=\"http://www.w3.org/2000/svg\" height=\"24px\"viewBox=\"0 0 24 24\"\n",
              "     width=\"24px\">\n",
              "    <g>\n",
              "        <path d=\"M19 3H5c-1.1 0-2 .9-2 2v14c0 1.1.9 2 2 2h14c1.1 0 2-.9 2-2V5c0-1.1-.9-2-2-2zM9 17H7v-7h2v7zm4 0h-2V7h2v10zm4 0h-2v-4h2v4z\"/>\n",
              "    </g>\n",
              "</svg>\n",
              "  </button>\n",
              "\n",
              "<style>\n",
              "  .colab-df-quickchart {\n",
              "      --bg-color: #E8F0FE;\n",
              "      --fill-color: #1967D2;\n",
              "      --hover-bg-color: #E2EBFA;\n",
              "      --hover-fill-color: #174EA6;\n",
              "      --disabled-fill-color: #AAA;\n",
              "      --disabled-bg-color: #DDD;\n",
              "  }\n",
              "\n",
              "  [theme=dark] .colab-df-quickchart {\n",
              "      --bg-color: #3B4455;\n",
              "      --fill-color: #D2E3FC;\n",
              "      --hover-bg-color: #434B5C;\n",
              "      --hover-fill-color: #FFFFFF;\n",
              "      --disabled-bg-color: #3B4455;\n",
              "      --disabled-fill-color: #666;\n",
              "  }\n",
              "\n",
              "  .colab-df-quickchart {\n",
              "    background-color: var(--bg-color);\n",
              "    border: none;\n",
              "    border-radius: 50%;\n",
              "    cursor: pointer;\n",
              "    display: none;\n",
              "    fill: var(--fill-color);\n",
              "    height: 32px;\n",
              "    padding: 0;\n",
              "    width: 32px;\n",
              "  }\n",
              "\n",
              "  .colab-df-quickchart:hover {\n",
              "    background-color: var(--hover-bg-color);\n",
              "    box-shadow: 0 1px 2px rgba(60, 64, 67, 0.3), 0 1px 3px 1px rgba(60, 64, 67, 0.15);\n",
              "    fill: var(--button-hover-fill-color);\n",
              "  }\n",
              "\n",
              "  .colab-df-quickchart-complete:disabled,\n",
              "  .colab-df-quickchart-complete:disabled:hover {\n",
              "    background-color: var(--disabled-bg-color);\n",
              "    fill: var(--disabled-fill-color);\n",
              "    box-shadow: none;\n",
              "  }\n",
              "\n",
              "  .colab-df-spinner {\n",
              "    border: 2px solid var(--fill-color);\n",
              "    border-color: transparent;\n",
              "    border-bottom-color: var(--fill-color);\n",
              "    animation:\n",
              "      spin 1s steps(1) infinite;\n",
              "  }\n",
              "\n",
              "  @keyframes spin {\n",
              "    0% {\n",
              "      border-color: transparent;\n",
              "      border-bottom-color: var(--fill-color);\n",
              "      border-left-color: var(--fill-color);\n",
              "    }\n",
              "    20% {\n",
              "      border-color: transparent;\n",
              "      border-left-color: var(--fill-color);\n",
              "      border-top-color: var(--fill-color);\n",
              "    }\n",
              "    30% {\n",
              "      border-color: transparent;\n",
              "      border-left-color: var(--fill-color);\n",
              "      border-top-color: var(--fill-color);\n",
              "      border-right-color: var(--fill-color);\n",
              "    }\n",
              "    40% {\n",
              "      border-color: transparent;\n",
              "      border-right-color: var(--fill-color);\n",
              "      border-top-color: var(--fill-color);\n",
              "    }\n",
              "    60% {\n",
              "      border-color: transparent;\n",
              "      border-right-color: var(--fill-color);\n",
              "    }\n",
              "    80% {\n",
              "      border-color: transparent;\n",
              "      border-right-color: var(--fill-color);\n",
              "      border-bottom-color: var(--fill-color);\n",
              "    }\n",
              "    90% {\n",
              "      border-color: transparent;\n",
              "      border-bottom-color: var(--fill-color);\n",
              "    }\n",
              "  }\n",
              "</style>\n",
              "\n",
              "  <script>\n",
              "    async function quickchart(key) {\n",
              "      const quickchartButtonEl =\n",
              "        document.querySelector('#' + key + ' button');\n",
              "      quickchartButtonEl.disabled = true;  // To prevent multiple clicks.\n",
              "      quickchartButtonEl.classList.add('colab-df-spinner');\n",
              "      try {\n",
              "        const charts = await google.colab.kernel.invokeFunction(\n",
              "            'suggestCharts', [key], {});\n",
              "      } catch (error) {\n",
              "        console.error('Error during call to suggestCharts:', error);\n",
              "      }\n",
              "      quickchartButtonEl.classList.remove('colab-df-spinner');\n",
              "      quickchartButtonEl.classList.add('colab-df-quickchart-complete');\n",
              "    }\n",
              "    (() => {\n",
              "      let quickchartButtonEl =\n",
              "        document.querySelector('#df-f8e5d457-d7f8-45c7-8890-13fb119ef362 button');\n",
              "      quickchartButtonEl.style.display =\n",
              "        google.colab.kernel.accessAllowed ? 'block' : 'none';\n",
              "    })();\n",
              "  </script>\n",
              "</div>\n",
              "\n",
              "    </div>\n",
              "  </div>\n"
            ]
          },
          "metadata": {},
          "execution_count": 66
        }
      ]
    },
    {
      "cell_type": "code",
      "source": [
        "X[\"Educational Qualifications\"]"
      ],
      "metadata": {
        "colab": {
          "base_uri": "https://localhost:8080/"
        },
        "id": "Np190G1fe0C3",
        "outputId": "ae2c2303-9526-4b39-d018-3830ec8d9294"
      },
      "execution_count": 67,
      "outputs": [
        {
          "output_type": "execute_result",
          "data": {
            "text/plain": [
              "0      3\n",
              "1      3\n",
              "2      3\n",
              "3      3\n",
              "4      1\n",
              "      ..\n",
              "383    3\n",
              "384    2\n",
              "385    3\n",
              "386    2\n",
              "387    2\n",
              "Name: Educational Qualifications, Length: 388, dtype: int64"
            ]
          },
          "metadata": {},
          "execution_count": 67
        }
      ]
    },
    {
      "cell_type": "code",
      "source": [
        "X.isnull().sum()"
      ],
      "metadata": {
        "colab": {
          "base_uri": "https://localhost:8080/"
        },
        "id": "ZUmaCFcbbOL9",
        "outputId": "d1961684-9757-4e7c-8867-8a4def143bcf"
      },
      "execution_count": 68,
      "outputs": [
        {
          "output_type": "execute_result",
          "data": {
            "text/plain": [
              "Monthly Income                       0\n",
              "latitude                             0\n",
              "Family size                          0\n",
              "Reviews                             71\n",
              "Pin code                             0\n",
              "Age                                  0\n",
              "longitude                            0\n",
              "Educational Qualifications           0\n",
              "Marital Status_Prefer not to say     0\n",
              "Marital Status_Single                0\n",
              "Gender_Male                          0\n",
              "employment_status_House wife         0\n",
              "employment_status_Self Employeed     0\n",
              "employment_status_Student            0\n",
              "dtype: int64"
            ]
          },
          "metadata": {},
          "execution_count": 68
        }
      ]
    },
    {
      "cell_type": "code",
      "source": [
        "#As we have null values  after encoding so we have filled the data with mode as it is a categorical data\n",
        "\n",
        "X[\"Reviews\"] = X[\"Reviews\"].fillna(X[\"Reviews\"].mode()[0])"
      ],
      "metadata": {
        "id": "SzbhVVZfbdnj"
      },
      "execution_count": 69,
      "outputs": []
    },
    {
      "cell_type": "code",
      "source": [
        "X.isnull().sum() # Now we don't have missing values after encoding"
      ],
      "metadata": {
        "colab": {
          "base_uri": "https://localhost:8080/"
        },
        "id": "NX-IKa5yb2jc",
        "outputId": "42145556-091f-4bc7-a9f2-8cfcd07c9da9"
      },
      "execution_count": 70,
      "outputs": [
        {
          "output_type": "execute_result",
          "data": {
            "text/plain": [
              "Monthly Income                      0\n",
              "latitude                            0\n",
              "Family size                         0\n",
              "Reviews                             0\n",
              "Pin code                            0\n",
              "Age                                 0\n",
              "longitude                           0\n",
              "Educational Qualifications          0\n",
              "Marital Status_Prefer not to say    0\n",
              "Marital Status_Single               0\n",
              "Gender_Male                         0\n",
              "employment_status_House wife        0\n",
              "employment_status_Self Employeed    0\n",
              "employment_status_Student           0\n",
              "dtype: int64"
            ]
          },
          "metadata": {},
          "execution_count": 70
        }
      ]
    },
    {
      "cell_type": "code",
      "source": [
        "# Standardization(mean = 0,std = 1) or normalization(0 to 1) are two Feature Scaling techniques to convert data into certain range\n",
        "\n",
        "#Outlier detection and treatment"
      ],
      "metadata": {
        "id": "ClGKsoSccT2J"
      },
      "execution_count": 71,
      "outputs": []
    },
    {
      "cell_type": "code",
      "source": [
        "X[\"Age\"].describe()"
      ],
      "metadata": {
        "colab": {
          "base_uri": "https://localhost:8080/"
        },
        "id": "8XCLhjdT4fWr",
        "outputId": "f4a5d7fa-22da-4881-991d-61a290b651d8"
      },
      "execution_count": 72,
      "outputs": [
        {
          "output_type": "execute_result",
          "data": {
            "text/plain": [
              "count    388.000000\n",
              "mean      24.634021\n",
              "std        2.897932\n",
              "min       18.000000\n",
              "25%       23.000000\n",
              "50%       24.000000\n",
              "75%       26.000000\n",
              "max       33.000000\n",
              "Name: Age, dtype: float64"
            ]
          },
          "metadata": {},
          "execution_count": 72
        }
      ]
    },
    {
      "cell_type": "code",
      "source": [
        "X[\"Age\"].plot(kind = \"box\")"
      ],
      "metadata": {
        "colab": {
          "base_uri": "https://localhost:8080/",
          "height": 447
        },
        "id": "zfxgVx6DfMdW",
        "outputId": "73e3b329-7ad4-4259-e138-8535c352b4f7"
      },
      "execution_count": 73,
      "outputs": [
        {
          "output_type": "execute_result",
          "data": {
            "text/plain": [
              "<Axes: >"
            ]
          },
          "metadata": {},
          "execution_count": 73
        },
        {
          "output_type": "display_data",
          "data": {
            "text/plain": [
              "<Figure size 640x480 with 1 Axes>"
            ],
            "image/png": "[encoded data removed]"
          },
          "metadata": {}
        }
      ]
    },
    {
      "cell_type": "code",
      "source": [
        "Q1 = X.describe()[\"Age\"][\"25%\"]\n",
        "print(Q1)"
      ],
      "metadata": {
        "colab": {
          "base_uri": "https://localhost:8080/"
        },
        "id": "lAgTqqpchklX",
        "outputId": "30268314-da23-47a6-b5a5-fb3b4f419e9e"
      },
      "execution_count": 74,
      "outputs": [
        {
          "output_type": "stream",
          "name": "stdout",
          "text": [
            "23.0\n"
          ]
        }
      ]
    },
    {
      "cell_type": "code",
      "source": [
        "Q3 = X.describe()[\"Age\"][\"75%\"]\n",
        "print(Q3)"
      ],
      "metadata": {
        "colab": {
          "base_uri": "https://localhost:8080/"
        },
        "id": "kHSMbjpIhzUx",
        "outputId": "f39de349-225e-40e5-8f4d-d5fb1cbc0bbf"
      },
      "execution_count": 75,
      "outputs": [
        {
          "output_type": "stream",
          "name": "stdout",
          "text": [
            "26.0\n"
          ]
        }
      ]
    },
    {
      "cell_type": "code",
      "source": [
        "IQR = Q3 - Q1\n",
        "print(IQR)"
      ],
      "metadata": {
        "colab": {
          "base_uri": "https://localhost:8080/"
        },
        "id": "ipAOI0IE3Vca",
        "outputId": "13a3a6da-4907-4b80-c9f0-a2f8bbe0502c"
      },
      "execution_count": 76,
      "outputs": [
        {
          "output_type": "stream",
          "name": "stdout",
          "text": [
            "3.0\n"
          ]
        }
      ]
    },
    {
      "cell_type": "code",
      "source": [
        "lower_limit = Q1-1.5*IQR\n",
        "upper_limit = Q3+1.5*IQR\n",
        "print(lower_limit)\n",
        "print(upper_limit)\n"
      ],
      "metadata": {
        "colab": {
          "base_uri": "https://localhost:8080/"
        },
        "id": "O-OInZUtg-UI",
        "outputId": "3afb15f1-f37e-469c-cb44-30c922cad553"
      },
      "execution_count": 77,
      "outputs": [
        {
          "output_type": "stream",
          "name": "stdout",
          "text": [
            "18.5\n",
            "30.5\n"
          ]
        }
      ]
    },
    {
      "cell_type": "markdown",
      "source": [
        "There should not be any value below 18.5.\n",
        "There shouldnot be any value above 30.5"
      ],
      "metadata": {
        "id": "chegGdUX3ugo"
      }
    },
    {
      "cell_type": "code",
      "source": [
        "X[\"Age\"] = X[\"Age\"].clip(lower_limit,upper_limit)"
      ],
      "metadata": {
        "id": "c6NjyD7L36LQ"
      },
      "execution_count": 78,
      "outputs": []
    },
    {
      "cell_type": "code",
      "source": [
        "#Now There are no outliers as we can see in the box plot. Outlier is treated using capping.\n",
        "X[\"Age\"].plot(kind=\"box\")"
      ],
      "metadata": {
        "colab": {
          "base_uri": "https://localhost:8080/",
          "height": 447
        },
        "id": "U-AuzjCO4Ocf",
        "outputId": "a3cfe504-b812-4340-e4be-de85adb4d9e9"
      },
      "execution_count": 79,
      "outputs": [
        {
          "output_type": "execute_result",
          "data": {
            "text/plain": [
              "<Axes: >"
            ]
          },
          "metadata": {},
          "execution_count": 79
        },
        {
          "output_type": "display_data",
          "data": {
            "text/plain": [
              "<Figure size 640x480 with 1 Axes>"
            ],
            "image/png": "[encoded data removed]"
          },
          "metadata": {}
        }
      ]
    },
    {
      "cell_type": "code",
      "source": [
        "X.head(5)"
      ],
      "metadata": {
        "colab": {
          "base_uri": "https://localhost:8080/",
          "height": 261
        },
        "id": "zv65vyXd5YTH",
        "outputId": "efb0c49c-b485-49d8-c402-29e4fce0274e"
      },
      "execution_count": 80,
      "outputs": [
        {
          "output_type": "execute_result",
          "data": {
            "text/plain": [
              "   Monthly Income  latitude Family size  Reviews  Pin code   Age  longitude  \\\n",
              "0               3   13.0262         5.0      1.0    560045  28.0    77.6200   \n",
              "1               0   12.9770         3.0      1.0    560009  24.0    77.5773   \n",
              "2               0   12.9770         3.0      1.0    560009  24.0    77.5773   \n",
              "3               0   13.0019         3.0      1.0    560003  24.0    77.5713   \n",
              "4               4   13.0626         3.0      1.0    560015  24.0    77.5284   \n",
              "\n",
              "   Educational Qualifications  Marital Status_Prefer not to say  \\\n",
              "0                           3                                 0   \n",
              "1                           3                                 0   \n",
              "2                           3                                 0   \n",
              "3                           3                                 0   \n",
              "4                           1                                 0   \n",
              "\n",
              "   Marital Status_Single  Gender_Male  employment_status_House wife  \\\n",
              "0                      0            1                             0   \n",
              "1                      1            1                             0   \n",
              "2                      1            0                             0   \n",
              "3                      1            0                             0   \n",
              "4                      0            1                             0   \n",
              "\n",
              "   employment_status_Self Employeed  employment_status_Student  \n",
              "0                                 0                          0  \n",
              "1                                 0                          1  \n",
              "2                                 0                          1  \n",
              "3                                 0                          1  \n",
              "4                                 1                          0  "
            ],
            "text/html": [
              "\n",
              "  <div id=\"df-428a1bb2-8309-4adc-944b-4af8c1391834\" class=\"colab-df-container\">\n",
              "    <div>\n",
              "<style scoped>\n",
              "    .dataframe tbody tr th:only-of-type {\n",
              "        vertical-align: middle;\n",
              "    }\n",
              "\n",
              "    .dataframe tbody tr th {\n",
              "        vertical-align: top;\n",
              "    }\n",
              "\n",
              "    .dataframe thead th {\n",
              "        text-align: right;\n",
              "    }\n",
              "</style>\n",
              "<table border=\"1\" class=\"dataframe\">\n",
              "  <thead>\n",
              "    <tr style=\"text-align: right;\">\n",
              "      <th></th>\n",
              "      <th>Monthly Income</th>\n",
              "      <th>latitude</th>\n",
              "      <th>Family size</th>\n",
              "      <th>Reviews</th>\n",
              "      <th>Pin code</th>\n",
              "      <th>Age</th>\n",
              "      <th>longitude</th>\n",
              "      <th>Educational Qualifications</th>\n",
              "      <th>Marital Status_Prefer not to say</th>\n",
              "      <th>Marital Status_Single</th>\n",
              "      <th>Gender_Male</th>\n",
              "      <th>employment_status_House wife</th>\n",
              "      <th>employment_status_Self Employeed</th>\n",
              "      <th>employment_status_Student</th>\n",
              "    </tr>\n",
              "  </thead>\n",
              "  <tbody>\n",
              "    <tr>\n",
              "      <th>0</th>\n",
              "      <td>3</td>\n",
              "      <td>13.0262</td>\n",
              "      <td>5.0</td>\n",
              "      <td>1.0</td>\n",
              "      <td>560045</td>\n",
              "      <td>28.0</td>\n",
              "      <td>77.6200</td>\n",
              "      <td>3</td>\n",
              "      <td>0</td>\n",
              "      <td>0</td>\n",
              "      <td>1</td>\n",
              "      <td>0</td>\n",
              "      <td>0</td>\n",
              "      <td>0</td>\n",
              "    </tr>\n",
              "    <tr>\n",
              "      <th>1</th>\n",
              "      <td>0</td>\n",
              "      <td>12.9770</td>\n",
              "      <td>3.0</td>\n",
              "      <td>1.0</td>\n",
              "      <td>560009</td>\n",
              "      <td>24.0</td>\n",
              "      <td>77.5773</td>\n",
              "      <td>3</td>\n",
              "      <td>0</td>\n",
              "      <td>1</td>\n",
              "      <td>1</td>\n",
              "      <td>0</td>\n",
              "      <td>0</td>\n",
              "      <td>1</td>\n",
              "    </tr>\n",
              "    <tr>\n",
              "      <th>2</th>\n",
              "      <td>0</td>\n",
              "      <td>12.9770</td>\n",
              "      <td>3.0</td>\n",
              "      <td>1.0</td>\n",
              "      <td>560009</td>\n",
              "      <td>24.0</td>\n",
              "      <td>77.5773</td>\n",
              "      <td>3</td>\n",
              "      <td>0</td>\n",
              "      <td>1</td>\n",
              "      <td>0</td>\n",
              "      <td>0</td>\n",
              "      <td>0</td>\n",
              "      <td>1</td>\n",
              "    </tr>\n",
              "    <tr>\n",
              "      <th>3</th>\n",
              "      <td>0</td>\n",
              "      <td>13.0019</td>\n",
              "      <td>3.0</td>\n",
              "      <td>1.0</td>\n",
              "      <td>560003</td>\n",
              "      <td>24.0</td>\n",
              "      <td>77.5713</td>\n",
              "      <td>3</td>\n",
              "      <td>0</td>\n",
              "      <td>1</td>\n",
              "      <td>0</td>\n",
              "      <td>0</td>\n",
              "      <td>0</td>\n",
              "      <td>1</td>\n",
              "    </tr>\n",
              "    <tr>\n",
              "      <th>4</th>\n",
              "      <td>4</td>\n",
              "      <td>13.0626</td>\n",
              "      <td>3.0</td>\n",
              "      <td>1.0</td>\n",
              "      <td>560015</td>\n",
              "      <td>24.0</td>\n",
              "      <td>77.5284</td>\n",
              "      <td>1</td>\n",
              "      <td>0</td>\n",
              "      <td>0</td>\n",
              "      <td>1</td>\n",
              "      <td>0</td>\n",
              "      <td>1</td>\n",
              "      <td>0</td>\n",
              "    </tr>\n",
              "  </tbody>\n",
              "</table>\n",
              "</div>\n",
              "    <div class=\"colab-df-buttons\">\n",
              "\n",
              "  <div class=\"colab-df-container\">\n",
              "    <button class=\"colab-df-convert\" onclick=\"convertToInteractive('df-428a1bb2-8309-4adc-944b-4af8c1391834')\"\n",
              "            title=\"Convert this dataframe to an interactive table.\"\n",
              "            style=\"display:none;\">\n",
              "\n",
              "  <svg xmlns=\"http://www.w3.org/2000/svg\" height=\"24px\" viewBox=\"0 -960 960 960\">\n",
              "    <path d=\"M120-120v-720h720v720H120Zm60-500h600v-160H180v160Zm220 220h160v-160H400v160Zm0 220h160v-160H400v160ZM180-400h160v-160H180v160Zm440 0h160v-160H620v160ZM180-180h160v-160H180v160Zm440 0h160v-160H620v160Z\"/>\n",
              "  </svg>\n",
              "    </button>\n",
              "\n",
              "  <style>\n",
              "    .colab-df-container {\n",
              "      display:flex;\n",
              "      gap: 12px;\n",
              "    }\n",
              "\n",
              "    .colab-df-convert {\n",
              "      background-color: #E8F0FE;\n",
              "      border: none;\n",
              "      border-radius: 50%;\n",
              "      cursor: pointer;\n",
              "      display: none;\n",
              "      fill: #1967D2;\n",
              "      height: 32px;\n",
              "      padding: 0 0 0 0;\n",
              "      width: 32px;\n",
              "    }\n",
              "\n",
              "    .colab-df-convert:hover {\n",
              "      background-color: #E2EBFA;\n",
              "      box-shadow: 0px 1px 2px rgba(60, 64, 67, 0.3), 0px 1px 3px 1px rgba(60, 64, 67, 0.15);\n",
              "      fill: #174EA6;\n",
              "    }\n",
              "\n",
              "    .colab-df-buttons div {\n",
              "      margin-bottom: 4px;\n",
              "    }\n",
              "\n",
              "    [theme=dark] .colab-df-convert {\n",
              "      background-color: #3B4455;\n",
              "      fill: #D2E3FC;\n",
              "    }\n",
              "\n",
              "    [theme=dark] .colab-df-convert:hover {\n",
              "      background-color: #434B5C;\n",
              "      box-shadow: 0px 1px 3px 1px rgba(0, 0, 0, 0.15);\n",
              "      filter: drop-shadow(0px 1px 2px rgba(0, 0, 0, 0.3));\n",
              "      fill: #FFFFFF;\n",
              "    }\n",
              "  </style>\n",
              "\n",
              "    <script>\n",
              "      const buttonEl =\n",
              "        document.querySelector('#df-428a1bb2-8309-4adc-944b-4af8c1391834 button.colab-df-convert');\n",
              "      buttonEl.style.display =\n",
              "        google.colab.kernel.accessAllowed ? 'block' : 'none';\n",
              "\n",
              "      async function convertToInteractive(key) {\n",
              "        const element = document.querySelector('#df-428a1bb2-8309-4adc-944b-4af8c1391834');\n",
              "        const dataTable =\n",
              "          await google.colab.kernel.invokeFunction('convertToInteractive',\n",
              "                                                    [key], {});\n",
              "        if (!dataTable) return;\n",
              "\n",
              "        const docLinkHtml = 'Like what you see? Visit the ' +\n",
              "          '<a target=\"_blank\" href=https://colab.research.google.com/notebooks/data_table.ipynb>data table notebook</a>'\n",
              "          + ' to learn more about interactive tables.';\n",
              "        element.innerHTML = '';\n",
              "        dataTable['output_type'] = 'display_data';\n",
              "        await google.colab.output.renderOutput(dataTable, element);\n",
              "        const docLink = document.createElement('div');\n",
              "        docLink.innerHTML = docLinkHtml;\n",
              "        element.appendChild(docLink);\n",
              "      }\n",
              "    </script>\n",
              "  </div>\n",
              "\n",
              "\n",
              "<div id=\"df-383651aa-99a2-4fa5-ae7c-30123eb73156\">\n",
              "  <button class=\"colab-df-quickchart\" onclick=\"quickchart('df-383651aa-99a2-4fa5-ae7c-30123eb73156')\"\n",
              "            title=\"Suggest charts\"\n",
              "            style=\"display:none;\">\n",
              "\n",
              "<svg xmlns=\"http://www.w3.org/2000/svg\" height=\"24px\"viewBox=\"0 0 24 24\"\n",
              "     width=\"24px\">\n",
              "    <g>\n",
              "        <path d=\"M19 3H5c-1.1 0-2 .9-2 2v14c0 1.1.9 2 2 2h14c1.1 0 2-.9 2-2V5c0-1.1-.9-2-2-2zM9 17H7v-7h2v7zm4 0h-2V7h2v10zm4 0h-2v-4h2v4z\"/>\n",
              "    </g>\n",
              "</svg>\n",
              "  </button>\n",
              "\n",
              "<style>\n",
              "  .colab-df-quickchart {\n",
              "      --bg-color: #E8F0FE;\n",
              "      --fill-color: #1967D2;\n",
              "      --hover-bg-color: #E2EBFA;\n",
              "      --hover-fill-color: #174EA6;\n",
              "      --disabled-fill-color: #AAA;\n",
              "      --disabled-bg-color: #DDD;\n",
              "  }\n",
              "\n",
              "  [theme=dark] .colab-df-quickchart {\n",
              "      --bg-color: #3B4455;\n",
              "      --fill-color: #D2E3FC;\n",
              "      --hover-bg-color: #434B5C;\n",
              "      --hover-fill-color: #FFFFFF;\n",
              "      --disabled-bg-color: #3B4455;\n",
              "      --disabled-fill-color: #666;\n",
              "  }\n",
              "\n",
              "  .colab-df-quickchart {\n",
              "    background-color: var(--bg-color);\n",
              "    border: none;\n",
              "    border-radius: 50%;\n",
              "    cursor: pointer;\n",
              "    display: none;\n",
              "    fill: var(--fill-color);\n",
              "    height: 32px;\n",
              "    padding: 0;\n",
              "    width: 32px;\n",
              "  }\n",
              "\n",
              "  .colab-df-quickchart:hover {\n",
              "    background-color: var(--hover-bg-color);\n",
              "    box-shadow: 0 1px 2px rgba(60, 64, 67, 0.3), 0 1px 3px 1px rgba(60, 64, 67, 0.15);\n",
              "    fill: var(--button-hover-fill-color);\n",
              "  }\n",
              "\n",
              "  .colab-df-quickchart-complete:disabled,\n",
              "  .colab-df-quickchart-complete:disabled:hover {\n",
              "    background-color: var(--disabled-bg-color);\n",
              "    fill: var(--disabled-fill-color);\n",
              "    box-shadow: none;\n",
              "  }\n",
              "\n",
              "  .colab-df-spinner {\n",
              "    border: 2px solid var(--fill-color);\n",
              "    border-color: transparent;\n",
              "    border-bottom-color: var(--fill-color);\n",
              "    animation:\n",
              "      spin 1s steps(1) infinite;\n",
              "  }\n",
              "\n",
              "  @keyframes spin {\n",
              "    0% {\n",
              "      border-color: transparent;\n",
              "      border-bottom-color: var(--fill-color);\n",
              "      border-left-color: var(--fill-color);\n",
              "    }\n",
              "    20% {\n",
              "      border-color: transparent;\n",
              "      border-left-color: var(--fill-color);\n",
              "      border-top-color: var(--fill-color);\n",
              "    }\n",
              "    30% {\n",
              "      border-color: transparent;\n",
              "      border-left-color: var(--fill-color);\n",
              "      border-top-color: var(--fill-color);\n",
              "      border-right-color: var(--fill-color);\n",
              "    }\n",
              "    40% {\n",
              "      border-color: transparent;\n",
              "      border-right-color: var(--fill-color);\n",
              "      border-top-color: var(--fill-color);\n",
              "    }\n",
              "    60% {\n",
              "      border-color: transparent;\n",
              "      border-right-color: var(--fill-color);\n",
              "    }\n",
              "    80% {\n",
              "      border-color: transparent;\n",
              "      border-right-color: var(--fill-color);\n",
              "      border-bottom-color: var(--fill-color);\n",
              "    }\n",
              "    90% {\n",
              "      border-color: transparent;\n",
              "      border-bottom-color: var(--fill-color);\n",
              "    }\n",
              "  }\n",
              "</style>\n",
              "\n",
              "  <script>\n",
              "    async function quickchart(key) {\n",
              "      const quickchartButtonEl =\n",
              "        document.querySelector('#' + key + ' button');\n",
              "      quickchartButtonEl.disabled = true;  // To prevent multiple clicks.\n",
              "      quickchartButtonEl.classList.add('colab-df-spinner');\n",
              "      try {\n",
              "        const charts = await google.colab.kernel.invokeFunction(\n",
              "            'suggestCharts', [key], {});\n",
              "      } catch (error) {\n",
              "        console.error('Error during call to suggestCharts:', error);\n",
              "      }\n",
              "      quickchartButtonEl.classList.remove('colab-df-spinner');\n",
              "      quickchartButtonEl.classList.add('colab-df-quickchart-complete');\n",
              "    }\n",
              "    (() => {\n",
              "      let quickchartButtonEl =\n",
              "        document.querySelector('#df-383651aa-99a2-4fa5-ae7c-30123eb73156 button');\n",
              "      quickchartButtonEl.style.display =\n",
              "        google.colab.kernel.accessAllowed ? 'block' : 'none';\n",
              "    })();\n",
              "  </script>\n",
              "</div>\n",
              "\n",
              "    </div>\n",
              "  </div>\n"
            ]
          },
          "metadata": {},
          "execution_count": 80
        }
      ]
    },
    {
      "cell_type": "code",
      "source": [
        "#Scaling them using Standarization and Normalization\n",
        "\n",
        "standdf = X.copy()\n",
        "normdf = X.copy()"
      ],
      "metadata": {
        "id": "bsOjPMpq6MhU"
      },
      "execution_count": 81,
      "outputs": []
    },
    {
      "cell_type": "code",
      "source": [
        "# Using Standarization using scaling\n",
        "\n",
        "from sklearn.preprocessing import StandardScaler\n",
        "ss = StandardScaler()\n",
        "scaled_values = ss.fit_transform(standdf) #fit will calculate mean and std and transform will fill the values\n",
        "print(scaled_values)\n"
      ],
      "metadata": {
        "colab": {
          "base_uri": "https://localhost:8080/"
        },
        "id": "ImeKLvbl6b3a",
        "outputId": "2f23b4c4-2ca8-4481-8389-fd5b147d44e1"
      },
      "execution_count": 82,
      "outputs": [
        {
          "output_type": "stream",
          "name": "stdout",
          "text": [
            "[[ 0.96298217  1.21853971  1.29964147 ... -0.15409965 -0.40209035\n",
            "  -1.06941405]\n",
            " [-0.9240738   0.11122668 -0.2146555  ... -0.15409965 -0.40209035\n",
            "   0.93509151]\n",
            " [-0.9240738   0.11122668 -0.2146555  ... -0.15409965 -0.40209035\n",
            "   0.93509151]\n",
            " ...\n",
            " [ 0.33396351  0.29127758  1.29964147 ... -0.15409965 -0.40209035\n",
            "   0.93509151]\n",
            " [ 0.33396351 -0.05081913 -0.2146555  ... -0.15409965 -0.40209035\n",
            "  -1.06941405]\n",
            " [-0.9240738   0.11122668 -1.72895247 ... -0.15409965 -0.40209035\n",
            "   0.93509151]]\n"
          ]
        }
      ]
    },
    {
      "cell_type": "code",
      "source": [
        "newdf = pd.DataFrame(scaled_values,columns = X.columns) # this is creating new data frame using scaled_values which we have calculated and columns name using oroginal data frame\n",
        "newdf.head(5) # here we can see all the values are scaled in a certain range."
      ],
      "metadata": {
        "colab": {
          "base_uri": "https://localhost:8080/",
          "height": 261
        },
        "id": "UYTTlpmD7lYj",
        "outputId": "d7887bf4-9ae2-487f-a6c1-359bf89c46b3"
      },
      "execution_count": 83,
      "outputs": [
        {
          "output_type": "execute_result",
          "data": {
            "text/plain": [
              "   Monthly Income  latitude  Family size  Reviews  Pin code       Age  \\\n",
              "0        0.962982  1.218540     1.299641      0.0  0.155827  1.265140   \n",
              "1       -0.924074  0.111227    -0.214655      0.0 -0.992164 -0.206747   \n",
              "2       -0.924074  0.111227    -0.214655      0.0 -0.992164 -0.206747   \n",
              "3       -0.924074  0.671635    -0.214655      0.0 -1.183496 -0.206747   \n",
              "4        1.592001  2.037771    -0.214655      0.0 -0.800833 -0.206747   \n",
              "\n",
              "   longitude  Educational Qualifications  Marital Status_Prefer not to say  \\\n",
              "0   0.386846                    0.698696                         -0.178647   \n",
              "1  -0.445712                    0.698696                         -0.178647   \n",
              "2  -0.445712                    0.698696                         -0.178647   \n",
              "3  -0.562699                    0.698696                         -0.178647   \n",
              "4  -1.399157                   -2.247979                         -0.178647   \n",
              "\n",
              "   Marital Status_Single  Gender_Male  employment_status_House wife  \\\n",
              "0              -1.494434     0.864724                       -0.1541   \n",
              "1               0.669150     0.864724                       -0.1541   \n",
              "2               0.669150    -1.156438                       -0.1541   \n",
              "3               0.669150    -1.156438                       -0.1541   \n",
              "4              -1.494434     0.864724                       -0.1541   \n",
              "\n",
              "   employment_status_Self Employeed  employment_status_Student  \n",
              "0                         -0.402090                  -1.069414  \n",
              "1                         -0.402090                   0.935092  \n",
              "2                         -0.402090                   0.935092  \n",
              "3                         -0.402090                   0.935092  \n",
              "4                          2.487003                  -1.069414  "
            ],
            "text/html": [
              "\n",
              "  <div id=\"df-ed903fde-4f76-4bf1-9052-bfb15d7de9ce\" class=\"colab-df-container\">\n",
              "    <div>\n",
              "<style scoped>\n",
              "    .dataframe tbody tr th:only-of-type {\n",
              "        vertical-align: middle;\n",
              "    }\n",
              "\n",
              "    .dataframe tbody tr th {\n",
              "        vertical-align: top;\n",
              "    }\n",
              "\n",
              "    .dataframe thead th {\n",
              "        text-align: right;\n",
              "    }\n",
              "</style>\n",
              "<table border=\"1\" class=\"dataframe\">\n",
              "  <thead>\n",
              "    <tr style=\"text-align: right;\">\n",
              "      <th></th>\n",
              "      <th>Monthly Income</th>\n",
              "      <th>latitude</th>\n",
              "      <th>Family size</th>\n",
              "      <th>Reviews</th>\n",
              "      <th>Pin code</th>\n",
              "      <th>Age</th>\n",
              "      <th>longitude</th>\n",
              "      <th>Educational Qualifications</th>\n",
              "      <th>Marital Status_Prefer not to say</th>\n",
              "      <th>Marital Status_Single</th>\n",
              "      <th>Gender_Male</th>\n",
              "      <th>employment_status_House wife</th>\n",
              "      <th>employment_status_Self Employeed</th>\n",
              "      <th>employment_status_Student</th>\n",
              "    </tr>\n",
              "  </thead>\n",
              "  <tbody>\n",
              "    <tr>\n",
              "      <th>0</th>\n",
              "      <td>0.962982</td>\n",
              "      <td>1.218540</td>\n",
              "      <td>1.299641</td>\n",
              "      <td>0.0</td>\n",
              "      <td>0.155827</td>\n",
              "      <td>1.265140</td>\n",
              "      <td>0.386846</td>\n",
              "      <td>0.698696</td>\n",
              "      <td>-0.178647</td>\n",
              "      <td>-1.494434</td>\n",
              "      <td>0.864724</td>\n",
              "      <td>-0.1541</td>\n",
              "      <td>-0.402090</td>\n",
              "      <td>-1.069414</td>\n",
              "    </tr>\n",
              "    <tr>\n",
              "      <th>1</th>\n",
              "      <td>-0.924074</td>\n",
              "      <td>0.111227</td>\n",
              "      <td>-0.214655</td>\n",
              "      <td>0.0</td>\n",
              "      <td>-0.992164</td>\n",
              "      <td>-0.206747</td>\n",
              "      <td>-0.445712</td>\n",
              "      <td>0.698696</td>\n",
              "      <td>-0.178647</td>\n",
              "      <td>0.669150</td>\n",
              "      <td>0.864724</td>\n",
              "      <td>-0.1541</td>\n",
              "      <td>-0.402090</td>\n",
              "      <td>0.935092</td>\n",
              "    </tr>\n",
              "    <tr>\n",
              "      <th>2</th>\n",
              "      <td>-0.924074</td>\n",
              "      <td>0.111227</td>\n",
              "      <td>-0.214655</td>\n",
              "      <td>0.0</td>\n",
              "      <td>-0.992164</td>\n",
              "      <td>-0.206747</td>\n",
              "      <td>-0.445712</td>\n",
              "      <td>0.698696</td>\n",
              "      <td>-0.178647</td>\n",
              "      <td>0.669150</td>\n",
              "      <td>-1.156438</td>\n",
              "      <td>-0.1541</td>\n",
              "      <td>-0.402090</td>\n",
              "      <td>0.935092</td>\n",
              "    </tr>\n",
              "    <tr>\n",
              "      <th>3</th>\n",
              "      <td>-0.924074</td>\n",
              "      <td>0.671635</td>\n",
              "      <td>-0.214655</td>\n",
              "      <td>0.0</td>\n",
              "      <td>-1.183496</td>\n",
              "      <td>-0.206747</td>\n",
              "      <td>-0.562699</td>\n",
              "      <td>0.698696</td>\n",
              "      <td>-0.178647</td>\n",
              "      <td>0.669150</td>\n",
              "      <td>-1.156438</td>\n",
              "      <td>-0.1541</td>\n",
              "      <td>-0.402090</td>\n",
              "      <td>0.935092</td>\n",
              "    </tr>\n",
              "    <tr>\n",
              "      <th>4</th>\n",
              "      <td>1.592001</td>\n",
              "      <td>2.037771</td>\n",
              "      <td>-0.214655</td>\n",
              "      <td>0.0</td>\n",
              "      <td>-0.800833</td>\n",
              "      <td>-0.206747</td>\n",
              "      <td>-1.399157</td>\n",
              "      <td>-2.247979</td>\n",
              "      <td>-0.178647</td>\n",
              "      <td>-1.494434</td>\n",
              "      <td>0.864724</td>\n",
              "      <td>-0.1541</td>\n",
              "      <td>2.487003</td>\n",
              "      <td>-1.069414</td>\n",
              "    </tr>\n",
              "  </tbody>\n",
              "</table>\n",
              "</div>\n",
              "    <div class=\"colab-df-buttons\">\n",
              "\n",
              "  <div class=\"colab-df-container\">\n",
              "    <button class=\"colab-df-convert\" onclick=\"convertToInteractive('df-ed903fde-4f76-4bf1-9052-bfb15d7de9ce')\"\n",
              "            title=\"Convert this dataframe to an interactive table.\"\n",
              "            style=\"display:none;\">\n",
              "\n",
              "  <svg xmlns=\"http://www.w3.org/2000/svg\" height=\"24px\" viewBox=\"0 -960 960 960\">\n",
              "    <path d=\"M120-120v-720h720v720H120Zm60-500h600v-160H180v160Zm220 220h160v-160H400v160Zm0 220h160v-160H400v160ZM180-400h160v-160H180v160Zm440 0h160v-160H620v160ZM180-180h160v-160H180v160Zm440 0h160v-160H620v160Z\"/>\n",
              "  </svg>\n",
              "    </button>\n",
              "\n",
              "  <style>\n",
              "    .colab-df-container {\n",
              "      display:flex;\n",
              "      gap: 12px;\n",
              "    }\n",
              "\n",
              "    .colab-df-convert {\n",
              "      background-color: #E8F0FE;\n",
              "      border: none;\n",
              "      border-radius: 50%;\n",
              "      cursor: pointer;\n",
              "      display: none;\n",
              "      fill: #1967D2;\n",
              "      height: 32px;\n",
              "      padding: 0 0 0 0;\n",
              "      width: 32px;\n",
              "    }\n",
              "\n",
              "    .colab-df-convert:hover {\n",
              "      background-color: #E2EBFA;\n",
              "      box-shadow: 0px 1px 2px rgba(60, 64, 67, 0.3), 0px 1px 3px 1px rgba(60, 64, 67, 0.15);\n",
              "      fill: #174EA6;\n",
              "    }\n",
              "\n",
              "    .colab-df-buttons div {\n",
              "      margin-bottom: 4px;\n",
              "    }\n",
              "\n",
              "    [theme=dark] .colab-df-convert {\n",
              "      background-color: #3B4455;\n",
              "      fill: #D2E3FC;\n",
              "    }\n",
              "\n",
              "    [theme=dark] .colab-df-convert:hover {\n",
              "      background-color: #434B5C;\n",
              "      box-shadow: 0px 1px 3px 1px rgba(0, 0, 0, 0.15);\n",
              "      filter: drop-shadow(0px 1px 2px rgba(0, 0, 0, 0.3));\n",
              "      fill: #FFFFFF;\n",
              "    }\n",
              "  </style>\n",
              "\n",
              "    <script>\n",
              "      const buttonEl =\n",
              "        document.querySelector('#df-ed903fde-4f76-4bf1-9052-bfb15d7de9ce button.colab-df-convert');\n",
              "      buttonEl.style.display =\n",
              "        google.colab.kernel.accessAllowed ? 'block' : 'none';\n",
              "\n",
              "      async function convertToInteractive(key) {\n",
              "        const element = document.querySelector('#df-ed903fde-4f76-4bf1-9052-bfb15d7de9ce');\n",
              "        const dataTable =\n",
              "          await google.colab.kernel.invokeFunction('convertToInteractive',\n",
              "                                                    [key], {});\n",
              "        if (!dataTable) return;\n",
              "\n",
              "        const docLinkHtml = 'Like what you see? Visit the ' +\n",
              "          '<a target=\"_blank\" href=https://colab.research.google.com/notebooks/data_table.ipynb>data table notebook</a>'\n",
              "          + ' to learn more about interactive tables.';\n",
              "        element.innerHTML = '';\n",
              "        dataTable['output_type'] = 'display_data';\n",
              "        await google.colab.output.renderOutput(dataTable, element);\n",
              "        const docLink = document.createElement('div');\n",
              "        docLink.innerHTML = docLinkHtml;\n",
              "        element.appendChild(docLink);\n",
              "      }\n",
              "    </script>\n",
              "  </div>\n",
              "\n",
              "\n",
              "<div id=\"df-c279f5f0-42b2-4dc8-8362-379af19554e2\">\n",
              "  <button class=\"colab-df-quickchart\" onclick=\"quickchart('df-c279f5f0-42b2-4dc8-8362-379af19554e2')\"\n",
              "            title=\"Suggest charts\"\n",
              "            style=\"display:none;\">\n",
              "\n",
              "<svg xmlns=\"http://www.w3.org/2000/svg\" height=\"24px\"viewBox=\"0 0 24 24\"\n",
              "     width=\"24px\">\n",
              "    <g>\n",
              "        <path d=\"M19 3H5c-1.1 0-2 .9-2 2v14c0 1.1.9 2 2 2h14c1.1 0 2-.9 2-2V5c0-1.1-.9-2-2-2zM9 17H7v-7h2v7zm4 0h-2V7h2v10zm4 0h-2v-4h2v4z\"/>\n",
              "    </g>\n",
              "</svg>\n",
              "  </button>\n",
              "\n",
              "<style>\n",
              "  .colab-df-quickchart {\n",
              "      --bg-color: #E8F0FE;\n",
              "      --fill-color: #1967D2;\n",
              "      --hover-bg-color: #E2EBFA;\n",
              "      --hover-fill-color: #174EA6;\n",
              "      --disabled-fill-color: #AAA;\n",
              "      --disabled-bg-color: #DDD;\n",
              "  }\n",
              "\n",
              "  [theme=dark] .colab-df-quickchart {\n",
              "      --bg-color: #3B4455;\n",
              "      --fill-color: #D2E3FC;\n",
              "      --hover-bg-color: #434B5C;\n",
              "      --hover-fill-color: #FFFFFF;\n",
              "      --disabled-bg-color: #3B4455;\n",
              "      --disabled-fill-color: #666;\n",
              "  }\n",
              "\n",
              "  .colab-df-quickchart {\n",
              "    background-color: var(--bg-color);\n",
              "    border: none;\n",
              "    border-radius: 50%;\n",
              "    cursor: pointer;\n",
              "    display: none;\n",
              "    fill: var(--fill-color);\n",
              "    height: 32px;\n",
              "    padding: 0;\n",
              "    width: 32px;\n",
              "  }\n",
              "\n",
              "  .colab-df-quickchart:hover {\n",
              "    background-color: var(--hover-bg-color);\n",
              "    box-shadow: 0 1px 2px rgba(60, 64, 67, 0.3), 0 1px 3px 1px rgba(60, 64, 67, 0.15);\n",
              "    fill: var(--button-hover-fill-color);\n",
              "  }\n",
              "\n",
              "  .colab-df-quickchart-complete:disabled,\n",
              "  .colab-df-quickchart-complete:disabled:hover {\n",
              "    background-color: var(--disabled-bg-color);\n",
              "    fill: var(--disabled-fill-color);\n",
              "    box-shadow: none;\n",
              "  }\n",
              "\n",
              "  .colab-df-spinner {\n",
              "    border: 2px solid var(--fill-color);\n",
              "    border-color: transparent;\n",
              "    border-bottom-color: var(--fill-color);\n",
              "    animation:\n",
              "      spin 1s steps(1) infinite;\n",
              "  }\n",
              "\n",
              "  @keyframes spin {\n",
              "    0% {\n",
              "      border-color: transparent;\n",
              "      border-bottom-color: var(--fill-color);\n",
              "      border-left-color: var(--fill-color);\n",
              "    }\n",
              "    20% {\n",
              "      border-color: transparent;\n",
              "      border-left-color: var(--fill-color);\n",
              "      border-top-color: var(--fill-color);\n",
              "    }\n",
              "    30% {\n",
              "      border-color: transparent;\n",
              "      border-left-color: var(--fill-color);\n",
              "      border-top-color: var(--fill-color);\n",
              "      border-right-color: var(--fill-color);\n",
              "    }\n",
              "    40% {\n",
              "      border-color: transparent;\n",
              "      border-right-color: var(--fill-color);\n",
              "      border-top-color: var(--fill-color);\n",
              "    }\n",
              "    60% {\n",
              "      border-color: transparent;\n",
              "      border-right-color: var(--fill-color);\n",
              "    }\n",
              "    80% {\n",
              "      border-color: transparent;\n",
              "      border-right-color: var(--fill-color);\n",
              "      border-bottom-color: var(--fill-color);\n",
              "    }\n",
              "    90% {\n",
              "      border-color: transparent;\n",
              "      border-bottom-color: var(--fill-color);\n",
              "    }\n",
              "  }\n",
              "</style>\n",
              "\n",
              "  <script>\n",
              "    async function quickchart(key) {\n",
              "      const quickchartButtonEl =\n",
              "        document.querySelector('#' + key + ' button');\n",
              "      quickchartButtonEl.disabled = true;  // To prevent multiple clicks.\n",
              "      quickchartButtonEl.classList.add('colab-df-spinner');\n",
              "      try {\n",
              "        const charts = await google.colab.kernel.invokeFunction(\n",
              "            'suggestCharts', [key], {});\n",
              "      } catch (error) {\n",
              "        console.error('Error during call to suggestCharts:', error);\n",
              "      }\n",
              "      quickchartButtonEl.classList.remove('colab-df-spinner');\n",
              "      quickchartButtonEl.classList.add('colab-df-quickchart-complete');\n",
              "    }\n",
              "    (() => {\n",
              "      let quickchartButtonEl =\n",
              "        document.querySelector('#df-c279f5f0-42b2-4dc8-8362-379af19554e2 button');\n",
              "      quickchartButtonEl.style.display =\n",
              "        google.colab.kernel.accessAllowed ? 'block' : 'none';\n",
              "    })();\n",
              "  </script>\n",
              "</div>\n",
              "\n",
              "    </div>\n",
              "  </div>\n"
            ]
          },
          "metadata": {},
          "execution_count": 83
        }
      ]
    },
    {
      "cell_type": "code",
      "source": [
        "# Performing Normalization\n",
        "\n",
        "from sklearn.preprocessing import MinMaxScaler\n",
        "mm = MinMaxScaler()\n",
        "scaled_values = mm.fit_transform(normdf) #fit will calculate mean and std and transform will fill the values\n",
        "print(scaled_values)"
      ],
      "metadata": {
        "colab": {
          "base_uri": "https://localhost:8080/"
        },
        "id": "u_cLUl7o9XG2",
        "outputId": "bd424895-1cb8-474c-d791-f4720ce5d837"
      },
      "execution_count": 84,
      "outputs": [
        {
          "output_type": "stream",
          "name": "stdout",
          "text": [
            "[[0.75       0.67989865 0.8        ... 0.         0.         0.        ]\n",
            " [0.         0.47212838 0.4        ... 0.         0.         1.        ]\n",
            " [0.         0.47212838 0.4        ... 0.         0.         1.        ]\n",
            " ...\n",
            " [0.5        0.50591216 0.8        ... 0.         0.         1.        ]\n",
            " [0.5        0.44172297 0.4        ... 0.         0.         0.        ]\n",
            " [0.         0.47212838 0.         ... 0.         0.         1.        ]]\n"
          ]
        }
      ]
    },
    {
      "cell_type": "code",
      "source": [
        "normdf = pd.DataFrame(scaled_values,columns = X.columns)\n",
        "normdf.head(5)"
      ],
      "metadata": {
        "colab": {
          "base_uri": "https://localhost:8080/",
          "height": 261
        },
        "id": "WKHOJmJN90Ka",
        "outputId": "3b096bf5-6d1d-4563-ad23-4506e092b65c"
      },
      "execution_count": 85,
      "outputs": [
        {
          "output_type": "execute_result",
          "data": {
            "text/plain": [
              "   Monthly Income  latitude  Family size  Reviews  Pin code       Age  \\\n",
              "0            0.75  0.679899          0.8      0.0  0.407407  0.791667   \n",
              "1            0.00  0.472128          0.4      0.0  0.074074  0.458333   \n",
              "2            0.00  0.472128          0.4      0.0  0.074074  0.458333   \n",
              "3            0.00  0.577280          0.4      0.0  0.018519  0.458333   \n",
              "4            1.00  0.833615          0.4      0.0  0.129630  0.458333   \n",
              "\n",
              "   longitude  Educational Qualifications  Marital Status_Prefer not to say  \\\n",
              "0   0.495620                        0.75                               0.0   \n",
              "1   0.339781                        0.75                               0.0   \n",
              "2   0.339781                        0.75                               0.0   \n",
              "3   0.317883                        0.75                               0.0   \n",
              "4   0.161314                        0.25                               0.0   \n",
              "\n",
              "   Marital Status_Single  Gender_Male  employment_status_House wife  \\\n",
              "0                    0.0          1.0                           0.0   \n",
              "1                    1.0          1.0                           0.0   \n",
              "2                    1.0          0.0                           0.0   \n",
              "3                    1.0          0.0                           0.0   \n",
              "4                    0.0          1.0                           0.0   \n",
              "\n",
              "   employment_status_Self Employeed  employment_status_Student  \n",
              "0                               0.0                        0.0  \n",
              "1                               0.0                        1.0  \n",
              "2                               0.0                        1.0  \n",
              "3                               0.0                        1.0  \n",
              "4                               1.0                        0.0  "
            ],
            "text/html": [
              "\n",
              "  <div id=\"df-8e6b18c3-9a04-47f7-ae8c-d6668f3de8cd\" class=\"colab-df-container\">\n",
              "    <div>\n",
              "<style scoped>\n",
              "    .dataframe tbody tr th:only-of-type {\n",
              "        vertical-align: middle;\n",
              "    }\n",
              "\n",
              "    .dataframe tbody tr th {\n",
              "        vertical-align: top;\n",
              "    }\n",
              "\n",
              "    .dataframe thead th {\n",
              "        text-align: right;\n",
              "    }\n",
              "</style>\n",
              "<table border=\"1\" class=\"dataframe\">\n",
              "  <thead>\n",
              "    <tr style=\"text-align: right;\">\n",
              "      <th></th>\n",
              "      <th>Monthly Income</th>\n",
              "      <th>latitude</th>\n",
              "      <th>Family size</th>\n",
              "      <th>Reviews</th>\n",
              "      <th>Pin code</th>\n",
              "      <th>Age</th>\n",
              "      <th>longitude</th>\n",
              "      <th>Educational Qualifications</th>\n",
              "      <th>Marital Status_Prefer not to say</th>\n",
              "      <th>Marital Status_Single</th>\n",
              "      <th>Gender_Male</th>\n",
              "      <th>employment_status_House wife</th>\n",
              "      <th>employment_status_Self Employeed</th>\n",
              "      <th>employment_status_Student</th>\n",
              "    </tr>\n",
              "  </thead>\n",
              "  <tbody>\n",
              "    <tr>\n",
              "      <th>0</th>\n",
              "      <td>0.75</td>\n",
              "      <td>0.679899</td>\n",
              "      <td>0.8</td>\n",
              "      <td>0.0</td>\n",
              "      <td>0.407407</td>\n",
              "      <td>0.791667</td>\n",
              "      <td>0.495620</td>\n",
              "      <td>0.75</td>\n",
              "      <td>0.0</td>\n",
              "      <td>0.0</td>\n",
              "      <td>1.0</td>\n",
              "      <td>0.0</td>\n",
              "      <td>0.0</td>\n",
              "      <td>0.0</td>\n",
              "    </tr>\n",
              "    <tr>\n",
              "      <th>1</th>\n",
              "      <td>0.00</td>\n",
              "      <td>0.472128</td>\n",
              "      <td>0.4</td>\n",
              "      <td>0.0</td>\n",
              "      <td>0.074074</td>\n",
              "      <td>0.458333</td>\n",
              "      <td>0.339781</td>\n",
              "      <td>0.75</td>\n",
              "      <td>0.0</td>\n",
              "      <td>1.0</td>\n",
              "      <td>1.0</td>\n",
              "      <td>0.0</td>\n",
              "      <td>0.0</td>\n",
              "      <td>1.0</td>\n",
              "    </tr>\n",
              "    <tr>\n",
              "      <th>2</th>\n",
              "      <td>0.00</td>\n",
              "      <td>0.472128</td>\n",
              "      <td>0.4</td>\n",
              "      <td>0.0</td>\n",
              "      <td>0.074074</td>\n",
              "      <td>0.458333</td>\n",
              "      <td>0.339781</td>\n",
              "      <td>0.75</td>\n",
              "      <td>0.0</td>\n",
              "      <td>1.0</td>\n",
              "      <td>0.0</td>\n",
              "      <td>0.0</td>\n",
              "      <td>0.0</td>\n",
              "      <td>1.0</td>\n",
              "    </tr>\n",
              "    <tr>\n",
              "      <th>3</th>\n",
              "      <td>0.00</td>\n",
              "      <td>0.577280</td>\n",
              "      <td>0.4</td>\n",
              "      <td>0.0</td>\n",
              "      <td>0.018519</td>\n",
              "      <td>0.458333</td>\n",
              "      <td>0.317883</td>\n",
              "      <td>0.75</td>\n",
              "      <td>0.0</td>\n",
              "      <td>1.0</td>\n",
              "      <td>0.0</td>\n",
              "      <td>0.0</td>\n",
              "      <td>0.0</td>\n",
              "      <td>1.0</td>\n",
              "    </tr>\n",
              "    <tr>\n",
              "      <th>4</th>\n",
              "      <td>1.00</td>\n",
              "      <td>0.833615</td>\n",
              "      <td>0.4</td>\n",
              "      <td>0.0</td>\n",
              "      <td>0.129630</td>\n",
              "      <td>0.458333</td>\n",
              "      <td>0.161314</td>\n",
              "      <td>0.25</td>\n",
              "      <td>0.0</td>\n",
              "      <td>0.0</td>\n",
              "      <td>1.0</td>\n",
              "      <td>0.0</td>\n",
              "      <td>1.0</td>\n",
              "      <td>0.0</td>\n",
              "    </tr>\n",
              "  </tbody>\n",
              "</table>\n",
              "</div>\n",
              "    <div class=\"colab-df-buttons\">\n",
              "\n",
              "  <div class=\"colab-df-container\">\n",
              "    <button class=\"colab-df-convert\" onclick=\"convertToInteractive('df-8e6b18c3-9a04-47f7-ae8c-d6668f3de8cd')\"\n",
              "            title=\"Convert this dataframe to an interactive table.\"\n",
              "            style=\"display:none;\">\n",
              "\n",
              "  <svg xmlns=\"http://www.w3.org/2000/svg\" height=\"24px\" viewBox=\"0 -960 960 960\">\n",
              "    <path d=\"M120-120v-720h720v720H120Zm60-500h600v-160H180v160Zm220 220h160v-160H400v160Zm0 220h160v-160H400v160ZM180-400h160v-160H180v160Zm440 0h160v-160H620v160ZM180-180h160v-160H180v160Zm440 0h160v-160H620v160Z\"/>\n",
              "  </svg>\n",
              "    </button>\n",
              "\n",
              "  <style>\n",
              "    .colab-df-container {\n",
              "      display:flex;\n",
              "      gap: 12px;\n",
              "    }\n",
              "\n",
              "    .colab-df-convert {\n",
              "      background-color: #E8F0FE;\n",
              "      border: none;\n",
              "      border-radius: 50%;\n",
              "      cursor: pointer;\n",
              "      display: none;\n",
              "      fill: #1967D2;\n",
              "      height: 32px;\n",
              "      padding: 0 0 0 0;\n",
              "      width: 32px;\n",
              "    }\n",
              "\n",
              "    .colab-df-convert:hover {\n",
              "      background-color: #E2EBFA;\n",
              "      box-shadow: 0px 1px 2px rgba(60, 64, 67, 0.3), 0px 1px 3px 1px rgba(60, 64, 67, 0.15);\n",
              "      fill: #174EA6;\n",
              "    }\n",
              "\n",
              "    .colab-df-buttons div {\n",
              "      margin-bottom: 4px;\n",
              "    }\n",
              "\n",
              "    [theme=dark] .colab-df-convert {\n",
              "      background-color: #3B4455;\n",
              "      fill: #D2E3FC;\n",
              "    }\n",
              "\n",
              "    [theme=dark] .colab-df-convert:hover {\n",
              "      background-color: #434B5C;\n",
              "      box-shadow: 0px 1px 3px 1px rgba(0, 0, 0, 0.15);\n",
              "      filter: drop-shadow(0px 1px 2px rgba(0, 0, 0, 0.3));\n",
              "      fill: #FFFFFF;\n",
              "    }\n",
              "  </style>\n",
              "\n",
              "    <script>\n",
              "      const buttonEl =\n",
              "        document.querySelector('#df-8e6b18c3-9a04-47f7-ae8c-d6668f3de8cd button.colab-df-convert');\n",
              "      buttonEl.style.display =\n",
              "        google.colab.kernel.accessAllowed ? 'block' : 'none';\n",
              "\n",
              "      async function convertToInteractive(key) {\n",
              "        const element = document.querySelector('#df-8e6b18c3-9a04-47f7-ae8c-d6668f3de8cd');\n",
              "        const dataTable =\n",
              "          await google.colab.kernel.invokeFunction('convertToInteractive',\n",
              "                                                    [key], {});\n",
              "        if (!dataTable) return;\n",
              "\n",
              "        const docLinkHtml = 'Like what you see? Visit the ' +\n",
              "          '<a target=\"_blank\" href=https://colab.research.google.com/notebooks/data_table.ipynb>data table notebook</a>'\n",
              "          + ' to learn more about interactive tables.';\n",
              "        element.innerHTML = '';\n",
              "        dataTable['output_type'] = 'display_data';\n",
              "        await google.colab.output.renderOutput(dataTable, element);\n",
              "        const docLink = document.createElement('div');\n",
              "        docLink.innerHTML = docLinkHtml;\n",
              "        element.appendChild(docLink);\n",
              "      }\n",
              "    </script>\n",
              "  </div>\n",
              "\n",
              "\n",
              "<div id=\"df-2e3ccef4-3a14-40fa-b659-1362f6b4f243\">\n",
              "  <button class=\"colab-df-quickchart\" onclick=\"quickchart('df-2e3ccef4-3a14-40fa-b659-1362f6b4f243')\"\n",
              "            title=\"Suggest charts\"\n",
              "            style=\"display:none;\">\n",
              "\n",
              "<svg xmlns=\"http://www.w3.org/2000/svg\" height=\"24px\"viewBox=\"0 0 24 24\"\n",
              "     width=\"24px\">\n",
              "    <g>\n",
              "        <path d=\"M19 3H5c-1.1 0-2 .9-2 2v14c0 1.1.9 2 2 2h14c1.1 0 2-.9 2-2V5c0-1.1-.9-2-2-2zM9 17H7v-7h2v7zm4 0h-2V7h2v10zm4 0h-2v-4h2v4z\"/>\n",
              "    </g>\n",
              "</svg>\n",
              "  </button>\n",
              "\n",
              "<style>\n",
              "  .colab-df-quickchart {\n",
              "      --bg-color: #E8F0FE;\n",
              "      --fill-color: #1967D2;\n",
              "      --hover-bg-color: #E2EBFA;\n",
              "      --hover-fill-color: #174EA6;\n",
              "      --disabled-fill-color: #AAA;\n",
              "      --disabled-bg-color: #DDD;\n",
              "  }\n",
              "\n",
              "  [theme=dark] .colab-df-quickchart {\n",
              "      --bg-color: #3B4455;\n",
              "      --fill-color: #D2E3FC;\n",
              "      --hover-bg-color: #434B5C;\n",
              "      --hover-fill-color: #FFFFFF;\n",
              "      --disabled-bg-color: #3B4455;\n",
              "      --disabled-fill-color: #666;\n",
              "  }\n",
              "\n",
              "  .colab-df-quickchart {\n",
              "    background-color: var(--bg-color);\n",
              "    border: none;\n",
              "    border-radius: 50%;\n",
              "    cursor: pointer;\n",
              "    display: none;\n",
              "    fill: var(--fill-color);\n",
              "    height: 32px;\n",
              "    padding: 0;\n",
              "    width: 32px;\n",
              "  }\n",
              "\n",
              "  .colab-df-quickchart:hover {\n",
              "    background-color: var(--hover-bg-color);\n",
              "    box-shadow: 0 1px 2px rgba(60, 64, 67, 0.3), 0 1px 3px 1px rgba(60, 64, 67, 0.15);\n",
              "    fill: var(--button-hover-fill-color);\n",
              "  }\n",
              "\n",
              "  .colab-df-quickchart-complete:disabled,\n",
              "  .colab-df-quickchart-complete:disabled:hover {\n",
              "    background-color: var(--disabled-bg-color);\n",
              "    fill: var(--disabled-fill-color);\n",
              "    box-shadow: none;\n",
              "  }\n",
              "\n",
              "  .colab-df-spinner {\n",
              "    border: 2px solid var(--fill-color);\n",
              "    border-color: transparent;\n",
              "    border-bottom-color: var(--fill-color);\n",
              "    animation:\n",
              "      spin 1s steps(1) infinite;\n",
              "  }\n",
              "\n",
              "  @keyframes spin {\n",
              "    0% {\n",
              "      border-color: transparent;\n",
              "      border-bottom-color: var(--fill-color);\n",
              "      border-left-color: var(--fill-color);\n",
              "    }\n",
              "    20% {\n",
              "      border-color: transparent;\n",
              "      border-left-color: var(--fill-color);\n",
              "      border-top-color: var(--fill-color);\n",
              "    }\n",
              "    30% {\n",
              "      border-color: transparent;\n",
              "      border-left-color: var(--fill-color);\n",
              "      border-top-color: var(--fill-color);\n",
              "      border-right-color: var(--fill-color);\n",
              "    }\n",
              "    40% {\n",
              "      border-color: transparent;\n",
              "      border-right-color: var(--fill-color);\n",
              "      border-top-color: var(--fill-color);\n",
              "    }\n",
              "    60% {\n",
              "      border-color: transparent;\n",
              "      border-right-color: var(--fill-color);\n",
              "    }\n",
              "    80% {\n",
              "      border-color: transparent;\n",
              "      border-right-color: var(--fill-color);\n",
              "      border-bottom-color: var(--fill-color);\n",
              "    }\n",
              "    90% {\n",
              "      border-color: transparent;\n",
              "      border-bottom-color: var(--fill-color);\n",
              "    }\n",
              "  }\n",
              "</style>\n",
              "\n",
              "  <script>\n",
              "    async function quickchart(key) {\n",
              "      const quickchartButtonEl =\n",
              "        document.querySelector('#' + key + ' button');\n",
              "      quickchartButtonEl.disabled = true;  // To prevent multiple clicks.\n",
              "      quickchartButtonEl.classList.add('colab-df-spinner');\n",
              "      try {\n",
              "        const charts = await google.colab.kernel.invokeFunction(\n",
              "            'suggestCharts', [key], {});\n",
              "      } catch (error) {\n",
              "        console.error('Error during call to suggestCharts:', error);\n",
              "      }\n",
              "      quickchartButtonEl.classList.remove('colab-df-spinner');\n",
              "      quickchartButtonEl.classList.add('colab-df-quickchart-complete');\n",
              "    }\n",
              "    (() => {\n",
              "      let quickchartButtonEl =\n",
              "        document.querySelector('#df-2e3ccef4-3a14-40fa-b659-1362f6b4f243 button');\n",
              "      quickchartButtonEl.style.display =\n",
              "        google.colab.kernel.accessAllowed ? 'block' : 'none';\n",
              "    })();\n",
              "  </script>\n",
              "</div>\n",
              "\n",
              "    </div>\n",
              "  </div>\n"
            ]
          },
          "metadata": {},
          "execution_count": 85
        }
      ]
    },
    {
      "cell_type": "code",
      "source": [],
      "metadata": {
        "id": "OetEsWk4-KKy"
      },
      "execution_count": null,
      "outputs": []
    }
  ]
}